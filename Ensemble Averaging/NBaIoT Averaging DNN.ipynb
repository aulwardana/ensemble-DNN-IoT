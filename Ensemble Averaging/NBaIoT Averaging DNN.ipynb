{
 "cells": [
  {
   "cell_type": "code",
   "execution_count": 1,
   "id": "ab9b9ee4",
   "metadata": {},
   "outputs": [],
   "source": [
    "import pandas as pd\n",
    "import numpy as np"
   ]
  },
  {
   "cell_type": "code",
   "execution_count": 3,
   "id": "59ff1337",
   "metadata": {},
   "outputs": [
    {
     "name": "stdout",
     "output_type": "stream",
     "text": [
      "Dataset statistic is 1018298 rows and 116 columns\n",
      "Dataset statistic is 355500 rows and 116 columns\n",
      "Dataset statistic is 835876 rows and 116 columns\n",
      "Dataset statistic is 1098677 rows and 116 columns\n",
      "Dataset statistic is 828260 rows and 116 columns\n",
      "Dataset statistic is 836891 rows and 116 columns\n",
      "Dataset statistic is 863056 rows and 116 columns\n",
      "Dataset statistic is 850826 rows and 116 columns\n",
      "Dataset statistic is 375222 rows and 116 columns\n"
     ]
    }
   ],
   "source": [
    "df_1 = pd.read_csv('/home/administrator/dataset/NBaIoT/Danmini_Doorbell/NBaIoT_1.csv')\n",
    "print(\"Dataset statistic is {} rows and {} columns\".format(df_1.shape[0],df_1.shape[1]))\n",
    "df_2 = pd.read_csv('/home/administrator/dataset/NBaIoT/Ennio_Doorbell/NBaIoT_2.csv')\n",
    "print(\"Dataset statistic is {} rows and {} columns\".format(df_2.shape[0],df_2.shape[1]))\n",
    "df_3 = pd.read_csv('/home/administrator/dataset/NBaIoT/Ecobee_Thermostat/NBaIoT_3.csv')\n",
    "print(\"Dataset statistic is {} rows and {} columns\".format(df_3.shape[0],df_3.shape[1]))\n",
    "df_4 = pd.read_csv('/home/administrator/dataset/NBaIoT/Philips_B120N10_Baby_Monitor/NBaIoT_4.csv')\n",
    "print(\"Dataset statistic is {} rows and {} columns\".format(df_4.shape[0],df_4.shape[1]))\n",
    "df_5 = pd.read_csv('/home/administrator/dataset/NBaIoT/Provision_PT_737E_Security_Camera/NBaIoT_5.csv')\n",
    "print(\"Dataset statistic is {} rows and {} columns\".format(df_5.shape[0],df_5.shape[1]))\n",
    "df_6 = pd.read_csv('/home/administrator/dataset/NBaIoT/Provision_PT_838_Security_Camera/NBaIoT_6.csv')\n",
    "print(\"Dataset statistic is {} rows and {} columns\".format(df_6.shape[0],df_6.shape[1]))\n",
    "df_7 = pd.read_csv('/home/administrator/dataset/NBaIoT/SimpleHome_XCS7_1002_WHT_Security_Camera/NBaIoT_7.csv')\n",
    "print(\"Dataset statistic is {} rows and {} columns\".format(df_7.shape[0],df_7.shape[1]))\n",
    "df_8 = pd.read_csv('/home/administrator/dataset/NBaIoT/SimpleHome_XCS7_1003_WHT_Security_Camera/NBaIoT_8.csv')\n",
    "print(\"Dataset statistic is {} rows and {} columns\".format(df_8.shape[0],df_8.shape[1]))\n",
    "df_9 = pd.read_csv('/home/administrator/dataset/NBaIoT/Samsung_SNH_1011_N_Webcam/NBaIoT_9.csv')\n",
    "print(\"Dataset statistic is {} rows and {} columns\".format(df_9.shape[0],df_9.shape[1]))"
   ]
  },
  {
   "cell_type": "code",
   "execution_count": 4,
   "id": "82d71006",
   "metadata": {},
   "outputs": [
    {
     "data": {
      "text/plain": [
       "Label\n",
       "mirai     652100\n",
       "gafgyt    316650\n",
       "BENIGN     49548\n",
       "Name: count, dtype: int64"
      ]
     },
     "execution_count": 4,
     "metadata": {},
     "output_type": "execute_result"
    }
   ],
   "source": [
    "df_1[\"Label\"].value_counts()"
   ]
  },
  {
   "cell_type": "code",
   "execution_count": 5,
   "id": "2565b67e",
   "metadata": {},
   "outputs": [
    {
     "data": {
      "text/plain": [
       "Label\n",
       "gafgyt    316400\n",
       "BENIGN     39100\n",
       "Name: count, dtype: int64"
      ]
     },
     "execution_count": 5,
     "metadata": {},
     "output_type": "execute_result"
    }
   ],
   "source": [
    "df_2[\"Label\"].value_counts()"
   ]
  },
  {
   "cell_type": "code",
   "execution_count": 6,
   "id": "2235b556",
   "metadata": {},
   "outputs": [
    {
     "data": {
      "text/plain": [
       "Label\n",
       "mirai     512133\n",
       "gafgyt    310630\n",
       "BENIGN     13113\n",
       "Name: count, dtype: int64"
      ]
     },
     "execution_count": 6,
     "metadata": {},
     "output_type": "execute_result"
    }
   ],
   "source": [
    "df_3[\"Label\"].value_counts()"
   ]
  },
  {
   "cell_type": "code",
   "execution_count": 7,
   "id": "31a3412a",
   "metadata": {},
   "outputs": [
    {
     "data": {
      "text/plain": [
       "Label\n",
       "mirai     610714\n",
       "gafgyt    312723\n",
       "BENIGN    175240\n",
       "Name: count, dtype: int64"
      ]
     },
     "execution_count": 7,
     "metadata": {},
     "output_type": "execute_result"
    }
   ],
   "source": [
    "df_4[\"Label\"].value_counts()"
   ]
  },
  {
   "cell_type": "code",
   "execution_count": 8,
   "id": "40aece0e",
   "metadata": {},
   "outputs": [
    {
     "data": {
      "text/plain": [
       "Label\n",
       "mirai     436010\n",
       "gafgyt    330096\n",
       "BENIGN     62154\n",
       "Name: count, dtype: int64"
      ]
     },
     "execution_count": 8,
     "metadata": {},
     "output_type": "execute_result"
    }
   ],
   "source": [
    "df_5[\"Label\"].value_counts()"
   ]
  },
  {
   "cell_type": "code",
   "execution_count": 9,
   "id": "22798438",
   "metadata": {},
   "outputs": [
    {
     "data": {
      "text/plain": [
       "Label\n",
       "mirai     429337\n",
       "gafgyt    309040\n",
       "BENIGN     98514\n",
       "Name: count, dtype: int64"
      ]
     },
     "execution_count": 9,
     "metadata": {},
     "output_type": "execute_result"
    }
   ],
   "source": [
    "df_6[\"Label\"].value_counts()"
   ]
  },
  {
   "cell_type": "code",
   "execution_count": 10,
   "id": "7f724b0b",
   "metadata": {},
   "outputs": [
    {
     "data": {
      "text/plain": [
       "Label\n",
       "mirai     513248\n",
       "gafgyt    303223\n",
       "BENIGN     46585\n",
       "Name: count, dtype: int64"
      ]
     },
     "execution_count": 10,
     "metadata": {},
     "output_type": "execute_result"
    }
   ],
   "source": [
    "df_7[\"Label\"].value_counts()"
   ]
  },
  {
   "cell_type": "code",
   "execution_count": 11,
   "id": "f42a8467",
   "metadata": {},
   "outputs": [
    {
     "data": {
      "text/plain": [
       "Label\n",
       "mirai     514860\n",
       "gafgyt    316438\n",
       "BENIGN     19528\n",
       "Name: count, dtype: int64"
      ]
     },
     "execution_count": 11,
     "metadata": {},
     "output_type": "execute_result"
    }
   ],
   "source": [
    "df_8[\"Label\"].value_counts()"
   ]
  },
  {
   "cell_type": "code",
   "execution_count": 12,
   "id": "7607c712",
   "metadata": {},
   "outputs": [
    {
     "data": {
      "text/plain": [
       "Label\n",
       "gafgyt    323072\n",
       "BENIGN     52150\n",
       "Name: count, dtype: int64"
      ]
     },
     "execution_count": 12,
     "metadata": {},
     "output_type": "execute_result"
    }
   ],
   "source": [
    "df_9[\"Label\"].value_counts()"
   ]
  },
  {
   "cell_type": "code",
   "execution_count": 13,
   "id": "7cb094c5",
   "metadata": {},
   "outputs": [],
   "source": [
    "from sklearn.model_selection import train_test_split"
   ]
  },
  {
   "cell_type": "code",
   "execution_count": 14,
   "id": "66bb73b6",
   "metadata": {},
   "outputs": [],
   "source": [
    "train_df_1, test_df_1 = train_test_split(df_1, test_size=0.3, random_state=100)\n",
    "pd.DataFrame(train_df_1).to_csv(\"dataset/NBaIoT/NBaIoT_1_train.csv\", index=False)\n",
    "pd.DataFrame(test_df_1).to_csv(\"dataset/NBaIoT/NBaIoT_1_test.csv\", index=False)"
   ]
  },
  {
   "cell_type": "code",
   "execution_count": 15,
   "id": "d17f54f0",
   "metadata": {},
   "outputs": [],
   "source": [
    "train_df_2, test_df_2 = train_test_split(df_2, test_size=0.3, random_state=100)\n",
    "pd.DataFrame(train_df_2).to_csv(\"dataset/NBaIoT/NBaIoT_2_train.csv\", index=False)\n",
    "pd.DataFrame(test_df_2).to_csv(\"dataset/NBaIoT/NBaIoT_2_test.csv\", index=False)"
   ]
  },
  {
   "cell_type": "code",
   "execution_count": 16,
   "id": "6f739721",
   "metadata": {},
   "outputs": [],
   "source": [
    "train_df_3, test_df_3 = train_test_split(df_3, test_size=0.3, random_state=100)\n",
    "pd.DataFrame(train_df_3).to_csv(\"dataset/NBaIoT/NBaIoT_3_train.csv\", index=False)\n",
    "pd.DataFrame(test_df_3).to_csv(\"dataset/NBaIoT/NBaIoT_3_test.csv\", index=False)"
   ]
  },
  {
   "cell_type": "code",
   "execution_count": 18,
   "id": "bada91e7",
   "metadata": {},
   "outputs": [],
   "source": [
    "train_df_4, test_df_4 = train_test_split(df_4, test_size=0.3, random_state=100)\n",
    "pd.DataFrame(train_df_4).to_csv(\"dataset/NBaIoT/NBaIoT_4_train.csv\", index=False)\n",
    "pd.DataFrame(test_df_4).to_csv(\"dataset/NBaIoT/NBaIoT_4_test.csv\", index=False)"
   ]
  },
  {
   "cell_type": "code",
   "execution_count": 19,
   "id": "a17d0d5a",
   "metadata": {},
   "outputs": [],
   "source": [
    "train_df_5, test_df_5 = train_test_split(df_5, test_size=0.3, random_state=100)\n",
    "pd.DataFrame(train_df_5).to_csv(\"dataset/NBaIoT/NBaIoT_5_train.csv\", index=False)\n",
    "pd.DataFrame(test_df_5).to_csv(\"dataset/NBaIoT/NBaIoT_5_test.csv\", index=False)"
   ]
  },
  {
   "cell_type": "code",
   "execution_count": 20,
   "id": "b1541464",
   "metadata": {},
   "outputs": [],
   "source": [
    "train_df_6, test_df_6 = train_test_split(df_6, test_size=0.3, random_state=100)\n",
    "pd.DataFrame(train_df_6).to_csv(\"dataset/NBaIoT/NBaIoT_6_train.csv\", index=False)\n",
    "pd.DataFrame(test_df_6).to_csv(\"dataset/NBaIoT/NBaIoT_6_test.csv\", index=False)"
   ]
  },
  {
   "cell_type": "code",
   "execution_count": 21,
   "id": "e18411bd",
   "metadata": {},
   "outputs": [],
   "source": [
    "train_df_7, test_df_7 = train_test_split(df_7, test_size=0.3, random_state=100)\n",
    "pd.DataFrame(train_df_7).to_csv(\"dataset/NBaIoT/NBaIoT_7_train.csv\", index=False)\n",
    "pd.DataFrame(test_df_7).to_csv(\"dataset/NBaIoT/NBaIoT_7_test.csv\", index=False)"
   ]
  },
  {
   "cell_type": "code",
   "execution_count": 22,
   "id": "de7f6059",
   "metadata": {},
   "outputs": [],
   "source": [
    "train_df_8, test_df_8 = train_test_split(df_8, test_size=0.3, random_state=100)\n",
    "pd.DataFrame(train_df_8).to_csv(\"dataset/NBaIoT/NBaIoT_8_train.csv\", index=False)\n",
    "pd.DataFrame(test_df_8).to_csv(\"dataset/NBaIoT/NBaIoT_8_test.csv\", index=False)"
   ]
  },
  {
   "cell_type": "code",
   "execution_count": 23,
   "id": "d2791693",
   "metadata": {},
   "outputs": [],
   "source": [
    "train_df_9, test_df_9 = train_test_split(df_9, test_size=0.3, random_state=100)\n",
    "pd.DataFrame(train_df_9).to_csv(\"dataset/NBaIoT/NBaIoT_9_train.csv\", index=False)\n",
    "pd.DataFrame(test_df_9).to_csv(\"dataset/NBaIoT/NBaIoT_9_test.csv\", index=False)"
   ]
  },
  {
   "cell_type": "code",
   "execution_count": 2,
   "id": "ce7ed305",
   "metadata": {},
   "outputs": [],
   "source": [
    "load_df_1_train = pd.read_csv('/home/administrator/dataset/NBaIoT/NBaIoT_1_train.csv')\n",
    "load_df_2_train = pd.read_csv('/home/administrator/dataset/NBaIoT/NBaIoT_2_train.csv')\n",
    "load_df_3_train = pd.read_csv('/home/administrator/dataset/NBaIoT/NBaIoT_3_train.csv')\n",
    "load_df_4_train = pd.read_csv('/home/administrator/dataset/NBaIoT/NBaIoT_4_train.csv')\n",
    "load_df_5_train = pd.read_csv('/home/administrator/dataset/NBaIoT/NBaIoT_5_train.csv')\n",
    "load_df_6_train = pd.read_csv('/home/administrator/dataset/NBaIoT/NBaIoT_6_train.csv')\n",
    "load_df_7_train = pd.read_csv('/home/administrator/dataset/NBaIoT/NBaIoT_7_train.csv')\n",
    "load_df_8_train = pd.read_csv('/home/administrator/dataset/NBaIoT/NBaIoT_8_train.csv')\n",
    "load_df_9_train = pd.read_csv('/home/administrator/dataset/NBaIoT/NBaIoT_9_train.csv')"
   ]
  },
  {
   "cell_type": "code",
   "execution_count": 3,
   "id": "e589812f",
   "metadata": {},
   "outputs": [],
   "source": [
    "load_df_1_test = pd.read_csv('/home/administrator/dataset/NBaIoT/NBaIoT_1_test.csv')\n",
    "load_df_2_test = pd.read_csv('/home/administrator/dataset/NBaIoT/NBaIoT_2_test.csv')\n",
    "load_df_3_test = pd.read_csv('/home/administrator/dataset/NBaIoT/NBaIoT_3_test.csv')\n",
    "load_df_4_test = pd.read_csv('/home/administrator/dataset/NBaIoT/NBaIoT_4_test.csv')\n",
    "load_df_5_test = pd.read_csv('/home/administrator/dataset/NBaIoT/NBaIoT_5_test.csv')\n",
    "load_df_6_test = pd.read_csv('/home/administrator/dataset/NBaIoT/NBaIoT_6_test.csv')\n",
    "load_df_7_test = pd.read_csv('/home/administrator/dataset/NBaIoT/NBaIoT_7_test.csv')\n",
    "load_df_8_test = pd.read_csv('/home/administrator/dataset/NBaIoT/NBaIoT_8_test.csv')\n",
    "load_df_9_test = pd.read_csv('/home/administrator/dataset/NBaIoT/NBaIoT_9_test.csv')"
   ]
  },
  {
   "cell_type": "code",
   "execution_count": 4,
   "id": "3f028b81",
   "metadata": {},
   "outputs": [],
   "source": [
    "label = {'BENIGN':1, 'gafgyt':2, 'mirai':3} "
   ]
  },
  {
   "cell_type": "code",
   "execution_count": 5,
   "id": "c9fae2c1",
   "metadata": {},
   "outputs": [],
   "source": [
    "load_df_1_train.Label = [label[item] for item in load_df_1_train.Label]\n",
    "load_df_2_train.Label = [label[item] for item in load_df_2_train.Label]\n",
    "load_df_3_train.Label = [label[item] for item in load_df_3_train.Label]\n",
    "load_df_4_train.Label = [label[item] for item in load_df_4_train.Label]\n",
    "load_df_5_train.Label = [label[item] for item in load_df_5_train.Label]\n",
    "load_df_6_train.Label = [label[item] for item in load_df_6_train.Label]\n",
    "load_df_7_train.Label = [label[item] for item in load_df_7_train.Label]\n",
    "load_df_8_train.Label = [label[item] for item in load_df_8_train.Label]\n",
    "load_df_9_train.Label = [label[item] for item in load_df_9_train.Label]"
   ]
  },
  {
   "cell_type": "code",
   "execution_count": 6,
   "id": "292026e6",
   "metadata": {},
   "outputs": [],
   "source": [
    "load_X_df_1_train = load_df_1_train.drop([\"Label\"],axis=1)\n",
    "load_X_df_2_train = load_df_2_train.drop([\"Label\"],axis=1)\n",
    "load_X_df_3_train = load_df_3_train.drop([\"Label\"],axis=1)\n",
    "load_X_df_4_train = load_df_4_train.drop([\"Label\"],axis=1)\n",
    "load_X_df_5_train = load_df_5_train.drop([\"Label\"],axis=1)\n",
    "load_X_df_6_train = load_df_6_train.drop([\"Label\"],axis=1)\n",
    "load_X_df_7_train = load_df_7_train.drop([\"Label\"],axis=1)\n",
    "load_X_df_8_train = load_df_8_train.drop([\"Label\"],axis=1)\n",
    "load_X_df_9_train = load_df_9_train.drop([\"Label\"],axis=1)"
   ]
  },
  {
   "cell_type": "code",
   "execution_count": 7,
   "id": "d7e1bdd1",
   "metadata": {},
   "outputs": [],
   "source": [
    "Y_df_1_train = load_df_1_train[\"Label\"]\n",
    "Y_df_2_train = load_df_2_train[\"Label\"]\n",
    "Y_df_3_train = load_df_3_train[\"Label\"]\n",
    "Y_df_4_train = load_df_4_train[\"Label\"]\n",
    "Y_df_5_train = load_df_5_train[\"Label\"]\n",
    "Y_df_6_train = load_df_6_train[\"Label\"]\n",
    "Y_df_7_train = load_df_7_train[\"Label\"]\n",
    "Y_df_8_train = load_df_8_train[\"Label\"]\n",
    "Y_df_9_train = load_df_9_train[\"Label\"]"
   ]
  },
  {
   "cell_type": "code",
   "execution_count": 8,
   "id": "157ea11d",
   "metadata": {},
   "outputs": [],
   "source": [
    "load_df_1_test.Label = [label[item] for item in load_df_1_test.Label]\n",
    "load_df_2_test.Label = [label[item] for item in load_df_2_test.Label]\n",
    "load_df_3_test.Label = [label[item] for item in load_df_3_test.Label]\n",
    "load_df_4_test.Label = [label[item] for item in load_df_4_test.Label]\n",
    "load_df_5_test.Label = [label[item] for item in load_df_5_test.Label]\n",
    "load_df_6_test.Label = [label[item] for item in load_df_6_test.Label]\n",
    "load_df_7_test.Label = [label[item] for item in load_df_7_test.Label]\n",
    "load_df_8_test.Label = [label[item] for item in load_df_8_test.Label]\n",
    "load_df_9_test.Label = [label[item] for item in load_df_9_test.Label]"
   ]
  },
  {
   "cell_type": "code",
   "execution_count": 9,
   "id": "c1290cc1",
   "metadata": {},
   "outputs": [],
   "source": [
    "load_X_df_1_test = load_df_1_test.drop([\"Label\"],axis=1)\n",
    "load_X_df_2_test = load_df_2_test.drop([\"Label\"],axis=1)\n",
    "load_X_df_3_test = load_df_3_test.drop([\"Label\"],axis=1)\n",
    "load_X_df_4_test = load_df_4_test.drop([\"Label\"],axis=1)\n",
    "load_X_df_5_test = load_df_5_test.drop([\"Label\"],axis=1)\n",
    "load_X_df_6_test = load_df_6_test.drop([\"Label\"],axis=1)\n",
    "load_X_df_7_test = load_df_7_test.drop([\"Label\"],axis=1)\n",
    "load_X_df_8_test = load_df_8_test.drop([\"Label\"],axis=1)\n",
    "load_X_df_9_test = load_df_9_test.drop([\"Label\"],axis=1)"
   ]
  },
  {
   "cell_type": "code",
   "execution_count": 10,
   "id": "3d95679a",
   "metadata": {},
   "outputs": [],
   "source": [
    "Y_df_1_test = load_df_1_test[\"Label\"]\n",
    "Y_df_2_test = load_df_2_test[\"Label\"]\n",
    "Y_df_3_test = load_df_3_test[\"Label\"]\n",
    "Y_df_4_test = load_df_4_test[\"Label\"]\n",
    "Y_df_5_test = load_df_5_test[\"Label\"]\n",
    "Y_df_6_test = load_df_6_test[\"Label\"]\n",
    "Y_df_7_test = load_df_7_test[\"Label\"]\n",
    "Y_df_8_test = load_df_8_test[\"Label\"]\n",
    "Y_df_9_test = load_df_9_test[\"Label\"]"
   ]
  },
  {
   "cell_type": "code",
   "execution_count": 11,
   "id": "8d2cfa98",
   "metadata": {},
   "outputs": [],
   "source": [
    "from sklearn.preprocessing import StandardScaler\n",
    "scaler = StandardScaler()"
   ]
  },
  {
   "cell_type": "code",
   "execution_count": 12,
   "id": "a8382d09",
   "metadata": {},
   "outputs": [],
   "source": [
    "X_df_1_train = scaler.fit_transform(load_X_df_1_train)\n",
    "X_df_2_train = scaler.fit_transform(load_X_df_2_train)\n",
    "X_df_3_train = scaler.fit_transform(load_X_df_3_train)\n",
    "X_df_4_train = scaler.fit_transform(load_X_df_4_train)\n",
    "X_df_5_train = scaler.fit_transform(load_X_df_5_train)\n",
    "X_df_6_train = scaler.fit_transform(load_X_df_6_train)\n",
    "X_df_7_train = scaler.fit_transform(load_X_df_7_train)\n",
    "X_df_8_train = scaler.fit_transform(load_X_df_8_train)\n",
    "X_df_9_train = scaler.fit_transform(load_X_df_9_train)"
   ]
  },
  {
   "cell_type": "code",
   "execution_count": 13,
   "id": "dc3d7721",
   "metadata": {},
   "outputs": [],
   "source": [
    "X_df_1_test = scaler.fit_transform(load_X_df_1_test)\n",
    "X_df_2_test = scaler.fit_transform(load_X_df_2_test)\n",
    "X_df_3_test = scaler.fit_transform(load_X_df_3_test)\n",
    "X_df_4_test = scaler.fit_transform(load_X_df_4_test)\n",
    "X_df_5_test = scaler.fit_transform(load_X_df_5_test)\n",
    "X_df_6_test = scaler.fit_transform(load_X_df_6_test)\n",
    "X_df_7_test = scaler.fit_transform(load_X_df_7_test)\n",
    "X_df_8_test = scaler.fit_transform(load_X_df_8_test)\n",
    "X_df_9_test = scaler.fit_transform(load_X_df_9_test)"
   ]
  },
  {
   "cell_type": "code",
   "execution_count": 14,
   "id": "52679c16",
   "metadata": {},
   "outputs": [
    {
     "name": "stderr",
     "output_type": "stream",
     "text": [
      "2024-01-18 20:15:39.648801: I tensorflow/tsl/cuda/cudart_stub.cc:28] Could not find cuda drivers on your machine, GPU will not be used.\n",
      "2024-01-18 20:15:39.706922: I tensorflow/tsl/cuda/cudart_stub.cc:28] Could not find cuda drivers on your machine, GPU will not be used.\n",
      "2024-01-18 20:15:39.708870: I tensorflow/core/platform/cpu_feature_guard.cc:182] This TensorFlow binary is optimized to use available CPU instructions in performance-critical operations.\n",
      "To enable the following instructions: AVX2 FMA, in other operations, rebuild TensorFlow with the appropriate compiler flags.\n",
      "2024-01-18 20:15:40.718707: W tensorflow/compiler/tf2tensorrt/utils/py_utils.cc:38] TF-TRT Warning: Could not find TensorRT\n"
     ]
    }
   ],
   "source": [
    "from keras.models import Sequential\n",
    "from keras.layers import Dense\n",
    "from sklearn.preprocessing import LabelEncoder\n",
    "from keras.utils import to_categorical"
   ]
  },
  {
   "cell_type": "code",
   "execution_count": 15,
   "id": "924286ec",
   "metadata": {},
   "outputs": [],
   "source": [
    "from keras.metrics import Recall, Precision"
   ]
  },
  {
   "cell_type": "code",
   "execution_count": 16,
   "id": "82c29ef1",
   "metadata": {},
   "outputs": [],
   "source": [
    "import keras.backend as K\n",
    "import tensorflow as tf\n",
    "\n",
    "def f1_score(y_true, y_pred):\n",
    "    true_positives = K.sum(K.round(K.clip(y_true * y_pred, 0, 1)))\n",
    "    possible_positives = K.sum(K.round(K.clip(y_true, 0, 1)))\n",
    "    predicted_positives = K.sum(K.round(K.clip(y_pred, 0, 1)))\n",
    "    precision = true_positives / (predicted_positives + K.epsilon())\n",
    "    recall = true_positives / (possible_positives + K.epsilon())\n",
    "    f1_val = 2*(precision*recall)/(precision+recall+K.epsilon())\n",
    "    return f1_val"
   ]
  },
  {
   "cell_type": "code",
   "execution_count": 17,
   "id": "98bab58e",
   "metadata": {},
   "outputs": [],
   "source": [
    "def fit_model(trainX, trainy):\n",
    "    model = Sequential()\n",
    "    model.add(Dense(13, input_dim=115, activation='relu'))\n",
    "    model.add(Dense(11, activation='relu'))\n",
    "    model.add(Dense(9, activation='relu'))\n",
    "    model.add(Dense(7, activation='relu'))\n",
    "    model.add(Dense(3, activation='softmax')) \n",
    "    model.compile(loss='categorical_crossentropy', optimizer='adam', metrics=['accuracy', Recall(), Precision(), f1_score])\n",
    "    \n",
    "    model.fit(trainX, trainy, epochs=10, batch_size=1000, verbose=1)\n",
    "    return model"
   ]
  },
  {
   "cell_type": "code",
   "execution_count": 18,
   "id": "08ddebc2",
   "metadata": {},
   "outputs": [
    {
     "name": "stdout",
     "output_type": "stream",
     "text": [
      "[[0. 1. 0.]\n",
      " [0. 0. 1.]\n",
      " [0. 0. 1.]\n",
      " ...\n",
      " [0. 1. 0.]\n",
      " [0. 1. 0.]\n",
      " [0. 0. 1.]]\n"
     ]
    }
   ],
   "source": [
    "encoder_Y_train_df_1 = LabelEncoder()\n",
    "encoder_Y_train_df_1.fit(Y_df_1_train)\n",
    "transform_Y_train_df_1 = encoder_Y_train_df_1.transform(Y_df_1_train)\n",
    "encoded_Y_train_df_1 = to_categorical(transform_Y_train_df_1, num_classes=3)\n",
    "print(encoded_Y_train_df_1)"
   ]
  },
  {
   "cell_type": "code",
   "execution_count": 19,
   "id": "edb96f30",
   "metadata": {},
   "outputs": [
    {
     "name": "stdout",
     "output_type": "stream",
     "text": [
      "[[0. 1. 0.]\n",
      " [0. 1. 0.]\n",
      " [0. 1. 0.]\n",
      " ...\n",
      " [0. 1. 0.]\n",
      " [0. 1. 0.]\n",
      " [0. 1. 0.]]\n"
     ]
    }
   ],
   "source": [
    "encoder_Y_train_df_2 = LabelEncoder()\n",
    "encoder_Y_train_df_2.fit(Y_df_2_train)\n",
    "transform_Y_train_df_2 = encoder_Y_train_df_2.transform(Y_df_2_train)\n",
    "encoded_Y_train_df_2 = to_categorical(transform_Y_train_df_2, num_classes=3)\n",
    "print(encoded_Y_train_df_2)"
   ]
  },
  {
   "cell_type": "code",
   "execution_count": 20,
   "id": "4ddaec83",
   "metadata": {},
   "outputs": [
    {
     "name": "stdout",
     "output_type": "stream",
     "text": [
      "[[0. 1. 0.]\n",
      " [0. 1. 0.]\n",
      " [0. 0. 1.]\n",
      " ...\n",
      " [0. 1. 0.]\n",
      " [0. 1. 0.]\n",
      " [0. 0. 1.]]\n"
     ]
    }
   ],
   "source": [
    "encoder_Y_train_df_3 = LabelEncoder()\n",
    "encoder_Y_train_df_3.fit(Y_df_3_train)\n",
    "transform_Y_train_df_3 = encoder_Y_train_df_3.transform(Y_df_3_train)\n",
    "encoded_Y_train_df_3 = to_categorical(transform_Y_train_df_3, num_classes=3)\n",
    "print(encoded_Y_train_df_3)"
   ]
  },
  {
   "cell_type": "code",
   "execution_count": 21,
   "id": "71023073",
   "metadata": {},
   "outputs": [
    {
     "name": "stdout",
     "output_type": "stream",
     "text": [
      "[[0. 0. 1.]\n",
      " [0. 1. 0.]\n",
      " [0. 1. 0.]\n",
      " ...\n",
      " [1. 0. 0.]\n",
      " [0. 0. 1.]\n",
      " [0. 1. 0.]]\n"
     ]
    }
   ],
   "source": [
    "encoder_Y_train_df_4 = LabelEncoder()\n",
    "encoder_Y_train_df_4.fit(Y_df_4_train)\n",
    "transform_Y_train_df_4 = encoder_Y_train_df_4.transform(Y_df_4_train)\n",
    "encoded_Y_train_df_4 = to_categorical(transform_Y_train_df_4, num_classes=3)\n",
    "print(encoded_Y_train_df_4)"
   ]
  },
  {
   "cell_type": "code",
   "execution_count": 22,
   "id": "97227b5b",
   "metadata": {},
   "outputs": [
    {
     "name": "stdout",
     "output_type": "stream",
     "text": [
      "[[0. 0. 1.]\n",
      " [0. 1. 0.]\n",
      " [0. 0. 1.]\n",
      " ...\n",
      " [0. 1. 0.]\n",
      " [1. 0. 0.]\n",
      " [0. 0. 1.]]\n"
     ]
    }
   ],
   "source": [
    "encoder_Y_train_df_5 = LabelEncoder()\n",
    "encoder_Y_train_df_5.fit(Y_df_5_train)\n",
    "transform_Y_train_df_5 = encoder_Y_train_df_5.transform(Y_df_5_train)\n",
    "encoded_Y_train_df_5 = to_categorical(transform_Y_train_df_5, num_classes=3)\n",
    "print(encoded_Y_train_df_5)"
   ]
  },
  {
   "cell_type": "code",
   "execution_count": 23,
   "id": "8a4df843",
   "metadata": {},
   "outputs": [
    {
     "name": "stdout",
     "output_type": "stream",
     "text": [
      "[[0. 1. 0.]\n",
      " [0. 0. 1.]\n",
      " [1. 0. 0.]\n",
      " ...\n",
      " [0. 1. 0.]\n",
      " [1. 0. 0.]\n",
      " [0. 0. 1.]]\n"
     ]
    }
   ],
   "source": [
    "encoder_Y_train_df_6 = LabelEncoder()\n",
    "encoder_Y_train_df_6.fit(Y_df_6_train)\n",
    "transform_Y_train_df_6 = encoder_Y_train_df_6.transform(Y_df_6_train)\n",
    "encoded_Y_train_df_6 = to_categorical(transform_Y_train_df_6, num_classes=3)\n",
    "print(encoded_Y_train_df_6)"
   ]
  },
  {
   "cell_type": "code",
   "execution_count": 24,
   "id": "2d989090",
   "metadata": {},
   "outputs": [
    {
     "name": "stdout",
     "output_type": "stream",
     "text": [
      "[[0. 1. 0.]\n",
      " [0. 0. 1.]\n",
      " [0. 0. 1.]\n",
      " ...\n",
      " [0. 1. 0.]\n",
      " [0. 1. 0.]\n",
      " [0. 0. 1.]]\n"
     ]
    }
   ],
   "source": [
    "encoder_Y_train_df_7 = LabelEncoder()\n",
    "encoder_Y_train_df_7.fit(Y_df_7_train)\n",
    "transform_Y_train_df_7 = encoder_Y_train_df_7.transform(Y_df_7_train)\n",
    "encoded_Y_train_df_7 = to_categorical(transform_Y_train_df_7, num_classes=3)\n",
    "print(encoded_Y_train_df_7)"
   ]
  },
  {
   "cell_type": "code",
   "execution_count": 25,
   "id": "bf653616",
   "metadata": {},
   "outputs": [
    {
     "name": "stdout",
     "output_type": "stream",
     "text": [
      "[[0. 1. 0.]\n",
      " [0. 0. 1.]\n",
      " [0. 0. 1.]\n",
      " ...\n",
      " [0. 1. 0.]\n",
      " [0. 1. 0.]\n",
      " [0. 0. 1.]]\n"
     ]
    }
   ],
   "source": [
    "encoder_Y_train_df_8 = LabelEncoder()\n",
    "encoder_Y_train_df_8.fit(Y_df_8_train)\n",
    "transform_Y_train_df_8 = encoder_Y_train_df_8.transform(Y_df_8_train)\n",
    "encoded_Y_train_df_8 = to_categorical(transform_Y_train_df_8, num_classes=3)\n",
    "print(encoded_Y_train_df_8)"
   ]
  },
  {
   "cell_type": "code",
   "execution_count": 26,
   "id": "37dbc375",
   "metadata": {},
   "outputs": [
    {
     "name": "stdout",
     "output_type": "stream",
     "text": [
      "[[0. 1. 0.]\n",
      " [0. 1. 0.]\n",
      " [1. 0. 0.]\n",
      " ...\n",
      " [0. 1. 0.]\n",
      " [0. 1. 0.]\n",
      " [0. 1. 0.]]\n"
     ]
    }
   ],
   "source": [
    "encoder_Y_train_df_9 = LabelEncoder()\n",
    "encoder_Y_train_df_9.fit(Y_df_9_train)\n",
    "transform_Y_train_df_9 = encoder_Y_train_df_9.transform(Y_df_9_train)\n",
    "encoded_Y_train_df_9 = to_categorical(transform_Y_train_df_9, num_classes=3)\n",
    "print(encoded_Y_train_df_9)"
   ]
  },
  {
   "cell_type": "code",
   "execution_count": 27,
   "id": "1775b610",
   "metadata": {},
   "outputs": [
    {
     "name": "stdout",
     "output_type": "stream",
     "text": [
      "Epoch 1/10\n",
      "713/713 [==============================] - 4s 4ms/step - loss: 0.0963 - accuracy: 0.9709 - recall: 0.9500 - precision: 0.9832 - f1_score: 0.9574\n",
      "Epoch 2/10\n",
      "713/713 [==============================] - 3s 4ms/step - loss: 0.0041 - accuracy: 0.9994 - recall: 0.9994 - precision: 0.9994 - f1_score: 0.9994\n",
      "Epoch 3/10\n",
      "713/713 [==============================] - 3s 4ms/step - loss: 0.0023 - accuracy: 0.9996 - recall: 0.9996 - precision: 0.9996 - f1_score: 0.9996\n",
      "Epoch 4/10\n",
      "713/713 [==============================] - 3s 4ms/step - loss: 0.0018 - accuracy: 0.9997 - recall: 0.9997 - precision: 0.9997 - f1_score: 0.9997\n",
      "Epoch 5/10\n",
      "713/713 [==============================] - 3s 4ms/step - loss: 0.0015 - accuracy: 0.9997 - recall: 0.9997 - precision: 0.9997 - f1_score: 0.9997\n",
      "Epoch 6/10\n",
      "713/713 [==============================] - 3s 4ms/step - loss: 0.0012 - accuracy: 0.9998 - recall: 0.9998 - precision: 0.9998 - f1_score: 0.9998\n",
      "Epoch 7/10\n",
      "713/713 [==============================] - 3s 4ms/step - loss: 0.0011 - accuracy: 0.9998 - recall: 0.9998 - precision: 0.9998 - f1_score: 0.9998\n",
      "Epoch 8/10\n",
      "713/713 [==============================] - 3s 4ms/step - loss: 9.6809e-04 - accuracy: 0.9998 - recall: 0.9998 - precision: 0.9998 - f1_score: 0.9998\n",
      "Epoch 9/10\n",
      "713/713 [==============================] - 3s 4ms/step - loss: 8.6318e-04 - accuracy: 0.9998 - recall: 0.9998 - precision: 0.9998 - f1_score: 0.9998\n",
      "Epoch 10/10\n",
      "713/713 [==============================] - 3s 4ms/step - loss: 8.2190e-04 - accuracy: 0.9998 - recall: 0.9998 - precision: 0.9998 - f1_score: 0.9998\n",
      ">Saved models/model_df_1dnn.h5\n"
     ]
    },
    {
     "name": "stderr",
     "output_type": "stream",
     "text": [
      "/usr/local/lib/python3.10/dist-packages/keras/src/engine/training.py:3000: UserWarning: You are saving your model as an HDF5 file via `model.save()`. This file format is considered legacy. We recommend using instead the native Keras format, e.g. `model.save('my_model.keras')`.\n",
      "  saving_api.save_model(\n"
     ]
    }
   ],
   "source": [
    "model_df_1 = fit_model(X_df_1_train, encoded_Y_train_df_1)\n",
    "\n",
    "filename_df_1 = 'models/model_df_1dnn.h5'\n",
    "model_df_1.save(filename_df_1)\n",
    "print('>Saved %s' % filename_df_1)"
   ]
  },
  {
   "cell_type": "code",
   "execution_count": 28,
   "id": "d1c3f879",
   "metadata": {},
   "outputs": [
    {
     "name": "stdout",
     "output_type": "stream",
     "text": [
      "Epoch 1/10\n",
      "249/249 [==============================] - 2s 4ms/step - loss: 0.2330 - accuracy: 0.9282 - recall_1: 0.8435 - precision_1: 0.9850 - f1_score: 0.8983\n",
      "Epoch 2/10\n",
      "249/249 [==============================] - 1s 4ms/step - loss: 0.0306 - accuracy: 0.9992 - recall_1: 0.9798 - precision_1: 0.9994 - f1_score: 0.9891\n",
      "Epoch 3/10\n",
      "249/249 [==============================] - 1s 4ms/step - loss: 0.0020 - accuracy: 0.9997 - recall_1: 0.9996 - precision_1: 0.9997 - f1_score: 0.9996\n",
      "Epoch 4/10\n",
      "249/249 [==============================] - 1s 4ms/step - loss: 0.0017 - accuracy: 0.9997 - recall_1: 0.9996 - precision_1: 0.9997 - f1_score: 0.9996\n",
      "Epoch 5/10\n",
      "249/249 [==============================] - 1s 4ms/step - loss: 0.0014 - accuracy: 0.9997 - recall_1: 0.9997 - precision_1: 0.9997 - f1_score: 0.9997\n",
      "Epoch 6/10\n",
      "249/249 [==============================] - 1s 4ms/step - loss: 0.0012 - accuracy: 0.9997 - recall_1: 0.9997 - precision_1: 0.9997 - f1_score: 0.9997\n",
      "Epoch 7/10\n",
      "249/249 [==============================] - 1s 4ms/step - loss: 0.0012 - accuracy: 0.9997 - recall_1: 0.9997 - precision_1: 0.9997 - f1_score: 0.9997\n",
      "Epoch 8/10\n",
      "249/249 [==============================] - 1s 4ms/step - loss: 0.0011 - accuracy: 0.9998 - recall_1: 0.9997 - precision_1: 0.9998 - f1_score: 0.9998\n",
      "Epoch 9/10\n",
      "249/249 [==============================] - 1s 4ms/step - loss: 9.9854e-04 - accuracy: 0.9998 - recall_1: 0.9998 - precision_1: 0.9998 - f1_score: 0.9998\n",
      "Epoch 10/10\n",
      "249/249 [==============================] - 1s 4ms/step - loss: 9.4467e-04 - accuracy: 0.9998 - recall_1: 0.9998 - precision_1: 0.9998 - f1_score: 0.9998\n",
      ">Saved models/model_df_2dnn.h5\n"
     ]
    }
   ],
   "source": [
    "model_df_2 = fit_model(X_df_2_train, encoded_Y_train_df_2)\n",
    "\n",
    "filename_df_2 = 'models/model_df_2dnn.h5'\n",
    "model_df_2.save(filename_df_2)\n",
    "print('>Saved %s' % filename_df_2)"
   ]
  },
  {
   "cell_type": "code",
   "execution_count": 29,
   "id": "5b92ae43",
   "metadata": {},
   "outputs": [
    {
     "name": "stdout",
     "output_type": "stream",
     "text": [
      "Epoch 1/10\n",
      "586/586 [==============================] - 3s 4ms/step - loss: 0.1739 - accuracy: 0.9460 - recall_2: 0.8920 - precision_2: 0.9703 - f1_score: 0.9076\n",
      "Epoch 2/10\n",
      "586/586 [==============================] - 2s 4ms/step - loss: 0.0126 - accuracy: 0.9964 - recall_2: 0.9963 - precision_2: 0.9964 - f1_score: 0.9964\n",
      "Epoch 3/10\n",
      "586/586 [==============================] - 2s 4ms/step - loss: 0.0066 - accuracy: 0.9984 - recall_2: 0.9984 - precision_2: 0.9984 - f1_score: 0.9984\n",
      "Epoch 4/10\n",
      "586/586 [==============================] - 2s 4ms/step - loss: 0.0040 - accuracy: 0.9991 - recall_2: 0.9991 - precision_2: 0.9991 - f1_score: 0.9991\n",
      "Epoch 5/10\n",
      "586/586 [==============================] - 2s 4ms/step - loss: 0.0029 - accuracy: 0.9994 - recall_2: 0.9994 - precision_2: 0.9994 - f1_score: 0.9994\n",
      "Epoch 6/10\n",
      "586/586 [==============================] - 2s 4ms/step - loss: 0.0025 - accuracy: 0.9996 - recall_2: 0.9996 - precision_2: 0.9996 - f1_score: 0.9996\n",
      "Epoch 7/10\n",
      "586/586 [==============================] - 2s 4ms/step - loss: 0.0020 - accuracy: 0.9997 - recall_2: 0.9997 - precision_2: 0.9997 - f1_score: 0.9997\n",
      "Epoch 8/10\n",
      "586/586 [==============================] - 2s 4ms/step - loss: 0.0017 - accuracy: 0.9997 - recall_2: 0.9997 - precision_2: 0.9997 - f1_score: 0.9997\n",
      "Epoch 9/10\n",
      "586/586 [==============================] - 2s 4ms/step - loss: 0.0014 - accuracy: 0.9997 - recall_2: 0.9997 - precision_2: 0.9998 - f1_score: 0.9997\n",
      "Epoch 10/10\n",
      "586/586 [==============================] - 2s 4ms/step - loss: 0.0014 - accuracy: 0.9997 - recall_2: 0.9997 - precision_2: 0.9998 - f1_score: 0.9998\n",
      ">Saved models/model_df_3dnn.h5\n"
     ]
    }
   ],
   "source": [
    "model_df_3 = fit_model(X_df_3_train, encoded_Y_train_df_3)\n",
    "\n",
    "filename_df_3 = 'models/model_df_3dnn.h5'\n",
    "model_df_3.save(filename_df_3)\n",
    "print('>Saved %s' % filename_df_3)"
   ]
  },
  {
   "cell_type": "code",
   "execution_count": 30,
   "id": "05f20c1d",
   "metadata": {},
   "outputs": [
    {
     "name": "stdout",
     "output_type": "stream",
     "text": [
      "Epoch 1/10\n",
      "770/770 [==============================] - 4s 4ms/step - loss: 0.1522 - accuracy: 0.9653 - recall_3: 0.8890 - precision_3: 0.9949 - f1_score: 0.9112\n",
      "Epoch 2/10\n",
      "770/770 [==============================] - 3s 4ms/step - loss: 0.0031 - accuracy: 0.9995 - recall_3: 0.9994 - precision_3: 0.9995 - f1_score: 0.9995\n",
      "Epoch 3/10\n",
      "770/770 [==============================] - 3s 4ms/step - loss: 0.0021 - accuracy: 0.9996 - recall_3: 0.9996 - precision_3: 0.9996 - f1_score: 0.9996\n",
      "Epoch 4/10\n",
      "770/770 [==============================] - 3s 4ms/step - loss: 0.0017 - accuracy: 0.9996 - recall_3: 0.9996 - precision_3: 0.9997 - f1_score: 0.9997\n",
      "Epoch 5/10\n",
      "770/770 [==============================] - 3s 4ms/step - loss: 0.0015 - accuracy: 0.9997 - recall_3: 0.9997 - precision_3: 0.9997 - f1_score: 0.9997\n",
      "Epoch 6/10\n",
      "770/770 [==============================] - 3s 4ms/step - loss: 0.0013 - accuracy: 0.9997 - recall_3: 0.9997 - precision_3: 0.9997 - f1_score: 0.9997\n",
      "Epoch 7/10\n",
      "770/770 [==============================] - 3s 4ms/step - loss: 0.0012 - accuracy: 0.9997 - recall_3: 0.9997 - precision_3: 0.9998 - f1_score: 0.9998\n",
      "Epoch 8/10\n",
      "770/770 [==============================] - 3s 4ms/step - loss: 0.0010 - accuracy: 0.9998 - recall_3: 0.9998 - precision_3: 0.9998 - f1_score: 0.9998\n",
      "Epoch 9/10\n",
      "770/770 [==============================] - 3s 4ms/step - loss: 9.7791e-04 - accuracy: 0.9998 - recall_3: 0.9998 - precision_3: 0.9998 - f1_score: 0.9998\n",
      "Epoch 10/10\n",
      "770/770 [==============================] - 3s 4ms/step - loss: 8.3918e-04 - accuracy: 0.9998 - recall_3: 0.9998 - precision_3: 0.9998 - f1_score: 0.9998\n",
      ">Saved models/model_df_4dnn.h5\n"
     ]
    }
   ],
   "source": [
    "model_df_4 = fit_model(X_df_4_train, encoded_Y_train_df_4)\n",
    "\n",
    "filename_df_4 = 'models/model_df_4dnn.h5'\n",
    "model_df_4.save(filename_df_4)\n",
    "print('>Saved %s' % filename_df_4)"
   ]
  },
  {
   "cell_type": "code",
   "execution_count": 31,
   "id": "e63db174",
   "metadata": {},
   "outputs": [
    {
     "name": "stdout",
     "output_type": "stream",
     "text": [
      "Epoch 1/10\n",
      "580/580 [==============================] - 3s 4ms/step - loss: 0.1371 - accuracy: 0.9658 - recall_4: 0.9051 - precision_4: 0.9907 - f1_score: 0.9228\n",
      "Epoch 2/10\n",
      "580/580 [==============================] - 2s 4ms/step - loss: 0.0056 - accuracy: 0.9990 - recall_4: 0.9990 - precision_4: 0.9990 - f1_score: 0.9990\n",
      "Epoch 3/10\n",
      "580/580 [==============================] - 2s 4ms/step - loss: 0.0035 - accuracy: 0.9994 - recall_4: 0.9993 - precision_4: 0.9994 - f1_score: 0.9994\n",
      "Epoch 4/10\n",
      "580/580 [==============================] - 2s 4ms/step - loss: 0.0029 - accuracy: 0.9995 - recall_4: 0.9995 - precision_4: 0.9995 - f1_score: 0.9995\n",
      "Epoch 5/10\n",
      "580/580 [==============================] - 2s 4ms/step - loss: 0.0024 - accuracy: 0.9996 - recall_4: 0.9996 - precision_4: 0.9996 - f1_score: 0.9996\n",
      "Epoch 6/10\n",
      "580/580 [==============================] - 2s 4ms/step - loss: 0.0022 - accuracy: 0.9996 - recall_4: 0.9996 - precision_4: 0.9996 - f1_score: 0.9996\n",
      "Epoch 7/10\n",
      "580/580 [==============================] - 2s 4ms/step - loss: 0.0020 - accuracy: 0.9997 - recall_4: 0.9997 - precision_4: 0.9997 - f1_score: 0.9997\n",
      "Epoch 8/10\n",
      "580/580 [==============================] - 2s 4ms/step - loss: 0.0018 - accuracy: 0.9997 - recall_4: 0.9997 - precision_4: 0.9997 - f1_score: 0.9997\n",
      "Epoch 9/10\n",
      "580/580 [==============================] - 2s 4ms/step - loss: 0.0017 - accuracy: 0.9997 - recall_4: 0.9997 - precision_4: 0.9997 - f1_score: 0.9997\n",
      "Epoch 10/10\n",
      "580/580 [==============================] - 2s 4ms/step - loss: 0.0016 - accuracy: 0.9997 - recall_4: 0.9997 - precision_4: 0.9997 - f1_score: 0.9997\n",
      ">Saved models/model_df_5dnn.h5\n"
     ]
    }
   ],
   "source": [
    "model_df_5 = fit_model(X_df_5_train, encoded_Y_train_df_5)\n",
    "\n",
    "filename_df_5 = 'models/model_df_5dnn.h5'\n",
    "model_df_5.save(filename_df_5)\n",
    "print('>Saved %s' % filename_df_5)"
   ]
  },
  {
   "cell_type": "code",
   "execution_count": 32,
   "id": "5eef7809",
   "metadata": {},
   "outputs": [
    {
     "name": "stdout",
     "output_type": "stream",
     "text": [
      "Epoch 1/10\n",
      "586/586 [==============================] - 3s 4ms/step - loss: 0.1472 - accuracy: 0.9562 - recall_5: 0.9010 - precision_5: 0.9878 - f1_score: 0.9169\n",
      "Epoch 2/10\n",
      "586/586 [==============================] - 2s 4ms/step - loss: 0.0046 - accuracy: 0.9993 - recall_5: 0.9993 - precision_5: 0.9993 - f1_score: 0.9993\n",
      "Epoch 3/10\n",
      "586/586 [==============================] - 2s 4ms/step - loss: 0.0029 - accuracy: 0.9995 - recall_5: 0.9995 - precision_5: 0.9995 - f1_score: 0.9995\n",
      "Epoch 4/10\n",
      "586/586 [==============================] - 2s 4ms/step - loss: 0.0024 - accuracy: 0.9996 - recall_5: 0.9996 - precision_5: 0.9996 - f1_score: 0.9996\n",
      "Epoch 5/10\n",
      "586/586 [==============================] - 2s 4ms/step - loss: 0.0023 - accuracy: 0.9996 - recall_5: 0.9996 - precision_5: 0.9996 - f1_score: 0.9996\n",
      "Epoch 6/10\n",
      "586/586 [==============================] - 2s 4ms/step - loss: 0.0021 - accuracy: 0.9996 - recall_5: 0.9996 - precision_5: 0.9997 - f1_score: 0.9996\n",
      "Epoch 7/10\n",
      "586/586 [==============================] - 2s 4ms/step - loss: 0.0020 - accuracy: 0.9996 - recall_5: 0.9996 - precision_5: 0.9996 - f1_score: 0.9996\n",
      "Epoch 8/10\n",
      "586/586 [==============================] - 2s 4ms/step - loss: 0.0018 - accuracy: 0.9997 - recall_5: 0.9996 - precision_5: 0.9997 - f1_score: 0.9997\n",
      "Epoch 9/10\n",
      "586/586 [==============================] - 2s 4ms/step - loss: 0.0017 - accuracy: 0.9997 - recall_5: 0.9997 - precision_5: 0.9997 - f1_score: 0.9997\n",
      "Epoch 10/10\n",
      "586/586 [==============================] - 2s 4ms/step - loss: 0.0016 - accuracy: 0.9997 - recall_5: 0.9997 - precision_5: 0.9997 - f1_score: 0.9997\n",
      ">Saved models/model_df_6dnn.h5\n"
     ]
    }
   ],
   "source": [
    "model_df_6 = fit_model(X_df_6_train, encoded_Y_train_df_6)\n",
    "\n",
    "filename_df_6 = 'models/model_df_6dnn.h5'\n",
    "model_df_6.save(filename_df_6)\n",
    "print('>Saved %s' % filename_df_6)"
   ]
  },
  {
   "cell_type": "code",
   "execution_count": 33,
   "id": "0cfb1b74",
   "metadata": {},
   "outputs": [
    {
     "name": "stdout",
     "output_type": "stream",
     "text": [
      "Epoch 1/10\n",
      "605/605 [==============================] - 3s 4ms/step - loss: 0.1701 - accuracy: 0.9451 - recall_6: 0.8841 - precision_6: 0.9864 - f1_score: 0.9117\n",
      "Epoch 2/10\n",
      "605/605 [==============================] - 2s 4ms/step - loss: 0.0150 - accuracy: 0.9962 - recall_6: 0.9962 - precision_6: 0.9963 - f1_score: 0.9962\n",
      "Epoch 3/10\n",
      "605/605 [==============================] - 2s 4ms/step - loss: 0.0090 - accuracy: 0.9979 - recall_6: 0.9978 - precision_6: 0.9979 - f1_score: 0.9979\n",
      "Epoch 4/10\n",
      "605/605 [==============================] - 2s 4ms/step - loss: 0.0064 - accuracy: 0.9985 - recall_6: 0.9985 - precision_6: 0.9986 - f1_score: 0.9985\n",
      "Epoch 5/10\n",
      "605/605 [==============================] - 2s 4ms/step - loss: 0.0047 - accuracy: 0.9989 - recall_6: 0.9989 - precision_6: 0.9989 - f1_score: 0.9989\n",
      "Epoch 6/10\n",
      "605/605 [==============================] - 2s 4ms/step - loss: 0.0035 - accuracy: 0.9991 - recall_6: 0.9991 - precision_6: 0.9992 - f1_score: 0.9991\n",
      "Epoch 7/10\n",
      "605/605 [==============================] - 2s 4ms/step - loss: 0.0030 - accuracy: 0.9993 - recall_6: 0.9993 - precision_6: 0.9993 - f1_score: 0.9993\n",
      "Epoch 8/10\n",
      "605/605 [==============================] - 2s 4ms/step - loss: 0.0026 - accuracy: 0.9994 - recall_6: 0.9994 - precision_6: 0.9994 - f1_score: 0.9994\n",
      "Epoch 9/10\n",
      "605/605 [==============================] - 2s 4ms/step - loss: 0.0022 - accuracy: 0.9995 - recall_6: 0.9994 - precision_6: 0.9995 - f1_score: 0.9995\n",
      "Epoch 10/10\n",
      "605/605 [==============================] - 2s 4ms/step - loss: 0.0026 - accuracy: 0.9993 - recall_6: 0.9993 - precision_6: 0.9994 - f1_score: 0.9994\n",
      ">Saved models/model_df_7dnn.h5\n"
     ]
    }
   ],
   "source": [
    "model_df_7 = fit_model(X_df_7_train, encoded_Y_train_df_7)\n",
    "\n",
    "filename_df_7 = 'models/model_df_7dnn.h5'\n",
    "model_df_7.save(filename_df_7)\n",
    "print('>Saved %s' % filename_df_7)"
   ]
  },
  {
   "cell_type": "code",
   "execution_count": 34,
   "id": "0ecb8801",
   "metadata": {},
   "outputs": [
    {
     "name": "stdout",
     "output_type": "stream",
     "text": [
      "Epoch 1/10\n",
      "596/596 [==============================] - 4s 4ms/step - loss: 0.2174 - accuracy: 0.9287 - recall_7: 0.8400 - precision_7: 0.9799 - f1_score: 0.8632\n",
      "Epoch 2/10\n",
      "596/596 [==============================] - 2s 4ms/step - loss: 0.0164 - accuracy: 0.9952 - recall_7: 0.9951 - precision_7: 0.9953 - f1_score: 0.9952\n",
      "Epoch 3/10\n",
      "596/596 [==============================] - 2s 4ms/step - loss: 0.0112 - accuracy: 0.9971 - recall_7: 0.9971 - precision_7: 0.9973 - f1_score: 0.9972\n",
      "Epoch 4/10\n",
      "596/596 [==============================] - 2s 4ms/step - loss: 0.0085 - accuracy: 0.9980 - recall_7: 0.9979 - precision_7: 0.9981 - f1_score: 0.9980\n",
      "Epoch 5/10\n",
      "596/596 [==============================] - 2s 4ms/step - loss: 0.0069 - accuracy: 0.9984 - recall_7: 0.9984 - precision_7: 0.9984 - f1_score: 0.9984\n",
      "Epoch 6/10\n",
      "596/596 [==============================] - 2s 4ms/step - loss: 0.0057 - accuracy: 0.9986 - recall_7: 0.9986 - precision_7: 0.9986 - f1_score: 0.9986\n",
      "Epoch 7/10\n",
      "596/596 [==============================] - 2s 4ms/step - loss: 0.0051 - accuracy: 0.9988 - recall_7: 0.9988 - precision_7: 0.9988 - f1_score: 0.9988\n",
      "Epoch 8/10\n",
      "596/596 [==============================] - 2s 4ms/step - loss: 0.0045 - accuracy: 0.9989 - recall_7: 0.9989 - precision_7: 0.9989 - f1_score: 0.9989\n",
      "Epoch 9/10\n",
      "596/596 [==============================] - 2s 4ms/step - loss: 0.0042 - accuracy: 0.9990 - recall_7: 0.9990 - precision_7: 0.9990 - f1_score: 0.9990\n",
      "Epoch 10/10\n",
      "596/596 [==============================] - 2s 4ms/step - loss: 0.0036 - accuracy: 0.9991 - recall_7: 0.9991 - precision_7: 0.9991 - f1_score: 0.9991\n",
      ">Saved models/model_df_8dnn.h5\n"
     ]
    }
   ],
   "source": [
    "model_df_8 = fit_model(X_df_8_train, encoded_Y_train_df_8)\n",
    "\n",
    "filename_df_8 = 'models/model_df_8dnn.h5'\n",
    "model_df_8.save(filename_df_8)\n",
    "print('>Saved %s' % filename_df_8)"
   ]
  },
  {
   "cell_type": "code",
   "execution_count": 35,
   "id": "5f5abb31",
   "metadata": {},
   "outputs": [
    {
     "name": "stdout",
     "output_type": "stream",
     "text": [
      "Epoch 1/10\n",
      "263/263 [==============================] - 2s 4ms/step - loss: 0.2249 - accuracy: 0.9456 - recall_8: 0.8416 - precision_8: 0.9954 - f1_score: 0.8627\n",
      "Epoch 2/10\n",
      "263/263 [==============================] - 1s 4ms/step - loss: 0.0042 - accuracy: 0.9995 - recall_8: 0.9994 - precision_8: 0.9995 - f1_score: 0.9994\n",
      "Epoch 3/10\n",
      "263/263 [==============================] - 1s 4ms/step - loss: 0.0026 - accuracy: 0.9995 - recall_8: 0.9995 - precision_8: 0.9995 - f1_score: 0.9995\n",
      "Epoch 4/10\n",
      "263/263 [==============================] - 1s 4ms/step - loss: 0.0019 - accuracy: 0.9996 - recall_8: 0.9996 - precision_8: 0.9996 - f1_score: 0.9996\n",
      "Epoch 5/10\n",
      "263/263 [==============================] - 1s 4ms/step - loss: 0.0015 - accuracy: 0.9996 - recall_8: 0.9996 - precision_8: 0.9996 - f1_score: 0.9996\n",
      "Epoch 6/10\n",
      "263/263 [==============================] - 1s 4ms/step - loss: 0.0011 - accuracy: 0.9997 - recall_8: 0.9997 - precision_8: 0.9997 - f1_score: 0.9997\n",
      "Epoch 7/10\n",
      "263/263 [==============================] - 1s 4ms/step - loss: 0.0010 - accuracy: 0.9997 - recall_8: 0.9997 - precision_8: 0.9997 - f1_score: 0.9997\n",
      "Epoch 8/10\n",
      "263/263 [==============================] - 1s 4ms/step - loss: 8.3312e-04 - accuracy: 0.9998 - recall_8: 0.9997 - precision_8: 0.9998 - f1_score: 0.9998\n",
      "Epoch 9/10\n",
      "263/263 [==============================] - 1s 4ms/step - loss: 6.8537e-04 - accuracy: 0.9998 - recall_8: 0.9998 - precision_8: 0.9998 - f1_score: 0.9998\n",
      "Epoch 10/10\n",
      "263/263 [==============================] - 1s 4ms/step - loss: 6.2356e-04 - accuracy: 0.9998 - recall_8: 0.9998 - precision_8: 0.9998 - f1_score: 0.9998\n",
      ">Saved models/model_df_9dnn.h5\n"
     ]
    }
   ],
   "source": [
    "model_df_9 = fit_model(X_df_9_train, encoded_Y_train_df_9)\n",
    "\n",
    "filename_df_9 = 'models/model_df_9dnn.h5'\n",
    "model_df_9.save(filename_df_9)\n",
    "print('>Saved %s' % filename_df_9)"
   ]
  },
  {
   "cell_type": "code",
   "execution_count": 36,
   "id": "e1fc2daf",
   "metadata": {},
   "outputs": [],
   "source": [
    "from keras.models import load_model"
   ]
  },
  {
   "cell_type": "code",
   "execution_count": 37,
   "id": "0ae9ef4d",
   "metadata": {},
   "outputs": [],
   "source": [
    "filename_model_df_1 = 'models/model_df_1dnn.h5'\n",
    "loaded_model_df_1 = load_model(filename_model_df_1, custom_objects={\"f1_score\": f1_score})"
   ]
  },
  {
   "cell_type": "code",
   "execution_count": 38,
   "id": "04ecc5ef",
   "metadata": {},
   "outputs": [],
   "source": [
    "filename_model_df_2 = 'models/model_df_2dnn.h5'\n",
    "loaded_model_df_2 = load_model(filename_model_df_2, custom_objects={\"f1_score\": f1_score})"
   ]
  },
  {
   "cell_type": "code",
   "execution_count": 39,
   "id": "cc5aa477",
   "metadata": {},
   "outputs": [],
   "source": [
    "filename_model_df_3 = 'models/model_df_3dnn.h5'\n",
    "loaded_model_df_3 = load_model(filename_model_df_3, custom_objects={\"f1_score\": f1_score})"
   ]
  },
  {
   "cell_type": "code",
   "execution_count": 40,
   "id": "b4d10467",
   "metadata": {},
   "outputs": [],
   "source": [
    "filename_model_df_4 = 'models/model_df_4dnn.h5'\n",
    "loaded_model_df_4 = load_model(filename_model_df_4, custom_objects={\"f1_score\": f1_score})"
   ]
  },
  {
   "cell_type": "code",
   "execution_count": 41,
   "id": "bfb4482c",
   "metadata": {},
   "outputs": [],
   "source": [
    "filename_model_df_5 = 'models/model_df_5dnn.h5'\n",
    "loaded_model_df_5 = load_model(filename_model_df_5, custom_objects={\"f1_score\": f1_score})"
   ]
  },
  {
   "cell_type": "code",
   "execution_count": 42,
   "id": "04747ed6",
   "metadata": {},
   "outputs": [],
   "source": [
    "filename_model_df_6 = 'models/model_df_6dnn.h5'\n",
    "loaded_model_df_6 = load_model(filename_model_df_6, custom_objects={\"f1_score\": f1_score})"
   ]
  },
  {
   "cell_type": "code",
   "execution_count": 43,
   "id": "cb621b00",
   "metadata": {},
   "outputs": [],
   "source": [
    "filename_model_df_7 = 'models/model_df_7dnn.h5'\n",
    "loaded_model_df_7 = load_model(filename_model_df_7, custom_objects={\"f1_score\": f1_score})"
   ]
  },
  {
   "cell_type": "code",
   "execution_count": 44,
   "id": "44ffb10c",
   "metadata": {},
   "outputs": [],
   "source": [
    "filename_model_df_8 = 'models/model_df_8dnn.h5'\n",
    "loaded_model_df_8 = load_model(filename_model_df_8, custom_objects={\"f1_score\": f1_score})"
   ]
  },
  {
   "cell_type": "code",
   "execution_count": 45,
   "id": "c91252f7",
   "metadata": {},
   "outputs": [],
   "source": [
    "filename_model_df_9 = 'models/model_df_9dnn.h5'\n",
    "loaded_model_df_9 = load_model(filename_model_df_9, custom_objects={\"f1_score\": f1_score})"
   ]
  },
  {
   "cell_type": "code",
   "execution_count": 46,
   "id": "76161f9a",
   "metadata": {},
   "outputs": [
    {
     "name": "stdout",
     "output_type": "stream",
     "text": [
      "[<keras.src.engine.sequential.Sequential object at 0x7fe7586867a0>, <keras.src.engine.sequential.Sequential object at 0x7fe7d875f250>, <keras.src.engine.sequential.Sequential object at 0x7fe758109540>, <keras.src.engine.sequential.Sequential object at 0x7fe7b00f7fd0>, <keras.src.engine.sequential.Sequential object at 0x7fe7b0484af0>, <keras.src.engine.sequential.Sequential object at 0x7fe7d84a5f30>, <keras.src.engine.sequential.Sequential object at 0x7fe71c3a0fd0>, <keras.src.engine.sequential.Sequential object at 0x7fe71c215a20>, <keras.src.engine.sequential.Sequential object at 0x7fe71c3f2ef0>]\n"
     ]
    }
   ],
   "source": [
    "all_models = []\n",
    "all_models.append(loaded_model_df_1)\n",
    "all_models.append(loaded_model_df_2)\n",
    "all_models.append(loaded_model_df_3)\n",
    "all_models.append(loaded_model_df_4)\n",
    "all_models.append(loaded_model_df_5)\n",
    "all_models.append(loaded_model_df_6)\n",
    "all_models.append(loaded_model_df_7)\n",
    "all_models.append(loaded_model_df_8)\n",
    "all_models.append(loaded_model_df_9)\n",
    "\n",
    "print(all_models)"
   ]
  },
  {
   "cell_type": "code",
   "execution_count": 47,
   "id": "1a9f9ea5",
   "metadata": {},
   "outputs": [],
   "source": [
    "from sklearn.metrics import accuracy_score, precision_score, recall_score, f1_score, confusion_matrix, classification_report"
   ]
  },
  {
   "cell_type": "code",
   "execution_count": 48,
   "id": "25dd0e67",
   "metadata": {},
   "outputs": [],
   "source": [
    "import numpy\n",
    "from numpy import mean\n",
    "from numpy import std\n",
    "from numpy import array\n",
    "from numpy import argmax"
   ]
  },
  {
   "cell_type": "code",
   "execution_count": 49,
   "id": "4f0c5e21",
   "metadata": {},
   "outputs": [
    {
     "name": "stdout",
     "output_type": "stream",
     "text": [
      "[[0. 0. 1.]\n",
      " [0. 1. 0.]\n",
      " [0. 1. 0.]\n",
      " ...\n",
      " [0. 0. 1.]\n",
      " [0. 0. 1.]\n",
      " [0. 0. 1.]]\n"
     ]
    }
   ],
   "source": [
    "encoder_Y_test_df_1 = LabelEncoder()\n",
    "encoder_Y_test_df_1.fit(Y_df_1_test)\n",
    "transform_Y_test_df_1 = encoder_Y_test_df_1.transform(Y_df_1_test)\n",
    "encoded_Y_test_df_1 = to_categorical(transform_Y_test_df_1, num_classes=3)\n",
    "print(encoded_Y_test_df_1)"
   ]
  },
  {
   "cell_type": "code",
   "execution_count": 50,
   "id": "ae9d8d17",
   "metadata": {},
   "outputs": [
    {
     "name": "stdout",
     "output_type": "stream",
     "text": [
      "[[0. 1. 0.]\n",
      " [0. 1. 0.]\n",
      " [0. 1. 0.]\n",
      " ...\n",
      " [0. 1. 0.]\n",
      " [0. 1. 0.]\n",
      " [0. 1. 0.]]\n"
     ]
    }
   ],
   "source": [
    "encoder_Y_test_df_2 = LabelEncoder()\n",
    "encoder_Y_test_df_2.fit(Y_df_2_test)\n",
    "transform_Y_test_df_2 = encoder_Y_test_df_2.transform(Y_df_2_test)\n",
    "encoded_Y_test_df_2 = to_categorical(transform_Y_test_df_2, num_classes=3)\n",
    "print(encoded_Y_test_df_2)"
   ]
  },
  {
   "cell_type": "code",
   "execution_count": 51,
   "id": "4f393b02",
   "metadata": {},
   "outputs": [
    {
     "name": "stdout",
     "output_type": "stream",
     "text": [
      "[[0. 1. 0.]\n",
      " [0. 0. 1.]\n",
      " [0. 1. 0.]\n",
      " ...\n",
      " [0. 0. 1.]\n",
      " [0. 0. 1.]\n",
      " [0. 1. 0.]]\n"
     ]
    }
   ],
   "source": [
    "encoder_Y_test_df_3 = LabelEncoder()\n",
    "encoder_Y_test_df_3.fit(Y_df_3_test)\n",
    "transform_Y_test_df_3 = encoder_Y_test_df_3.transform(Y_df_3_test)\n",
    "encoded_Y_test_df_3 = to_categorical(transform_Y_test_df_3, num_classes=3)\n",
    "print(encoded_Y_test_df_3)"
   ]
  },
  {
   "cell_type": "code",
   "execution_count": 52,
   "id": "c99c4d13",
   "metadata": {},
   "outputs": [
    {
     "name": "stdout",
     "output_type": "stream",
     "text": [
      "[[0. 0. 1.]\n",
      " [0. 1. 0.]\n",
      " [0. 0. 1.]\n",
      " ...\n",
      " [1. 0. 0.]\n",
      " [0. 0. 1.]\n",
      " [0. 1. 0.]]\n"
     ]
    }
   ],
   "source": [
    "encoder_Y_test_df_4 = LabelEncoder()\n",
    "encoder_Y_test_df_4.fit(Y_df_4_test)\n",
    "transform_Y_test_df_4 = encoder_Y_test_df_4.transform(Y_df_4_test)\n",
    "encoded_Y_test_df_4 = to_categorical(transform_Y_test_df_4, num_classes=3)\n",
    "print(encoded_Y_test_df_4)"
   ]
  },
  {
   "cell_type": "code",
   "execution_count": 53,
   "id": "b8048a06",
   "metadata": {},
   "outputs": [
    {
     "name": "stdout",
     "output_type": "stream",
     "text": [
      "[[0. 1. 0.]\n",
      " [0. 1. 0.]\n",
      " [0. 0. 1.]\n",
      " ...\n",
      " [0. 0. 1.]\n",
      " [0. 0. 1.]\n",
      " [0. 0. 1.]]\n"
     ]
    }
   ],
   "source": [
    "encoder_Y_test_df_5 = LabelEncoder()\n",
    "encoder_Y_test_df_5.fit(Y_df_5_test)\n",
    "transform_Y_test_df_5 = encoder_Y_test_df_5.transform(Y_df_5_test)\n",
    "encoded_Y_test_df_5 = to_categorical(transform_Y_test_df_5, num_classes=3)\n",
    "print(encoded_Y_test_df_5)"
   ]
  },
  {
   "cell_type": "code",
   "execution_count": 54,
   "id": "e632ff4d",
   "metadata": {},
   "outputs": [
    {
     "name": "stdout",
     "output_type": "stream",
     "text": [
      "[[0. 1. 0.]\n",
      " [0. 0. 1.]\n",
      " [0. 1. 0.]\n",
      " ...\n",
      " [0. 0. 1.]\n",
      " [0. 1. 0.]\n",
      " [0. 1. 0.]]\n"
     ]
    }
   ],
   "source": [
    "encoder_Y_test_df_6 = LabelEncoder()\n",
    "encoder_Y_test_df_6.fit(Y_df_6_test)\n",
    "transform_Y_test_df_6 = encoder_Y_test_df_6.transform(Y_df_6_test)\n",
    "encoded_Y_test_df_6 = to_categorical(transform_Y_test_df_6, num_classes=3)\n",
    "print(encoded_Y_test_df_6)"
   ]
  },
  {
   "cell_type": "code",
   "execution_count": 55,
   "id": "fb32955d",
   "metadata": {},
   "outputs": [
    {
     "name": "stdout",
     "output_type": "stream",
     "text": [
      "[[0. 1. 0.]\n",
      " [0. 1. 0.]\n",
      " [0. 1. 0.]\n",
      " ...\n",
      " [0. 1. 0.]\n",
      " [0. 0. 1.]\n",
      " [0. 1. 0.]]\n"
     ]
    }
   ],
   "source": [
    "encoder_Y_test_df_7 = LabelEncoder()\n",
    "encoder_Y_test_df_7.fit(Y_df_7_test)\n",
    "transform_Y_test_df_7 = encoder_Y_test_df_7.transform(Y_df_7_test)\n",
    "encoded_Y_test_df_7 = to_categorical(transform_Y_test_df_7, num_classes=3)\n",
    "print(encoded_Y_test_df_7)"
   ]
  },
  {
   "cell_type": "code",
   "execution_count": 56,
   "id": "6b081434",
   "metadata": {},
   "outputs": [
    {
     "name": "stdout",
     "output_type": "stream",
     "text": [
      "[[1. 0. 0.]\n",
      " [0. 1. 0.]\n",
      " [0. 1. 0.]\n",
      " ...\n",
      " [0. 0. 1.]\n",
      " [0. 1. 0.]\n",
      " [0. 0. 1.]]\n"
     ]
    }
   ],
   "source": [
    "encoder_Y_test_df_8 = LabelEncoder()\n",
    "encoder_Y_test_df_8.fit(Y_df_8_test)\n",
    "transform_Y_test_df_8 = encoder_Y_test_df_8.transform(Y_df_8_test)\n",
    "encoded_Y_test_df_8 = to_categorical(transform_Y_test_df_8, num_classes=3)\n",
    "print(encoded_Y_test_df_8)"
   ]
  },
  {
   "cell_type": "code",
   "execution_count": 57,
   "id": "e7a2e554",
   "metadata": {},
   "outputs": [
    {
     "name": "stdout",
     "output_type": "stream",
     "text": [
      "[[0. 1. 0.]\n",
      " [0. 1. 0.]\n",
      " [1. 0. 0.]\n",
      " ...\n",
      " [0. 1. 0.]\n",
      " [0. 1. 0.]\n",
      " [0. 1. 0.]]\n"
     ]
    }
   ],
   "source": [
    "encoder_Y_test_df_9 = LabelEncoder()\n",
    "encoder_Y_test_df_9.fit(Y_df_9_test)\n",
    "transform_Y_test_df_9 = encoder_Y_test_df_9.transform(Y_df_9_test)\n",
    "encoded_Y_test_df_9 = to_categorical(transform_Y_test_df_9, num_classes=3)\n",
    "print(encoded_Y_test_df_9)"
   ]
  },
  {
   "cell_type": "code",
   "execution_count": 58,
   "id": "2eadbeb2",
   "metadata": {},
   "outputs": [
    {
     "name": "stdout",
     "output_type": "stream",
     "text": [
      "9547/9547 [==============================] - 16s 2ms/step\n",
      "[[2.2857005e-17 5.5665414e-06 9.9999434e-01]\n",
      " [6.6892424e-04 9.9932736e-01 3.7163941e-06]\n",
      " [2.6949661e-16 9.9999970e-01 2.2605128e-07]\n",
      " ...\n",
      " [2.6043348e-17 5.4668512e-06 9.9999446e-01]\n",
      " [3.6980050e-19 9.4188340e-07 9.9999905e-01]\n",
      " [2.1432237e-19 6.5923166e-07 9.9999928e-01]]\n"
     ]
    }
   ],
   "source": [
    "pred_NN_df_1 = model_df_1.predict(X_df_1_test)\n",
    "print(pred_NN_df_1)"
   ]
  },
  {
   "cell_type": "code",
   "execution_count": 59,
   "id": "d21c95ef",
   "metadata": {},
   "outputs": [
    {
     "name": "stdout",
     "output_type": "stream",
     "text": [
      "[2 1 1 ... 2 2 2]\n"
     ]
    }
   ],
   "source": [
    "argmax_pred_NN_df_1 = np.argmax(pred_NN_df_1, axis=1)\n",
    "print(argmax_pred_NN_df_1)"
   ]
  },
  {
   "cell_type": "code",
   "execution_count": 60,
   "id": "08d0b61f",
   "metadata": {},
   "outputs": [
    {
     "name": "stdout",
     "output_type": "stream",
     "text": [
      "[2 1 1 ... 2 2 2]\n"
     ]
    }
   ],
   "source": [
    "argmax_Y_test_df_1 = np.argmax(encoded_Y_test_df_1, axis=1)\n",
    "print(argmax_Y_test_df_1)"
   ]
  },
  {
   "cell_type": "code",
   "execution_count": 61,
   "id": "0d42e3b9",
   "metadata": {},
   "outputs": [
    {
     "name": "stdout",
     "output_type": "stream",
     "text": [
      "Test Accuracy df_1: 1.000\n",
      "Macro Test Precision df_1: 0.999\n",
      "Macro Test Recall df_1: 1.000\n",
      "Macro Test F1 df_1: 1.000\n",
      "Micro Test Precision df_1: 1.000\n",
      "Micro Test Recall df_1: 1.000\n",
      "Micro Test F1 df_1: 1.000\n"
     ]
    }
   ],
   "source": [
    "acc_pred_NN_df_1 = accuracy_score(argmax_Y_test_df_1, argmax_pred_NN_df_1)\n",
    "print('Test Accuracy df_1: %.3f' % acc_pred_NN_df_1)\n",
    "pre_mac_pred_NN_df_1 = precision_score(argmax_Y_test_df_1, argmax_pred_NN_df_1, average = 'macro')\n",
    "print('Macro Test Precision df_1: %.3f' % pre_mac_pred_NN_df_1)\n",
    "rec_mac_pred_NN_df_1 = recall_score(argmax_Y_test_df_1, argmax_pred_NN_df_1, average = 'macro')\n",
    "print('Macro Test Recall df_1: %.3f' % rec_mac_pred_NN_df_1)\n",
    "f1_mac_pred_NN_df_1 = f1_score(argmax_Y_test_df_1, argmax_pred_NN_df_1, average = 'macro')\n",
    "print('Macro Test F1 df_1: %.3f' % f1_mac_pred_NN_df_1)\n",
    "pre_mic_pred_NN_df_1 = precision_score(argmax_Y_test_df_1, argmax_pred_NN_df_1, average = 'micro')\n",
    "print('Micro Test Precision df_1: %.3f' % pre_mic_pred_NN_df_1)\n",
    "rec_mic_pred_NN_df_1 = recall_score(argmax_Y_test_df_1, argmax_pred_NN_df_1, average = 'micro')\n",
    "print('Micro Test Recall df_1: %.3f' % rec_mic_pred_NN_df_1)\n",
    "f1_mic_pred_NN_df_1 = f1_score(argmax_Y_test_df_1, argmax_pred_NN_df_1, average = 'micro')\n",
    "print('Micro Test F1 df_1: %.3f' % f1_mic_pred_NN_df_1)"
   ]
  },
  {
   "cell_type": "code",
   "execution_count": 62,
   "id": "09e67084",
   "metadata": {},
   "outputs": [
    {
     "name": "stdout",
     "output_type": "stream",
     "text": [
      "3333/3333 [==============================] - 5s 2ms/step\n",
      "[[1.56078560e-04 9.99832153e-01 1.18185935e-05]\n",
      " [1.56078560e-04 9.99832153e-01 1.18185935e-05]\n",
      " [1.56078706e-04 9.99832153e-01 1.18186044e-05]\n",
      " ...\n",
      " [3.18142156e-06 9.99995887e-01 8.17649038e-07]\n",
      " [1.56078691e-04 9.99832034e-01 1.18185908e-05]\n",
      " [1.56078691e-04 9.99832034e-01 1.18185908e-05]]\n"
     ]
    }
   ],
   "source": [
    "pred_NN_df_2 = loaded_model_df_2.predict(X_df_2_test)\n",
    "print(pred_NN_df_2)"
   ]
  },
  {
   "cell_type": "code",
   "execution_count": 63,
   "id": "ec7e71a9",
   "metadata": {},
   "outputs": [
    {
     "name": "stdout",
     "output_type": "stream",
     "text": [
      "[1 1 1 ... 1 1 1]\n"
     ]
    }
   ],
   "source": [
    "argmax_pred_NN_df_2 = np.argmax(pred_NN_df_2, axis=1)\n",
    "print(argmax_pred_NN_df_2)"
   ]
  },
  {
   "cell_type": "code",
   "execution_count": 64,
   "id": "1bd140db",
   "metadata": {},
   "outputs": [
    {
     "name": "stdout",
     "output_type": "stream",
     "text": [
      "[1 1 1 ... 1 1 1]\n"
     ]
    }
   ],
   "source": [
    "argmax_Y_test_df_2 = np.argmax(encoded_Y_test_df_2, axis=1)\n",
    "print(argmax_Y_test_df_2)"
   ]
  },
  {
   "cell_type": "code",
   "execution_count": 65,
   "id": "df372469",
   "metadata": {},
   "outputs": [
    {
     "name": "stdout",
     "output_type": "stream",
     "text": [
      "Test Accuracy df_2: 1.000\n",
      "Macro Test Precision df_2: 0.999\n",
      "Macro Test Recall df_2: 1.000\n",
      "Macro Test F1 df_2: 0.999\n",
      "Micro Test Precision df_2: 1.000\n",
      "Micro Test Recall df_2: 1.000\n",
      "Micro Test F1 df_2: 1.000\n"
     ]
    }
   ],
   "source": [
    "acc_pred_NN_df_2 = accuracy_score(argmax_Y_test_df_2, argmax_pred_NN_df_2)\n",
    "print('Test Accuracy df_2: %.3f' % acc_pred_NN_df_2)\n",
    "pre_mac_pred_NN_df_2 = precision_score(argmax_Y_test_df_2, argmax_pred_NN_df_2, average = 'macro')\n",
    "print('Macro Test Precision df_2: %.3f' % pre_mac_pred_NN_df_2)\n",
    "rec_mac_pred_NN_df_2 = recall_score(argmax_Y_test_df_2, argmax_pred_NN_df_2, average = 'macro')\n",
    "print('Macro Test Recall df_2: %.3f' % rec_mac_pred_NN_df_2)\n",
    "f1_mac_pred_NN_df_2 = f1_score(argmax_Y_test_df_2, argmax_pred_NN_df_2, average = 'macro')\n",
    "print('Macro Test F1 df_2: %.3f' % f1_mac_pred_NN_df_2)\n",
    "pre_mic_pred_NN_df_2 = precision_score(argmax_Y_test_df_2, argmax_pred_NN_df_2, average = 'micro')\n",
    "print('Micro Test Precision df_2: %.3f' % pre_mic_pred_NN_df_2)\n",
    "rec_mic_pred_NN_df_2 = recall_score(argmax_Y_test_df_2, argmax_pred_NN_df_2, average = 'micro')\n",
    "print('Micro Test Recall df_2: %.3f' % rec_mic_pred_NN_df_2)\n",
    "f1_mic_pred_NN_df_2 = f1_score(argmax_Y_test_df_2, argmax_pred_NN_df_2, average = 'micro')\n",
    "print('Micro Test F1 df_2: %.3f' % f1_mic_pred_NN_df_2)"
   ]
  },
  {
   "cell_type": "code",
   "execution_count": 66,
   "id": "c6d0efca",
   "metadata": {},
   "outputs": [
    {
     "name": "stdout",
     "output_type": "stream",
     "text": [
      "7837/7837 [==============================] - 12s 2ms/step\n",
      "[[1.3144821e-04 9.9643075e-01 3.4377628e-03]\n",
      " [6.9093126e-08 3.7309201e-07 9.9999946e-01]\n",
      " [2.4575849e-08 9.9989504e-01 1.0491208e-04]\n",
      " ...\n",
      " [7.5432512e-14 3.2827153e-08 1.0000000e+00]\n",
      " [3.1085187e-06 4.5771330e-08 9.9999690e-01]\n",
      " [1.3144796e-04 9.9643075e-01 3.4377303e-03]]\n"
     ]
    }
   ],
   "source": [
    "pred_NN_df_3 = loaded_model_df_3.predict(X_df_3_test)\n",
    "print(pred_NN_df_3)"
   ]
  },
  {
   "cell_type": "code",
   "execution_count": 67,
   "id": "16be64b2",
   "metadata": {},
   "outputs": [
    {
     "name": "stdout",
     "output_type": "stream",
     "text": [
      "[1 2 1 ... 2 2 1]\n"
     ]
    }
   ],
   "source": [
    "argmax_pred_NN_df_3 = np.argmax(pred_NN_df_3, axis=1)\n",
    "print(argmax_pred_NN_df_3)"
   ]
  },
  {
   "cell_type": "code",
   "execution_count": 68,
   "id": "2485b5cd",
   "metadata": {},
   "outputs": [
    {
     "name": "stdout",
     "output_type": "stream",
     "text": [
      "[1 2 1 ... 2 2 1]\n"
     ]
    }
   ],
   "source": [
    "argmax_Y_test_df_3 = np.argmax(encoded_Y_test_df_3, axis=1)\n",
    "print(argmax_Y_test_df_3)"
   ]
  },
  {
   "cell_type": "code",
   "execution_count": 69,
   "id": "eeb88a95",
   "metadata": {},
   "outputs": [
    {
     "name": "stdout",
     "output_type": "stream",
     "text": [
      "Test Accuracy df_3: 1.000\n",
      "Macro Test Precision df_3: 0.999\n",
      "Macro Test Recall df_3: 0.999\n",
      "Macro Test F1 df_3: 0.999\n",
      "Micro Test Precision df_3: 1.000\n",
      "Micro Test Recall df_3: 1.000\n",
      "Micro Test F1 df_3: 1.000\n"
     ]
    }
   ],
   "source": [
    "acc_pred_NN_df_3 = accuracy_score(argmax_Y_test_df_3, argmax_pred_NN_df_3)\n",
    "print('Test Accuracy df_3: %.3f' % acc_pred_NN_df_3)\n",
    "pre_mac_pred_NN_df_3 = precision_score(argmax_Y_test_df_3, argmax_pred_NN_df_3, average = 'macro')\n",
    "print('Macro Test Precision df_3: %.3f' % pre_mac_pred_NN_df_3)\n",
    "rec_mac_pred_NN_df_3 = recall_score(argmax_Y_test_df_3, argmax_pred_NN_df_3, average = 'macro')\n",
    "print('Macro Test Recall df_3: %.3f' % rec_mac_pred_NN_df_3)\n",
    "f1_mac_pred_NN_df_3 = f1_score(argmax_Y_test_df_3, argmax_pred_NN_df_3, average = 'macro')\n",
    "print('Macro Test F1 df_3: %.3f' % f1_mac_pred_NN_df_3)\n",
    "pre_mic_pred_NN_df_3 = precision_score(argmax_Y_test_df_3, argmax_pred_NN_df_3, average = 'micro')\n",
    "print('Micro Test Precision df_3: %.3f' % pre_mic_pred_NN_df_3)\n",
    "rec_mic_pred_NN_df_3 = recall_score(argmax_Y_test_df_3, argmax_pred_NN_df_3, average = 'micro')\n",
    "print('Micro Test Recall df_3: %.3f' % rec_mic_pred_NN_df_3)\n",
    "f1_mic_pred_NN_df_3 = f1_score(argmax_Y_test_df_3, argmax_pred_NN_df_3, average = 'micro')\n",
    "print('Micro Test F1 df_3: %.3f' % f1_mic_pred_NN_df_3)"
   ]
  },
  {
   "cell_type": "code",
   "execution_count": 70,
   "id": "1d0a556f",
   "metadata": {},
   "outputs": [
    {
     "name": "stdout",
     "output_type": "stream",
     "text": [
      "10301/10301 [==============================] - 16s 2ms/step\n",
      "[[1.4598560e-18 2.2267968e-06 9.9999768e-01]\n",
      " [6.0549864e-19 9.9999994e-01 1.1973937e-11]\n",
      " [1.1484095e-14 5.7058003e-07 9.9999934e-01]\n",
      " ...\n",
      " [9.9999976e-01 1.9389722e-07 7.8421158e-12]\n",
      " [1.2034679e-22 3.1412441e-07 9.9999964e-01]\n",
      " [4.0995670e-05 9.9995613e-01 2.8166387e-06]]\n"
     ]
    }
   ],
   "source": [
    "pred_NN_df_4 = loaded_model_df_4.predict(X_df_4_test)\n",
    "print(pred_NN_df_4)"
   ]
  },
  {
   "cell_type": "code",
   "execution_count": 71,
   "id": "0054fbb9",
   "metadata": {},
   "outputs": [
    {
     "name": "stdout",
     "output_type": "stream",
     "text": [
      "[2 1 2 ... 0 2 1]\n"
     ]
    }
   ],
   "source": [
    "argmax_pred_NN_df_4 = np.argmax(pred_NN_df_4, axis=1)\n",
    "print(argmax_pred_NN_df_4)"
   ]
  },
  {
   "cell_type": "code",
   "execution_count": 72,
   "id": "1a393199",
   "metadata": {},
   "outputs": [
    {
     "name": "stdout",
     "output_type": "stream",
     "text": [
      "[2 1 2 ... 0 2 1]\n"
     ]
    }
   ],
   "source": [
    "argmax_Y_test_df_4 = np.argmax(encoded_Y_test_df_4, axis=1)\n",
    "print(argmax_Y_test_df_4)"
   ]
  },
  {
   "cell_type": "code",
   "execution_count": 73,
   "id": "fc8be604",
   "metadata": {},
   "outputs": [
    {
     "name": "stdout",
     "output_type": "stream",
     "text": [
      "Test Accuracy df_4: 1.000\n",
      "Macro Test Precision df_4: 1.000\n",
      "Macro Test Recall df_4: 1.000\n",
      "Macro Test F1 df_4: 1.000\n",
      "Micro Test Precision df_4: 1.000\n",
      "Micro Test Recall df_4: 1.000\n",
      "Micro Test F1 df_4: 1.000\n"
     ]
    }
   ],
   "source": [
    "acc_pred_NN_df_4 = accuracy_score(argmax_Y_test_df_4, argmax_pred_NN_df_4)\n",
    "print('Test Accuracy df_4: %.3f' % acc_pred_NN_df_4)\n",
    "pre_mac_pred_NN_df_4 = precision_score(argmax_Y_test_df_4, argmax_pred_NN_df_4, average = 'macro')\n",
    "print('Macro Test Precision df_4: %.3f' % pre_mac_pred_NN_df_4)\n",
    "rec_mac_pred_NN_df_4 = recall_score(argmax_Y_test_df_4, argmax_pred_NN_df_4, average = 'macro')\n",
    "print('Macro Test Recall df_4: %.3f' % rec_mac_pred_NN_df_4)\n",
    "f1_mac_pred_NN_df_4 = f1_score(argmax_Y_test_df_4, argmax_pred_NN_df_4, average = 'macro')\n",
    "print('Macro Test F1 df_4: %.3f' % f1_mac_pred_NN_df_4)\n",
    "pre_mic_pred_NN_df_4 = precision_score(argmax_Y_test_df_4, argmax_pred_NN_df_4, average = 'micro')\n",
    "print('Micro Test Precision df_4: %.3f' % pre_mic_pred_NN_df_4)\n",
    "rec_mic_pred_NN_df_4 = recall_score(argmax_Y_test_df_4, argmax_pred_NN_df_4, average = 'micro')\n",
    "print('Micro Test Recall df_4: %.3f' % rec_mic_pred_NN_df_4)\n",
    "f1_mic_pred_NN_df_4 = f1_score(argmax_Y_test_df_4, argmax_pred_NN_df_4, average = 'micro')\n",
    "print('Micro Test F1 df_4: %.3f' % f1_mic_pred_NN_df_4)"
   ]
  },
  {
   "cell_type": "code",
   "execution_count": 74,
   "id": "f14d1a24",
   "metadata": {},
   "outputs": [
    {
     "name": "stdout",
     "output_type": "stream",
     "text": [
      "7765/7765 [==============================] - 14s 2ms/step\n",
      "[[1.7438640e-04 9.9946868e-01 3.5686177e-04]\n",
      " [6.4947097e-05 9.9958688e-01 3.4823953e-04]\n",
      " [1.2539325e-10 7.5184164e-10 9.9999994e-01]\n",
      " ...\n",
      " [1.5454892e-12 3.1653837e-09 1.0000000e+00]\n",
      " [2.1052596e-10 2.4340492e-09 1.0000000e+00]\n",
      " [8.2647338e-09 1.3031312e-06 9.9999869e-01]]\n"
     ]
    }
   ],
   "source": [
    "pred_NN_df_5 = loaded_model_df_5.predict(X_df_5_test)\n",
    "print(pred_NN_df_5)"
   ]
  },
  {
   "cell_type": "code",
   "execution_count": 75,
   "id": "363f154a",
   "metadata": {},
   "outputs": [
    {
     "name": "stdout",
     "output_type": "stream",
     "text": [
      "[1 1 2 ... 2 2 2]\n"
     ]
    }
   ],
   "source": [
    "argmax_pred_NN_df_5 = np.argmax(pred_NN_df_5, axis=1)\n",
    "print(argmax_pred_NN_df_5)"
   ]
  },
  {
   "cell_type": "code",
   "execution_count": 76,
   "id": "2a462b28",
   "metadata": {},
   "outputs": [
    {
     "name": "stdout",
     "output_type": "stream",
     "text": [
      "[1 1 2 ... 2 2 2]\n"
     ]
    }
   ],
   "source": [
    "argmax_Y_test_df_5 = np.argmax(encoded_Y_test_df_5, axis=1)\n",
    "print(argmax_Y_test_df_5)"
   ]
  },
  {
   "cell_type": "code",
   "execution_count": 77,
   "id": "ce51912e",
   "metadata": {},
   "outputs": [
    {
     "name": "stdout",
     "output_type": "stream",
     "text": [
      "Test Accuracy df_5: 1.000\n",
      "Macro Test Precision df_5: 0.999\n",
      "Macro Test Recall df_5: 0.999\n",
      "Macro Test F1 df_5: 0.999\n",
      "Micro Test Precision df_5: 1.000\n",
      "Micro Test Recall df_5: 1.000\n",
      "Micro Test F1 df_5: 1.000\n"
     ]
    }
   ],
   "source": [
    "acc_pred_NN_df_5 = accuracy_score(argmax_Y_test_df_5, argmax_pred_NN_df_5)\n",
    "print('Test Accuracy df_5: %.3f' % acc_pred_NN_df_5)\n",
    "pre_mac_pred_NN_df_5 = precision_score(argmax_Y_test_df_5, argmax_pred_NN_df_5, average = 'macro')\n",
    "print('Macro Test Precision df_5: %.3f' % pre_mac_pred_NN_df_5)\n",
    "rec_mac_pred_NN_df_5 = recall_score(argmax_Y_test_df_5, argmax_pred_NN_df_5, average = 'macro')\n",
    "print('Macro Test Recall df_5: %.3f' % rec_mac_pred_NN_df_5)\n",
    "f1_mac_pred_NN_df_5 = f1_score(argmax_Y_test_df_5, argmax_pred_NN_df_5, average = 'macro')\n",
    "print('Macro Test F1 df_5: %.3f' % f1_mac_pred_NN_df_5)\n",
    "pre_mic_pred_NN_df_5 = precision_score(argmax_Y_test_df_5, argmax_pred_NN_df_5, average = 'micro')\n",
    "print('Micro Test Precision df_5: %.3f' % pre_mic_pred_NN_df_5)\n",
    "rec_mic_pred_NN_df_5 = recall_score(argmax_Y_test_df_5, argmax_pred_NN_df_5, average = 'micro')\n",
    "print('Micro Test Recall df_5: %.3f' % rec_mic_pred_NN_df_5)\n",
    "f1_mic_pred_NN_df_5 = f1_score(argmax_Y_test_df_5, argmax_pred_NN_df_5, average = 'micro')\n",
    "print('Micro Test F1 df_5: %.3f' % f1_mic_pred_NN_df_5)"
   ]
  },
  {
   "cell_type": "code",
   "execution_count": 78,
   "id": "e5892ffe",
   "metadata": {},
   "outputs": [
    {
     "name": "stdout",
     "output_type": "stream",
     "text": [
      "7846/7846 [==============================] - 13s 2ms/step\n",
      "[[3.5901903e-04 9.9937350e-01 2.6740463e-04]\n",
      " [2.4733760e-07 1.1837785e-05 9.9998790e-01]\n",
      " [1.0088812e-06 9.9965072e-01 3.4830958e-04]\n",
      " ...\n",
      " [3.2688046e-08 2.6928717e-06 9.9999726e-01]\n",
      " [3.0620114e-11 1.0000000e+00 2.3675612e-11]\n",
      " [3.5901851e-04 9.9937350e-01 2.6740436e-04]]\n"
     ]
    }
   ],
   "source": [
    "pred_NN_df_6 = loaded_model_df_6.predict(X_df_6_test)\n",
    "print(pred_NN_df_6)"
   ]
  },
  {
   "cell_type": "code",
   "execution_count": 79,
   "id": "cae1eb67",
   "metadata": {},
   "outputs": [
    {
     "name": "stdout",
     "output_type": "stream",
     "text": [
      "[1 2 1 ... 2 1 1]\n"
     ]
    }
   ],
   "source": [
    "argmax_pred_NN_df_6 = np.argmax(pred_NN_df_6, axis=1)\n",
    "print(argmax_pred_NN_df_6)"
   ]
  },
  {
   "cell_type": "code",
   "execution_count": 80,
   "id": "d8983fc6",
   "metadata": {},
   "outputs": [
    {
     "name": "stdout",
     "output_type": "stream",
     "text": [
      "[1 2 1 ... 2 1 1]\n"
     ]
    }
   ],
   "source": [
    "argmax_Y_test_df_6 = np.argmax(encoded_Y_test_df_6, axis=1)\n",
    "print(argmax_Y_test_df_6)"
   ]
  },
  {
   "cell_type": "code",
   "execution_count": 81,
   "id": "97a43efa",
   "metadata": {},
   "outputs": [
    {
     "name": "stdout",
     "output_type": "stream",
     "text": [
      "Test Accuracy df_6: 1.000\n",
      "Macro Test Precision df_6: 0.999\n",
      "Macro Test Recall df_6: 0.999\n",
      "Macro Test F1 df_6: 0.999\n",
      "Micro Test Precision df_6: 1.000\n",
      "Micro Test Recall df_6: 1.000\n",
      "Micro Test F1 df_6: 1.000\n"
     ]
    }
   ],
   "source": [
    "acc_pred_NN_df_6 = accuracy_score(argmax_Y_test_df_6, argmax_pred_NN_df_6)\n",
    "print('Test Accuracy df_6: %.3f' % acc_pred_NN_df_6)\n",
    "pre_mac_pred_NN_df_6 = precision_score(argmax_Y_test_df_6, argmax_pred_NN_df_6, average = 'macro')\n",
    "print('Macro Test Precision df_6: %.3f' % pre_mac_pred_NN_df_6)\n",
    "rec_mac_pred_NN_df_6 = recall_score(argmax_Y_test_df_6, argmax_pred_NN_df_6, average = 'macro')\n",
    "print('Macro Test Recall df_6: %.3f' % rec_mac_pred_NN_df_6)\n",
    "f1_mac_pred_NN_df_6 = f1_score(argmax_Y_test_df_6, argmax_pred_NN_df_6, average = 'macro')\n",
    "print('Macro Test F1 df_6: %.3f' % f1_mac_pred_NN_df_6)\n",
    "pre_mic_pred_NN_df_6 = precision_score(argmax_Y_test_df_6, argmax_pred_NN_df_6, average = 'micro')\n",
    "print('Micro Test Precision df_6: %.3f' % pre_mic_pred_NN_df_6)\n",
    "rec_mic_pred_NN_df_6 = recall_score(argmax_Y_test_df_6, argmax_pred_NN_df_6, average = 'micro')\n",
    "print('Micro Test Recall df_6: %.3f' % rec_mic_pred_NN_df_6)\n",
    "f1_mic_pred_NN_df_6 = f1_score(argmax_Y_test_df_6, argmax_pred_NN_df_6, average = 'micro')\n",
    "print('Micro Test F1 df_6: %.3f' % f1_mic_pred_NN_df_6)"
   ]
  },
  {
   "cell_type": "code",
   "execution_count": 82,
   "id": "d1dc7704",
   "metadata": {},
   "outputs": [
    {
     "name": "stdout",
     "output_type": "stream",
     "text": [
      "8092/8092 [==============================] - 12s 1ms/step\n",
      "[[2.9762778e-05 9.9922848e-01 7.4173999e-04]\n",
      " [8.2526763e-12 9.9999195e-01 7.9477268e-06]\n",
      " [2.9762778e-05 9.9922848e-01 7.4173999e-04]\n",
      " ...\n",
      " [2.0901461e-14 9.9999940e-01 5.4810539e-07]\n",
      " [9.6399494e-13 8.2428336e-08 9.9999988e-01]\n",
      " [2.9762778e-05 9.9922848e-01 7.4173999e-04]]\n"
     ]
    }
   ],
   "source": [
    "pred_NN_df_7 = loaded_model_df_7.predict(X_df_7_test)\n",
    "print(pred_NN_df_7)"
   ]
  },
  {
   "cell_type": "code",
   "execution_count": 83,
   "id": "77b157a7",
   "metadata": {},
   "outputs": [
    {
     "name": "stdout",
     "output_type": "stream",
     "text": [
      "[1 1 1 ... 1 2 1]\n"
     ]
    }
   ],
   "source": [
    "argmax_pred_NN_df_7 = np.argmax(pred_NN_df_7, axis=1)\n",
    "print(argmax_pred_NN_df_7)"
   ]
  },
  {
   "cell_type": "code",
   "execution_count": 84,
   "id": "3bfc47d3",
   "metadata": {},
   "outputs": [
    {
     "name": "stdout",
     "output_type": "stream",
     "text": [
      "[1 1 1 ... 1 2 1]\n"
     ]
    }
   ],
   "source": [
    "argmax_Y_test_df_7 = np.argmax(encoded_Y_test_df_7, axis=1)\n",
    "print(argmax_Y_test_df_7)"
   ]
  },
  {
   "cell_type": "code",
   "execution_count": 85,
   "id": "aecd886b",
   "metadata": {},
   "outputs": [
    {
     "name": "stdout",
     "output_type": "stream",
     "text": [
      "Test Accuracy df_7: 1.000\n",
      "Macro Test Precision df_7: 0.999\n",
      "Macro Test Recall df_7: 0.999\n",
      "Macro Test F1 df_7: 0.999\n",
      "Micro Test Precision df_7: 1.000\n",
      "Micro Test Recall df_7: 1.000\n",
      "Micro Test F1 df_7: 1.000\n"
     ]
    }
   ],
   "source": [
    "acc_pred_NN_df_7 = accuracy_score(argmax_Y_test_df_7, argmax_pred_NN_df_7)\n",
    "print('Test Accuracy df_7: %.3f' % acc_pred_NN_df_7)\n",
    "pre_mac_pred_NN_df_7 = precision_score(argmax_Y_test_df_7, argmax_pred_NN_df_7, average = 'macro')\n",
    "print('Macro Test Precision df_7: %.3f' % pre_mac_pred_NN_df_7)\n",
    "rec_mac_pred_NN_df_7 = recall_score(argmax_Y_test_df_7, argmax_pred_NN_df_7, average = 'macro')\n",
    "print('Macro Test Recall df_7: %.3f' % rec_mac_pred_NN_df_7)\n",
    "f1_mac_pred_NN_df_7 = f1_score(argmax_Y_test_df_7, argmax_pred_NN_df_7, average = 'macro')\n",
    "print('Macro Test F1 df_7: %.3f' % f1_mac_pred_NN_df_7)\n",
    "pre_mic_pred_NN_df_7 = precision_score(argmax_Y_test_df_7, argmax_pred_NN_df_7, average = 'micro')\n",
    "print('Micro Test Precision df_7: %.3f' % pre_mic_pred_NN_df_7)\n",
    "rec_mic_pred_NN_df_7 = recall_score(argmax_Y_test_df_7, argmax_pred_NN_df_7, average = 'micro')\n",
    "print('Micro Test Recall df_7: %.3f' % rec_mic_pred_NN_df_7)\n",
    "f1_mic_pred_NN_df_7 = f1_score(argmax_Y_test_df_7, argmax_pred_NN_df_7, average = 'micro')\n",
    "print('Micro Test F1 df_7: %.3f' % f1_mic_pred_NN_df_7)"
   ]
  },
  {
   "cell_type": "code",
   "execution_count": 86,
   "id": "116edc99",
   "metadata": {},
   "outputs": [
    {
     "name": "stdout",
     "output_type": "stream",
     "text": [
      "7977/7977 [==============================] - 12s 1ms/step\n",
      "[[9.9894398e-01 9.8937994e-04 6.6684341e-05]\n",
      " [2.3248676e-05 9.9982786e-01 1.4889322e-04]\n",
      " [2.3248698e-05 9.9982786e-01 1.4889336e-04]\n",
      " ...\n",
      " [2.4673306e-12 1.4851029e-09 9.9999994e-01]\n",
      " [2.3248698e-05 9.9982786e-01 1.4889336e-04]\n",
      " [1.0110142e-11 9.6111084e-09 9.9999994e-01]]\n"
     ]
    }
   ],
   "source": [
    "pred_NN_df_8 = loaded_model_df_8.predict(X_df_8_test)\n",
    "print(pred_NN_df_8)"
   ]
  },
  {
   "cell_type": "code",
   "execution_count": 87,
   "id": "ca2535a0",
   "metadata": {},
   "outputs": [
    {
     "name": "stdout",
     "output_type": "stream",
     "text": [
      "[0 1 1 ... 2 1 2]\n"
     ]
    }
   ],
   "source": [
    "argmax_pred_NN_df_8 = np.argmax(pred_NN_df_8, axis=1)\n",
    "print(argmax_pred_NN_df_8)"
   ]
  },
  {
   "cell_type": "code",
   "execution_count": 88,
   "id": "b49f7059",
   "metadata": {},
   "outputs": [
    {
     "name": "stdout",
     "output_type": "stream",
     "text": [
      "[0 1 1 ... 2 1 2]\n"
     ]
    }
   ],
   "source": [
    "argmax_Y_test_df_8 = np.argmax(encoded_Y_test_df_8, axis=1)\n",
    "print(argmax_Y_test_df_8)"
   ]
  },
  {
   "cell_type": "code",
   "execution_count": 89,
   "id": "2000cbd7",
   "metadata": {},
   "outputs": [
    {
     "name": "stdout",
     "output_type": "stream",
     "text": [
      "Test Accuracy df_8: 0.999\n",
      "Macro Test Precision df_8: 0.996\n",
      "Macro Test Recall df_8: 0.998\n",
      "Macro Test F1 df_8: 0.997\n",
      "Micro Test Precision df_8: 0.999\n",
      "Micro Test Recall df_8: 0.999\n",
      "Micro Test F1 df_8: 0.999\n"
     ]
    }
   ],
   "source": [
    "acc_pred_NN_df_8 = accuracy_score(argmax_Y_test_df_8, argmax_pred_NN_df_8)\n",
    "print('Test Accuracy df_8: %.3f' % acc_pred_NN_df_8)\n",
    "pre_mac_pred_NN_df_8 = precision_score(argmax_Y_test_df_8, argmax_pred_NN_df_8, average = 'macro')\n",
    "print('Macro Test Precision df_8: %.3f' % pre_mac_pred_NN_df_8)\n",
    "rec_mac_pred_NN_df_8 = recall_score(argmax_Y_test_df_8, argmax_pred_NN_df_8, average = 'macro')\n",
    "print('Macro Test Recall df_8: %.3f' % rec_mac_pred_NN_df_8)\n",
    "f1_mac_pred_NN_df_8 = f1_score(argmax_Y_test_df_8, argmax_pred_NN_df_8, average = 'macro')\n",
    "print('Macro Test F1 df_8: %.3f' % f1_mac_pred_NN_df_8)\n",
    "pre_mic_pred_NN_df_8 = precision_score(argmax_Y_test_df_8, argmax_pred_NN_df_8, average = 'micro')\n",
    "print('Micro Test Precision df_8: %.3f' % pre_mic_pred_NN_df_8)\n",
    "rec_mic_pred_NN_df_8 = recall_score(argmax_Y_test_df_8, argmax_pred_NN_df_8, average = 'micro')\n",
    "print('Micro Test Recall df_8: %.3f' % rec_mic_pred_NN_df_8)\n",
    "f1_mic_pred_NN_df_8 = f1_score(argmax_Y_test_df_8, argmax_pred_NN_df_8, average = 'micro')\n",
    "print('Micro Test F1 df_8: %.3f' % f1_mic_pred_NN_df_8)"
   ]
  },
  {
   "cell_type": "code",
   "execution_count": 90,
   "id": "0de68417",
   "metadata": {},
   "outputs": [
    {
     "name": "stdout",
     "output_type": "stream",
     "text": [
      "3518/3518 [==============================] - 5s 1ms/step\n",
      "[[2.2496042e-05 9.9997634e-01 1.0522433e-06]\n",
      " [2.2496042e-05 9.9997634e-01 1.0522433e-06]\n",
      " [9.9999923e-01 6.7019761e-07 2.0873214e-10]\n",
      " ...\n",
      " [2.2496044e-05 9.9997640e-01 1.0522434e-06]\n",
      " [2.2887773e-08 9.9999988e-01 9.2361489e-08]\n",
      " [2.2496044e-05 9.9997640e-01 1.0522433e-06]]\n"
     ]
    }
   ],
   "source": [
    "pred_NN_df_9 = loaded_model_df_9.predict(X_df_9_test)\n",
    "print(pred_NN_df_9)"
   ]
  },
  {
   "cell_type": "code",
   "execution_count": 91,
   "id": "8854604f",
   "metadata": {},
   "outputs": [
    {
     "name": "stdout",
     "output_type": "stream",
     "text": [
      "[1 1 0 ... 1 1 1]\n"
     ]
    }
   ],
   "source": [
    "argmax_pred_NN_df_9 = np.argmax(pred_NN_df_9, axis=1)\n",
    "print(argmax_pred_NN_df_9)"
   ]
  },
  {
   "cell_type": "code",
   "execution_count": 92,
   "id": "6255a139",
   "metadata": {},
   "outputs": [
    {
     "name": "stdout",
     "output_type": "stream",
     "text": [
      "[1 1 0 ... 1 1 1]\n"
     ]
    }
   ],
   "source": [
    "argmax_Y_test_df_9 = np.argmax(encoded_Y_test_df_9, axis=1)\n",
    "print(argmax_Y_test_df_9)"
   ]
  },
  {
   "cell_type": "code",
   "execution_count": 93,
   "id": "c81b10c4",
   "metadata": {},
   "outputs": [
    {
     "name": "stdout",
     "output_type": "stream",
     "text": [
      "Test Accuracy df_9: 1.000\n",
      "Macro Test Precision df_9: 1.000\n",
      "Macro Test Recall df_9: 1.000\n",
      "Macro Test F1 df_9: 1.000\n",
      "Micro Test Precision df_9: 1.000\n",
      "Micro Test Recall df_9: 1.000\n",
      "Micro Test F1 df_9: 1.000\n"
     ]
    }
   ],
   "source": [
    "acc_pred_NN_df_9 = accuracy_score(argmax_Y_test_df_9, argmax_pred_NN_df_9)\n",
    "print('Test Accuracy df_9: %.3f' % acc_pred_NN_df_9)\n",
    "pre_mac_pred_NN_df_9 = precision_score(argmax_Y_test_df_9, argmax_pred_NN_df_9, average = 'macro')\n",
    "print('Macro Test Precision df_9: %.3f' % pre_mac_pred_NN_df_9)\n",
    "rec_mac_pred_NN_df_9 = recall_score(argmax_Y_test_df_9, argmax_pred_NN_df_9, average = 'macro')\n",
    "print('Macro Test Recall df_9: %.3f' % rec_mac_pred_NN_df_9)\n",
    "f1_mac_pred_NN_df_9 = f1_score(argmax_Y_test_df_9, argmax_pred_NN_df_9, average = 'macro')\n",
    "print('Macro Test F1 df_9: %.3f' % f1_mac_pred_NN_df_9)\n",
    "pre_mic_pred_NN_df_9 = precision_score(argmax_Y_test_df_9, argmax_pred_NN_df_9, average = 'micro')\n",
    "print('Micro Test Precision df_9: %.3f' % pre_mic_pred_NN_df_9)\n",
    "rec_mic_pred_NN_df_9 = recall_score(argmax_Y_test_df_9, argmax_pred_NN_df_9, average = 'micro')\n",
    "print('Micro Test Recall df_9: %.3f' % rec_mic_pred_NN_df_9)\n",
    "f1_mic_pred_NN_df_9 = f1_score(argmax_Y_test_df_9, argmax_pred_NN_df_9, average = 'micro')\n",
    "print('Micro Test F1 df_9: %.3f' % f1_mic_pred_NN_df_9)"
   ]
  },
  {
   "cell_type": "code",
   "execution_count": 94,
   "id": "be2aff34",
   "metadata": {},
   "outputs": [],
   "source": [
    "def ensemble_predictions(members, testX):\n",
    "    yhats = [model.predict(testX) for model in members]\n",
    "    yhats = array(yhats)\n",
    "    summed = numpy.sum(yhats, axis=0)\n",
    "    result = argmax(summed, axis=1)\n",
    "    return result"
   ]
  },
  {
   "cell_type": "code",
   "execution_count": 95,
   "id": "6aa977fb",
   "metadata": {},
   "outputs": [
    {
     "name": "stdout",
     "output_type": "stream",
     "text": [
      "9547/9547 [==============================] - 14s 1ms/step\n",
      "9547/9547 [==============================] - 16s 2ms/step\n",
      "9547/9547 [==============================] - 14s 1ms/step\n",
      "9547/9547 [==============================] - 14s 2ms/step\n",
      "9547/9547 [==============================] - 16s 2ms/step\n",
      "9547/9547 [==============================] - 14s 1ms/step\n",
      "9547/9547 [==============================] - 15s 2ms/step\n",
      "9547/9547 [==============================] - 16s 2ms/step\n",
      "9547/9547 [==============================] - 13s 1ms/step\n",
      "[2 1 1 ... 2 2 2]\n"
     ]
    }
   ],
   "source": [
    "pred_ConNN_df_1 = ensemble_predictions(all_models, X_df_1_test)\n",
    "print(pred_ConNN_df_1)"
   ]
  },
  {
   "cell_type": "code",
   "execution_count": 96,
   "id": "203a5583",
   "metadata": {},
   "outputs": [
    {
     "name": "stdout",
     "output_type": "stream",
     "text": [
      "Test Accuracy df_1: 0.995\n",
      "Macro Test Precision df_1: 0.993\n",
      "Macro Test Recall df_1: 0.996\n",
      "Macro Test F1 df_1: 0.995\n",
      "Micro Test Precision df_1: 0.995\n",
      "Micro Test Recall df_1: 0.995\n",
      "Micro Test F1 df_1: 0.995\n"
     ]
    }
   ],
   "source": [
    "acc_pred_ConNN_df_1 = accuracy_score(argmax_Y_test_df_1, pred_ConNN_df_1)\n",
    "print('Test Accuracy df_1: %.3f' % acc_pred_ConNN_df_1)\n",
    "pre_mac_pred_ConNN_df_1 = precision_score(argmax_Y_test_df_1, pred_ConNN_df_1, average = 'macro')\n",
    "print('Macro Test Precision df_1: %.3f' % pre_mac_pred_ConNN_df_1)\n",
    "rec_mac_pred_ConNN_df_1 = recall_score(argmax_Y_test_df_1, pred_ConNN_df_1, average = 'macro')\n",
    "print('Macro Test Recall df_1: %.3f' % rec_mac_pred_ConNN_df_1)\n",
    "f1_mac_pred_ConNN_df_1 = f1_score(argmax_Y_test_df_1, pred_ConNN_df_1, average = 'macro')\n",
    "print('Macro Test F1 df_1: %.3f' % f1_mac_pred_ConNN_df_1)\n",
    "pre_mic_pred_ConNN_df_1 = precision_score(argmax_Y_test_df_1, pred_ConNN_df_1, average = 'micro')\n",
    "print('Micro Test Precision df_1: %.3f' % pre_mic_pred_ConNN_df_1)\n",
    "rec_mic_pred_ConNN_df_1 = recall_score(argmax_Y_test_df_1, pred_ConNN_df_1, average = 'micro')\n",
    "print('Micro Test Recall df_1: %.3f' % rec_mic_pred_ConNN_df_1)\n",
    "f1_mic_pred_ConNN_df_1 = f1_score(argmax_Y_test_df_1, pred_ConNN_df_1, average = 'micro')\n",
    "print('Micro Test F1 df_1: %.3f' % f1_mic_pred_ConNN_df_1)"
   ]
  },
  {
   "cell_type": "code",
   "execution_count": 97,
   "id": "75cfa875",
   "metadata": {},
   "outputs": [
    {
     "name": "stdout",
     "output_type": "stream",
     "text": [
      "3333/3333 [==============================] - 6s 2ms/step\n",
      "3333/3333 [==============================] - 4s 1ms/step\n",
      "3333/3333 [==============================] - 4s 1ms/step\n",
      "3333/3333 [==============================] - 6s 2ms/step\n",
      "3333/3333 [==============================] - 3s 990us/step\n",
      "3333/3333 [==============================] - 4s 1ms/step\n",
      "3333/3333 [==============================] - 4s 1ms/step\n",
      "3333/3333 [==============================] - 5s 2ms/step\n",
      "3333/3333 [==============================] - 5s 2ms/step\n",
      "[1 1 1 ... 1 1 1]\n"
     ]
    }
   ],
   "source": [
    "pred_ConNN_df_2 = ensemble_predictions(all_models, X_df_2_test)\n",
    "print(pred_ConNN_df_2)"
   ]
  },
  {
   "cell_type": "code",
   "execution_count": 98,
   "id": "0e1d27f1",
   "metadata": {},
   "outputs": [
    {
     "name": "stdout",
     "output_type": "stream",
     "text": [
      "Test Accuracy df_2: 0.890\n",
      "Macro Test Precision df_2: 0.616\n",
      "Macro Test Recall df_2: 0.458\n",
      "Macro Test F1 df_2: 0.513\n",
      "Micro Test Precision df_2: 0.890\n",
      "Micro Test Recall df_2: 0.890\n",
      "Micro Test F1 df_2: 0.890\n"
     ]
    },
    {
     "name": "stderr",
     "output_type": "stream",
     "text": [
      "/usr/local/lib/python3.10/dist-packages/sklearn/metrics/_classification.py:1471: UndefinedMetricWarning: Recall is ill-defined and being set to 0.0 in labels with no true samples. Use `zero_division` parameter to control this behavior.\n",
      "  _warn_prf(average, modifier, msg_start, len(result))\n"
     ]
    }
   ],
   "source": [
    "acc_pred_ConNN_df_2 = accuracy_score(argmax_Y_test_df_2, pred_ConNN_df_2)\n",
    "print('Test Accuracy df_2: %.3f' % acc_pred_ConNN_df_2)\n",
    "pre_mac_pred_ConNN_df_2 = precision_score(argmax_Y_test_df_2, pred_ConNN_df_2, average = 'macro')\n",
    "print('Macro Test Precision df_2: %.3f' % pre_mac_pred_ConNN_df_2)\n",
    "rec_mac_pred_ConNN_df_2 = recall_score(argmax_Y_test_df_2, pred_ConNN_df_2, average = 'macro')\n",
    "print('Macro Test Recall df_2: %.3f' % rec_mac_pred_ConNN_df_2)\n",
    "f1_mac_pred_ConNN_df_2 = f1_score(argmax_Y_test_df_2, pred_ConNN_df_2, average = 'macro')\n",
    "print('Macro Test F1 df_2: %.3f' % f1_mac_pred_ConNN_df_2)\n",
    "pre_mic_pred_ConNN_df_2 = precision_score(argmax_Y_test_df_2, pred_ConNN_df_2, average = 'micro')\n",
    "print('Micro Test Precision df_2: %.3f' % pre_mic_pred_ConNN_df_2)\n",
    "rec_mic_pred_ConNN_df_2 = recall_score(argmax_Y_test_df_2, pred_ConNN_df_2, average = 'micro')\n",
    "print('Micro Test Recall df_2: %.3f' % rec_mic_pred_ConNN_df_2)\n",
    "f1_mic_pred_ConNN_df_2 = f1_score(argmax_Y_test_df_2, pred_ConNN_df_2, average = 'micro')\n",
    "print('Micro Test F1 df_2: %.3f' % f1_mic_pred_ConNN_df_2)"
   ]
  },
  {
   "cell_type": "code",
   "execution_count": 99,
   "id": "197eed7f",
   "metadata": {},
   "outputs": [
    {
     "name": "stdout",
     "output_type": "stream",
     "text": [
      "7837/7837 [==============================] - 10s 1ms/step\n",
      "7837/7837 [==============================] - 13s 2ms/step\n",
      "7837/7837 [==============================] - 12s 2ms/step\n",
      "7837/7837 [==============================] - 11s 1ms/step\n",
      "7837/7837 [==============================] - 11s 1ms/step\n",
      "7837/7837 [==============================] - 13s 2ms/step\n",
      "7837/7837 [==============================] - 13s 2ms/step\n",
      "7837/7837 [==============================] - 13s 2ms/step\n",
      "7837/7837 [==============================] - 12s 2ms/step\n",
      "[1 2 1 ... 2 2 1]\n"
     ]
    }
   ],
   "source": [
    "pred_ConNN_df_3 = ensemble_predictions(all_models, X_df_3_test)\n",
    "print(pred_ConNN_df_3)"
   ]
  },
  {
   "cell_type": "code",
   "execution_count": 100,
   "id": "c0788340",
   "metadata": {},
   "outputs": [
    {
     "name": "stdout",
     "output_type": "stream",
     "text": [
      "Test Accuracy df_3: 0.992\n",
      "Macro Test Precision df_3: 0.991\n",
      "Macro Test Recall df_3: 0.995\n",
      "Macro Test F1 df_3: 0.993\n",
      "Micro Test Precision df_3: 0.992\n",
      "Micro Test Recall df_3: 0.992\n",
      "Micro Test F1 df_3: 0.992\n"
     ]
    }
   ],
   "source": [
    "acc_pred_ConNN_df_3 = accuracy_score(argmax_Y_test_df_3, pred_ConNN_df_3)\n",
    "print('Test Accuracy df_3: %.3f' % acc_pred_ConNN_df_3)\n",
    "pre_mac_pred_ConNN_df_3 = precision_score(argmax_Y_test_df_3, pred_ConNN_df_3, average = 'macro')\n",
    "print('Macro Test Precision df_3: %.3f' % pre_mac_pred_ConNN_df_3)\n",
    "rec_mac_pred_ConNN_df_3 = recall_score(argmax_Y_test_df_3, pred_ConNN_df_3, average = 'macro')\n",
    "print('Macro Test Recall df_3: %.3f' % rec_mac_pred_ConNN_df_3)\n",
    "f1_mac_pred_ConNN_df_3 = f1_score(argmax_Y_test_df_3, pred_ConNN_df_3, average = 'macro')\n",
    "print('Macro Test F1 df_3: %.3f' % f1_mac_pred_ConNN_df_3)\n",
    "pre_mic_pred_ConNN_df_3 = precision_score(argmax_Y_test_df_3, pred_ConNN_df_3, average = 'micro')\n",
    "print('Micro Test Precision df_3: %.3f' % pre_mic_pred_ConNN_df_3)\n",
    "rec_mic_pred_ConNN_df_3 = recall_score(argmax_Y_test_df_3, pred_ConNN_df_3, average = 'micro')\n",
    "print('Micro Test Recall df_3: %.3f' % rec_mic_pred_ConNN_df_3)\n",
    "f1_mic_pred_ConNN_df_3 = f1_score(argmax_Y_test_df_3, pred_ConNN_df_3, average = 'micro')\n",
    "print('Micro Test F1 df_3: %.3f' % f1_mic_pred_ConNN_df_3)"
   ]
  },
  {
   "cell_type": "code",
   "execution_count": 101,
   "id": "f949879c",
   "metadata": {},
   "outputs": [
    {
     "name": "stdout",
     "output_type": "stream",
     "text": [
      "10301/10301 [==============================] - 15s 1ms/step\n",
      "10301/10301 [==============================] - 14s 1ms/step\n",
      "10301/10301 [==============================] - 14s 1ms/step\n",
      "10301/10301 [==============================] - 14s 1ms/step\n",
      "10301/10301 [==============================] - 13s 1ms/step\n",
      "10301/10301 [==============================] - 14s 1ms/step\n",
      "10301/10301 [==============================] - 15s 1ms/step\n",
      "10301/10301 [==============================] - 17s 2ms/step\n",
      "10301/10301 [==============================] - 13s 1ms/step\n",
      "[2 1 2 ... 0 2 1]\n"
     ]
    }
   ],
   "source": [
    "pred_ConNN_df_4 = ensemble_predictions(all_models, X_df_4_test)\n",
    "print(pred_ConNN_df_4)"
   ]
  },
  {
   "cell_type": "code",
   "execution_count": 102,
   "id": "b977d8cf",
   "metadata": {},
   "outputs": [
    {
     "name": "stdout",
     "output_type": "stream",
     "text": [
      "Test Accuracy df_4: 0.991\n",
      "Macro Test Precision df_4: 0.990\n",
      "Macro Test Recall df_4: 0.992\n",
      "Macro Test F1 df_4: 0.991\n",
      "Micro Test Precision df_4: 0.991\n",
      "Micro Test Recall df_4: 0.991\n",
      "Micro Test F1 df_4: 0.991\n"
     ]
    }
   ],
   "source": [
    "acc_pred_ConNN_df_4 = accuracy_score(argmax_Y_test_df_4, pred_ConNN_df_4)\n",
    "print('Test Accuracy df_4: %.3f' % acc_pred_ConNN_df_4)\n",
    "pre_mac_pred_ConNN_df_4 = precision_score(argmax_Y_test_df_4, pred_ConNN_df_4, average = 'macro')\n",
    "print('Macro Test Precision df_4: %.3f' % pre_mac_pred_ConNN_df_4)\n",
    "rec_mac_pred_ConNN_df_4 = recall_score(argmax_Y_test_df_4, pred_ConNN_df_4, average = 'macro')\n",
    "print('Macro Test Recall df_4: %.3f' % rec_mac_pred_ConNN_df_4)\n",
    "f1_mac_pred_ConNN_df_4 = f1_score(argmax_Y_test_df_4, pred_ConNN_df_4, average = 'macro')\n",
    "print('Macro Test F1 df_4: %.3f' % f1_mac_pred_ConNN_df_4)\n",
    "pre_mic_pred_ConNN_df_4 = precision_score(argmax_Y_test_df_4, pred_ConNN_df_4, average = 'micro')\n",
    "print('Micro Test Precision df_4: %.3f' % pre_mic_pred_ConNN_df_4)\n",
    "rec_mic_pred_ConNN_df_4 = recall_score(argmax_Y_test_df_4, pred_ConNN_df_4, average = 'micro')\n",
    "print('Micro Test Recall df_4: %.3f' % rec_mic_pred_ConNN_df_4)\n",
    "f1_mic_pred_ConNN_df_4 = f1_score(argmax_Y_test_df_4, pred_ConNN_df_4, average = 'micro')\n",
    "print('Micro Test F1 df_4: %.3f' % f1_mic_pred_ConNN_df_4)"
   ]
  },
  {
   "cell_type": "code",
   "execution_count": 103,
   "id": "3d87a586",
   "metadata": {},
   "outputs": [
    {
     "name": "stdout",
     "output_type": "stream",
     "text": [
      "7765/7765 [==============================] - 14s 2ms/step\n",
      "7765/7765 [==============================] - 11s 1ms/step\n",
      "7765/7765 [==============================] - 13s 2ms/step\n",
      "7765/7765 [==============================] - 12s 2ms/step\n",
      "7765/7765 [==============================] - 12s 2ms/step\n",
      "7765/7765 [==============================] - 13s 2ms/step\n",
      "7765/7765 [==============================] - 12s 2ms/step\n",
      "7765/7765 [==============================] - 10s 1ms/step\n",
      "7765/7765 [==============================] - 14s 2ms/step\n",
      "[1 1 2 ... 2 2 2]\n"
     ]
    }
   ],
   "source": [
    "pred_ConNN_df_5 = ensemble_predictions(all_models, X_df_5_test)\n",
    "print(pred_ConNN_df_5)"
   ]
  },
  {
   "cell_type": "code",
   "execution_count": 104,
   "id": "d17aa274",
   "metadata": {},
   "outputs": [
    {
     "name": "stdout",
     "output_type": "stream",
     "text": [
      "Test Accuracy df_5: 0.999\n",
      "Macro Test Precision df_5: 0.998\n",
      "Macro Test Recall df_5: 0.998\n",
      "Macro Test F1 df_5: 0.998\n",
      "Micro Test Precision df_5: 0.999\n",
      "Micro Test Recall df_5: 0.999\n",
      "Micro Test F1 df_5: 0.999\n"
     ]
    }
   ],
   "source": [
    "acc_pred_ConNN_df_5 = accuracy_score(argmax_Y_test_df_5, pred_ConNN_df_5)\n",
    "print('Test Accuracy df_5: %.3f' % acc_pred_ConNN_df_5)\n",
    "pre_mac_pred_ConNN_df_5 = precision_score(argmax_Y_test_df_5, pred_ConNN_df_5, average = 'macro')\n",
    "print('Macro Test Precision df_5: %.3f' % pre_mac_pred_ConNN_df_5)\n",
    "rec_mac_pred_ConNN_df_5 = recall_score(argmax_Y_test_df_5, pred_ConNN_df_5, average = 'macro')\n",
    "print('Macro Test Recall df_5: %.3f' % rec_mac_pred_ConNN_df_5)\n",
    "f1_mac_pred_ConNN_df_5 = f1_score(argmax_Y_test_df_5, pred_ConNN_df_5, average = 'macro')\n",
    "print('Macro Test F1 df_5: %.3f' % f1_mac_pred_ConNN_df_5)\n",
    "pre_mic_pred_ConNN_df_5 = precision_score(argmax_Y_test_df_5, pred_ConNN_df_5, average = 'micro')\n",
    "print('Micro Test Precision df_5: %.3f' % pre_mic_pred_ConNN_df_5)\n",
    "rec_mic_pred_ConNN_df_5 = recall_score(argmax_Y_test_df_5, pred_ConNN_df_5, average = 'micro')\n",
    "print('Micro Test Recall df_5: %.3f' % rec_mic_pred_ConNN_df_5)\n",
    "f1_mic_pred_ConNN_df_5 = f1_score(argmax_Y_test_df_5, pred_ConNN_df_5, average = 'micro')\n",
    "print('Micro Test F1 df_5: %.3f' % f1_mic_pred_ConNN_df_5)"
   ]
  },
  {
   "cell_type": "code",
   "execution_count": 105,
   "id": "9add9048",
   "metadata": {},
   "outputs": [
    {
     "name": "stdout",
     "output_type": "stream",
     "text": [
      "7846/7846 [==============================] - 11s 1ms/step\n",
      "7846/7846 [==============================] - 13s 2ms/step\n",
      "7846/7846 [==============================] - 10s 1ms/step\n",
      "7846/7846 [==============================] - 13s 2ms/step\n",
      "7846/7846 [==============================] - 14s 2ms/step\n",
      "7846/7846 [==============================] - 11s 1ms/step\n",
      "7846/7846 [==============================] - 14s 2ms/step\n",
      "7846/7846 [==============================] - 12s 2ms/step\n",
      "7846/7846 [==============================] - 12s 2ms/step\n",
      "[1 2 1 ... 2 1 1]\n"
     ]
    }
   ],
   "source": [
    "pred_ConNN_df_6 = ensemble_predictions(all_models, X_df_6_test)\n",
    "print(pred_ConNN_df_6)"
   ]
  },
  {
   "cell_type": "code",
   "execution_count": 106,
   "id": "213ba232",
   "metadata": {},
   "outputs": [
    {
     "name": "stdout",
     "output_type": "stream",
     "text": [
      "Test Accuracy df_6: 0.999\n",
      "Macro Test Precision df_6: 0.999\n",
      "Macro Test Recall df_6: 0.998\n",
      "Macro Test F1 df_6: 0.999\n",
      "Micro Test Precision df_6: 0.999\n",
      "Micro Test Recall df_6: 0.999\n",
      "Micro Test F1 df_6: 0.999\n"
     ]
    }
   ],
   "source": [
    "acc_pred_ConNN_df_6 = accuracy_score(argmax_Y_test_df_6, pred_ConNN_df_6)\n",
    "print('Test Accuracy df_6: %.3f' % acc_pred_ConNN_df_6)\n",
    "pre_mac_pred_ConNN_df_6 = precision_score(argmax_Y_test_df_6, pred_ConNN_df_6, average = 'macro')\n",
    "print('Macro Test Precision df_6: %.3f' % pre_mac_pred_ConNN_df_6)\n",
    "rec_mac_pred_ConNN_df_6 = recall_score(argmax_Y_test_df_6, pred_ConNN_df_6, average = 'macro')\n",
    "print('Macro Test Recall df_6: %.3f' % rec_mac_pred_ConNN_df_6)\n",
    "f1_mac_pred_ConNN_df_6 = f1_score(argmax_Y_test_df_6, pred_ConNN_df_6, average = 'macro')\n",
    "print('Macro Test F1 df_6: %.3f' % f1_mac_pred_ConNN_df_6)\n",
    "pre_mic_pred_ConNN_df_6 = precision_score(argmax_Y_test_df_6, pred_ConNN_df_6, average = 'micro')\n",
    "print('Micro Test Precision df_6: %.3f' % pre_mic_pred_ConNN_df_6)\n",
    "rec_mic_pred_ConNN_df_6 = recall_score(argmax_Y_test_df_6, pred_ConNN_df_6, average = 'micro')\n",
    "print('Micro Test Recall df_6: %.3f' % rec_mic_pred_ConNN_df_6)\n",
    "f1_mic_pred_ConNN_df_6 = f1_score(argmax_Y_test_df_6, pred_ConNN_df_6, average = 'micro')\n",
    "print('Micro Test F1 df_6: %.3f' % f1_mic_pred_ConNN_df_6)"
   ]
  },
  {
   "cell_type": "code",
   "execution_count": 107,
   "id": "24efbbe9",
   "metadata": {},
   "outputs": [
    {
     "name": "stdout",
     "output_type": "stream",
     "text": [
      "8092/8092 [==============================] - 12s 2ms/step\n",
      "8092/8092 [==============================] - 14s 2ms/step\n",
      "8092/8092 [==============================] - 13s 2ms/step\n",
      "8092/8092 [==============================] - 14s 2ms/step\n",
      "8092/8092 [==============================] - 12s 2ms/step\n",
      "8092/8092 [==============================] - 10s 1ms/step\n",
      "8092/8092 [==============================] - 13s 2ms/step\n",
      "8092/8092 [==============================] - 13s 2ms/step\n",
      "8092/8092 [==============================] - 13s 2ms/step\n",
      "[1 1 1 ... 1 2 1]\n"
     ]
    }
   ],
   "source": [
    "pred_ConNN_df_7 = ensemble_predictions(all_models, X_df_7_test)\n",
    "print(pred_ConNN_df_7)"
   ]
  },
  {
   "cell_type": "code",
   "execution_count": 108,
   "id": "957fd894",
   "metadata": {},
   "outputs": [
    {
     "name": "stdout",
     "output_type": "stream",
     "text": [
      "Test Accuracy df_7: 0.990\n",
      "Macro Test Precision df_7: 0.987\n",
      "Macro Test Recall df_7: 0.986\n",
      "Macro Test F1 df_7: 0.987\n",
      "Micro Test Precision df_7: 0.990\n",
      "Micro Test Recall df_7: 0.990\n",
      "Micro Test F1 df_7: 0.990\n"
     ]
    }
   ],
   "source": [
    "acc_pred_ConNN_df_7 = accuracy_score(argmax_Y_test_df_7, pred_ConNN_df_7)\n",
    "print('Test Accuracy df_7: %.3f' % acc_pred_ConNN_df_7)\n",
    "pre_mac_pred_ConNN_df_7 = precision_score(argmax_Y_test_df_7, pred_ConNN_df_7, average = 'macro')\n",
    "print('Macro Test Precision df_7: %.3f' % pre_mac_pred_ConNN_df_7)\n",
    "rec_mac_pred_ConNN_df_7 = recall_score(argmax_Y_test_df_7, pred_ConNN_df_7, average = 'macro')\n",
    "print('Macro Test Recall df_7: %.3f' % rec_mac_pred_ConNN_df_7)\n",
    "f1_mac_pred_ConNN_df_7 = f1_score(argmax_Y_test_df_7, pred_ConNN_df_7, average = 'macro')\n",
    "print('Macro Test F1 df_7: %.3f' % f1_mac_pred_ConNN_df_7)\n",
    "pre_mic_pred_ConNN_df_7 = precision_score(argmax_Y_test_df_7, pred_ConNN_df_7, average = 'micro')\n",
    "print('Micro Test Precision df_7: %.3f' % pre_mic_pred_ConNN_df_7)\n",
    "rec_mic_pred_ConNN_df_7 = recall_score(argmax_Y_test_df_7, pred_ConNN_df_7, average = 'micro')\n",
    "print('Micro Test Recall df_7: %.3f' % rec_mic_pred_ConNN_df_7)\n",
    "f1_mic_pred_ConNN_df_7 = f1_score(argmax_Y_test_df_7, pred_ConNN_df_7, average = 'micro')\n",
    "print('Micro Test F1 df_7: %.3f' % f1_mic_pred_ConNN_df_7)"
   ]
  },
  {
   "cell_type": "code",
   "execution_count": 109,
   "id": "5caede03",
   "metadata": {},
   "outputs": [
    {
     "name": "stdout",
     "output_type": "stream",
     "text": [
      "7977/7977 [==============================] - 12s 2ms/step\n",
      "7977/7977 [==============================] - 14s 2ms/step\n",
      "7977/7977 [==============================] - 13s 2ms/step\n",
      "7977/7977 [==============================] - 11s 1ms/step\n",
      "7977/7977 [==============================] - 13s 2ms/step\n",
      "7977/7977 [==============================] - 12s 1ms/step\n",
      "7977/7977 [==============================] - 11s 1ms/step\n",
      "7977/7977 [==============================] - 12s 2ms/step\n",
      "7977/7977 [==============================] - 13s 2ms/step\n",
      "[0 1 1 ... 2 1 2]\n"
     ]
    }
   ],
   "source": [
    "pred_ConNN_df_8 = ensemble_predictions(all_models, X_df_8_test)\n",
    "print(pred_ConNN_df_8)"
   ]
  },
  {
   "cell_type": "code",
   "execution_count": 110,
   "id": "dc24198f",
   "metadata": {},
   "outputs": [
    {
     "name": "stdout",
     "output_type": "stream",
     "text": [
      "Test Accuracy df_8: 0.988\n",
      "Macro Test Precision df_8: 0.987\n",
      "Macro Test Recall df_8: 0.992\n",
      "Macro Test F1 df_8: 0.989\n",
      "Micro Test Precision df_8: 0.988\n",
      "Micro Test Recall df_8: 0.988\n",
      "Micro Test F1 df_8: 0.988\n"
     ]
    }
   ],
   "source": [
    "acc_pred_ConNN_df_8 = accuracy_score(argmax_Y_test_df_8, pred_ConNN_df_8)\n",
    "print('Test Accuracy df_8: %.3f' % acc_pred_ConNN_df_8)\n",
    "pre_mac_pred_ConNN_df_8 = precision_score(argmax_Y_test_df_8, pred_ConNN_df_8, average = 'macro')\n",
    "print('Macro Test Precision df_8: %.3f' % pre_mac_pred_ConNN_df_8)\n",
    "rec_mac_pred_ConNN_df_8 = recall_score(argmax_Y_test_df_8, pred_ConNN_df_8, average = 'macro')\n",
    "print('Macro Test Recall df_8: %.3f' % rec_mac_pred_ConNN_df_8)\n",
    "f1_mac_pred_ConNN_df_8 = f1_score(argmax_Y_test_df_8, pred_ConNN_df_8, average = 'macro')\n",
    "print('Macro Test F1 df_8: %.3f' % f1_mac_pred_ConNN_df_8)\n",
    "pre_mic_pred_ConNN_df_8 = precision_score(argmax_Y_test_df_8, pred_ConNN_df_8, average = 'micro')\n",
    "print('Micro Test Precision df_8: %.3f' % pre_mic_pred_ConNN_df_8)\n",
    "rec_mic_pred_ConNN_df_8 = recall_score(argmax_Y_test_df_8, pred_ConNN_df_8, average = 'micro')\n",
    "print('Micro Test Recall df_8: %.3f' % rec_mic_pred_ConNN_df_8)\n",
    "f1_mic_pred_ConNN_df_8 = f1_score(argmax_Y_test_df_8, pred_ConNN_df_8, average = 'micro')\n",
    "print('Micro Test F1 df_8: %.3f' % f1_mic_pred_ConNN_df_8)"
   ]
  },
  {
   "cell_type": "code",
   "execution_count": 111,
   "id": "792efcb0",
   "metadata": {},
   "outputs": [
    {
     "name": "stdout",
     "output_type": "stream",
     "text": [
      "3518/3518 [==============================] - 6s 2ms/step\n",
      "3518/3518 [==============================] - 5s 2ms/step\n",
      "3518/3518 [==============================] - 4s 1ms/step\n",
      "3518/3518 [==============================] - 5s 1ms/step\n",
      "3518/3518 [==============================] - 6s 2ms/step\n",
      "3518/3518 [==============================] - 5s 1ms/step\n",
      "3518/3518 [==============================] - 6s 2ms/step\n",
      "3518/3518 [==============================] - 7s 2ms/step\n",
      "3518/3518 [==============================] - 4s 1ms/step\n",
      "[1 1 2 ... 1 1 1]\n"
     ]
    }
   ],
   "source": [
    "pred_ConNN_df_9 = ensemble_predictions(all_models, X_df_9_test)\n",
    "print(pred_ConNN_df_9)"
   ]
  },
  {
   "cell_type": "code",
   "execution_count": 112,
   "id": "6937acf8",
   "metadata": {},
   "outputs": [
    {
     "name": "stdout",
     "output_type": "stream",
     "text": [
      "Test Accuracy df_9: 0.905\n",
      "Macro Test Precision df_9: 0.666\n",
      "Macro Test Recall df_9: 0.443\n",
      "Macro Test F1 df_9: 0.499\n",
      "Micro Test Precision df_9: 0.905\n",
      "Micro Test Recall df_9: 0.905\n",
      "Micro Test F1 df_9: 0.905\n"
     ]
    },
    {
     "name": "stderr",
     "output_type": "stream",
     "text": [
      "/usr/local/lib/python3.10/dist-packages/sklearn/metrics/_classification.py:1471: UndefinedMetricWarning: Recall is ill-defined and being set to 0.0 in labels with no true samples. Use `zero_division` parameter to control this behavior.\n",
      "  _warn_prf(average, modifier, msg_start, len(result))\n"
     ]
    }
   ],
   "source": [
    "acc_pred_ConNN_df_9 = accuracy_score(argmax_Y_test_df_9, pred_ConNN_df_9)\n",
    "print('Test Accuracy df_9: %.3f' % acc_pred_ConNN_df_9)\n",
    "pre_mac_pred_ConNN_df_9 = precision_score(argmax_Y_test_df_9, pred_ConNN_df_9, average = 'macro')\n",
    "print('Macro Test Precision df_9: %.3f' % pre_mac_pred_ConNN_df_9)\n",
    "rec_mac_pred_ConNN_df_9 = recall_score(argmax_Y_test_df_9, pred_ConNN_df_9, average = 'macro')\n",
    "print('Macro Test Recall df_9: %.3f' % rec_mac_pred_ConNN_df_9)\n",
    "f1_mac_pred_ConNN_df_9 = f1_score(argmax_Y_test_df_9, pred_ConNN_df_9, average = 'macro')\n",
    "print('Macro Test F1 df_9: %.3f' % f1_mac_pred_ConNN_df_9)\n",
    "pre_mic_pred_ConNN_df_9 = precision_score(argmax_Y_test_df_9, pred_ConNN_df_9, average = 'micro')\n",
    "print('Micro Test Precision df_9: %.3f' % pre_mic_pred_ConNN_df_9)\n",
    "rec_mic_pred_ConNN_df_9 = recall_score(argmax_Y_test_df_9, pred_ConNN_df_9, average = 'micro')\n",
    "print('Micro Test Recall df_9: %.3f' % rec_mic_pred_ConNN_df_9)\n",
    "f1_mic_pred_ConNN_df_9 = f1_score(argmax_Y_test_df_9, pred_ConNN_df_9, average = 'micro')\n",
    "print('Micro Test F1 df_9: %.3f' % f1_mic_pred_ConNN_df_9)"
   ]
  },
  {
   "cell_type": "code",
   "execution_count": 113,
   "id": "2ba57763",
   "metadata": {},
   "outputs": [],
   "source": [
    "def evaluate_model(pred, testY):\n",
    "    acc_pred = accuracy_score(testY, pred)\n",
    "    print('Test Accuracy: %.3f' % acc_pred)\n",
    "    pre_pred = precision_score(testY, pred, average = 'macro')\n",
    "    print('Macro Test Precision: %.3f' % pre_pred)\n",
    "    rec_pred = recall_score(testY, pred, average = 'macro')\n",
    "    print('Macro Test Recall: %.3f' % rec_pred)\n",
    "    f1_pred = f1_score(testY, pred, average = 'macro')\n",
    "    print('Macro Test F1: %.3f' % f1_pred)"
   ]
  },
  {
   "cell_type": "code",
   "execution_count": 114,
   "id": "4a961b0b",
   "metadata": {},
   "outputs": [
    {
     "name": "stdout",
     "output_type": "stream",
     "text": [
      "3333/3333 [==============================] - 5s 1ms/step\n",
      "Test Accuracy: 0.084\n",
      "Macro Test Precision: 0.600\n",
      "Macro Test Recall: 0.094\n",
      "Macro Test F1: 0.159\n"
     ]
    },
    {
     "name": "stderr",
     "output_type": "stream",
     "text": [
      "/usr/local/lib/python3.10/dist-packages/sklearn/metrics/_classification.py:1471: UndefinedMetricWarning: Recall is ill-defined and being set to 0.0 in labels with no true samples. Use `zero_division` parameter to control this behavior.\n",
      "  _warn_prf(average, modifier, msg_start, len(result))\n"
     ]
    },
    {
     "name": "stdout",
     "output_type": "stream",
     "text": [
      "7837/7837 [==============================] - 12s 1ms/step\n",
      "Test Accuracy: 0.954\n",
      "Macro Test Precision: 0.970\n",
      "Macro Test Recall: 0.872\n",
      "Macro Test F1: 0.913\n",
      "10301/10301 [==============================] - 18s 2ms/step\n",
      "Test Accuracy: 0.992\n",
      "Macro Test Precision: 0.992\n",
      "Macro Test Recall: 0.984\n",
      "Macro Test F1: 0.987\n",
      "7765/7765 [==============================] - 10s 1ms/step\n",
      "Test Accuracy: 0.978\n",
      "Macro Test Precision: 0.983\n",
      "Macro Test Recall: 0.927\n",
      "Macro Test F1: 0.951\n",
      "7846/7846 [==============================] - 10s 1ms/step\n",
      "Test Accuracy: 0.965\n",
      "Macro Test Precision: 0.972\n",
      "Macro Test Recall: 0.917\n",
      "Macro Test F1: 0.940\n",
      "8092/8092 [==============================] - 13s 2ms/step\n",
      "Test Accuracy: 0.927\n",
      "Macro Test Precision: 0.942\n",
      "Macro Test Recall: 0.801\n",
      "Macro Test F1: 0.849\n",
      "7977/7977 [==============================] - 10s 1ms/step\n",
      "Test Accuracy: 0.942\n",
      "Macro Test Precision: 0.958\n",
      "Macro Test Recall: 0.756\n",
      "Macro Test F1: 0.811\n",
      "3518/3518 [==============================] - 5s 1ms/step\n",
      "Test Accuracy: 0.722\n",
      "Macro Test Precision: 0.656\n",
      "Macro Test Recall: 0.289\n",
      "Macro Test F1: 0.321\n"
     ]
    },
    {
     "name": "stderr",
     "output_type": "stream",
     "text": [
      "/usr/local/lib/python3.10/dist-packages/sklearn/metrics/_classification.py:1471: UndefinedMetricWarning: Recall is ill-defined and being set to 0.0 in labels with no true samples. Use `zero_division` parameter to control this behavior.\n",
      "  _warn_prf(average, modifier, msg_start, len(result))\n"
     ]
    }
   ],
   "source": [
    "pred_df_1_cross_df_2 = loaded_model_df_1.predict(X_df_2_test)\n",
    "argmax_pred_df_1_cross_df_2 = np.argmax(pred_df_1_cross_df_2, axis=1)\n",
    "evaluate_model(argmax_pred_df_1_cross_df_2, argmax_Y_test_df_2)\n",
    "\n",
    "pred_df_1_cross_df_3 = loaded_model_df_1.predict(X_df_3_test)\n",
    "argmax_pred_df_1_cross_df_3 = np.argmax(pred_df_1_cross_df_3, axis=1)\n",
    "evaluate_model(argmax_pred_df_1_cross_df_3, argmax_Y_test_df_3)\n",
    "\n",
    "pred_df_1_cross_df_4 = loaded_model_df_1.predict(X_df_4_test)\n",
    "argmax_pred_df_1_cross_df_4 = np.argmax(pred_df_1_cross_df_4, axis=1)\n",
    "evaluate_model(argmax_pred_df_1_cross_df_4, argmax_Y_test_df_4)\n",
    "\n",
    "pred_df_1_cross_df_5 = loaded_model_df_1.predict(X_df_5_test)\n",
    "argmax_pred_df_1_cross_df_5 = np.argmax(pred_df_1_cross_df_5, axis=1)\n",
    "evaluate_model(argmax_pred_df_1_cross_df_5, argmax_Y_test_df_5)\n",
    "\n",
    "pred_df_1_cross_df_6 = loaded_model_df_1.predict(X_df_6_test)\n",
    "argmax_pred_df_1_cross_df_6 = np.argmax(pred_df_1_cross_df_6, axis=1)\n",
    "evaluate_model(argmax_pred_df_1_cross_df_6, argmax_Y_test_df_6)\n",
    "\n",
    "pred_df_1_cross_df_7 = loaded_model_df_1.predict(X_df_7_test)\n",
    "argmax_pred_df_1_cross_df_7 = np.argmax(pred_df_1_cross_df_7, axis=1)\n",
    "evaluate_model(argmax_pred_df_1_cross_df_7, argmax_Y_test_df_7)\n",
    "\n",
    "pred_df_1_cross_df_8 = loaded_model_df_1.predict(X_df_8_test)\n",
    "argmax_pred_df_1_cross_df_8 = np.argmax(pred_df_1_cross_df_8, axis=1)\n",
    "evaluate_model(argmax_pred_df_1_cross_df_8, argmax_Y_test_df_8)\n",
    "\n",
    "pred_df_1_cross_df_9 = loaded_model_df_1.predict(X_df_9_test)\n",
    "argmax_pred_df_1_cross_df_9 = np.argmax(pred_df_1_cross_df_9, axis=1)\n",
    "evaluate_model(argmax_pred_df_1_cross_df_9, argmax_Y_test_df_9)"
   ]
  },
  {
   "cell_type": "code",
   "execution_count": 115,
   "id": "32e490c2",
   "metadata": {},
   "outputs": [
    {
     "name": "stdout",
     "output_type": "stream",
     "text": [
      "9547/9547 [==============================] - 14s 2ms/step\n",
      "Test Accuracy: 0.162\n",
      "Macro Test Precision: 0.113\n",
      "Macro Test Recall: 0.454\n"
     ]
    },
    {
     "name": "stderr",
     "output_type": "stream",
     "text": [
      "/usr/local/lib/python3.10/dist-packages/sklearn/metrics/_classification.py:1471: UndefinedMetricWarning: Precision is ill-defined and being set to 0.0 in labels with no predicted samples. Use `zero_division` parameter to control this behavior.\n",
      "  _warn_prf(average, modifier, msg_start, len(result))\n"
     ]
    },
    {
     "name": "stdout",
     "output_type": "stream",
     "text": [
      "Macro Test F1: 0.176\n",
      "7837/7837 [==============================] - 14s 2ms/step\n",
      "Test Accuracy: 0.384\n",
      "Macro Test Precision: 0.225\n",
      "Macro Test Recall: 0.660\n",
      "Macro Test F1: 0.334\n"
     ]
    },
    {
     "name": "stderr",
     "output_type": "stream",
     "text": [
      "/usr/local/lib/python3.10/dist-packages/sklearn/metrics/_classification.py:1471: UndefinedMetricWarning: Precision is ill-defined and being set to 0.0 in labels with no predicted samples. Use `zero_division` parameter to control this behavior.\n",
      "  _warn_prf(average, modifier, msg_start, len(result))\n"
     ]
    },
    {
     "name": "stdout",
     "output_type": "stream",
     "text": [
      "10301/10301 [==============================] - 14s 1ms/step\n",
      "Test Accuracy: 0.440\n",
      "Macro Test Precision: 0.440\n"
     ]
    },
    {
     "name": "stderr",
     "output_type": "stream",
     "text": [
      "/usr/local/lib/python3.10/dist-packages/sklearn/metrics/_classification.py:1471: UndefinedMetricWarning: Precision is ill-defined and being set to 0.0 in labels with no predicted samples. Use `zero_division` parameter to control this behavior.\n",
      "  _warn_prf(average, modifier, msg_start, len(result))\n"
     ]
    },
    {
     "name": "stdout",
     "output_type": "stream",
     "text": [
      "Macro Test Recall: 0.660\n",
      "Macro Test F1: 0.496\n",
      "7765/7765 [==============================] - 12s 2ms/step\n",
      "Test Accuracy: 0.470\n",
      "Macro Test Precision: 0.352\n",
      "Macro Test Recall: 0.655\n",
      "Macro Test F1: 0.455\n"
     ]
    },
    {
     "name": "stderr",
     "output_type": "stream",
     "text": [
      "/usr/local/lib/python3.10/dist-packages/sklearn/metrics/_classification.py:1471: UndefinedMetricWarning: Precision is ill-defined and being set to 0.0 in labels with no predicted samples. Use `zero_division` parameter to control this behavior.\n",
      "  _warn_prf(average, modifier, msg_start, len(result))\n"
     ]
    },
    {
     "name": "stdout",
     "output_type": "stream",
     "text": [
      "7846/7846 [==============================] - 12s 1ms/step\n",
      "Test Accuracy: 0.484\n",
      "Macro Test Precision: 0.400\n",
      "Macro Test Recall: 0.661\n",
      "Macro Test F1: 0.489\n"
     ]
    },
    {
     "name": "stderr",
     "output_type": "stream",
     "text": [
      "/usr/local/lib/python3.10/dist-packages/sklearn/metrics/_classification.py:1471: UndefinedMetricWarning: Precision is ill-defined and being set to 0.0 in labels with no predicted samples. Use `zero_division` parameter to control this behavior.\n",
      "  _warn_prf(average, modifier, msg_start, len(result))\n"
     ]
    },
    {
     "name": "stdout",
     "output_type": "stream",
     "text": [
      "8092/8092 [==============================] - 11s 1ms/step\n",
      "Test Accuracy: 0.401\n",
      "Macro Test Precision: 0.329\n"
     ]
    },
    {
     "name": "stderr",
     "output_type": "stream",
     "text": [
      "/usr/local/lib/python3.10/dist-packages/sklearn/metrics/_classification.py:1471: UndefinedMetricWarning: Precision is ill-defined and being set to 0.0 in labels with no predicted samples. Use `zero_division` parameter to control this behavior.\n",
      "  _warn_prf(average, modifier, msg_start, len(result))\n"
     ]
    },
    {
     "name": "stdout",
     "output_type": "stream",
     "text": [
      "Macro Test Recall: 0.653\n",
      "Macro Test F1: 0.432\n",
      "7977/7977 [==============================] - 12s 2ms/step\n",
      "Test Accuracy: 0.392\n",
      "Macro Test Precision: 0.228\n",
      "Macro Test Recall: 0.656\n",
      "Macro Test F1: 0.337\n"
     ]
    },
    {
     "name": "stderr",
     "output_type": "stream",
     "text": [
      "/usr/local/lib/python3.10/dist-packages/sklearn/metrics/_classification.py:1471: UndefinedMetricWarning: Precision is ill-defined and being set to 0.0 in labels with no predicted samples. Use `zero_division` parameter to control this behavior.\n",
      "  _warn_prf(average, modifier, msg_start, len(result))\n"
     ]
    },
    {
     "name": "stdout",
     "output_type": "stream",
     "text": [
      "3518/3518 [==============================] - 6s 2ms/step\n",
      "Test Accuracy: 0.998\n",
      "Macro Test Precision: 0.998\n",
      "Macro Test Recall: 0.994\n",
      "Macro Test F1: 0.996\n"
     ]
    }
   ],
   "source": [
    "pred_df_2_cross_df_1 = loaded_model_df_2.predict(X_df_1_test)\n",
    "argmax_pred_df_2_cross_df_1 = np.argmax(pred_df_2_cross_df_1, axis=1)\n",
    "evaluate_model(argmax_pred_df_2_cross_df_1, argmax_Y_test_df_1)\n",
    "\n",
    "pred_df_2_cross_df_3 = loaded_model_df_2.predict(X_df_3_test)\n",
    "argmax_pred_df_2_cross_df_3 = np.argmax(pred_df_2_cross_df_3, axis=1)\n",
    "evaluate_model(argmax_pred_df_2_cross_df_3, argmax_Y_test_df_3)\n",
    "\n",
    "pred_df_2_cross_df_4 = loaded_model_df_2.predict(X_df_4_test)\n",
    "argmax_pred_df_2_cross_df_4 = np.argmax(pred_df_2_cross_df_4, axis=1)\n",
    "evaluate_model(argmax_pred_df_2_cross_df_4, argmax_Y_test_df_4)\n",
    "\n",
    "pred_df_2_cross_df_5 = loaded_model_df_2.predict(X_df_5_test)\n",
    "argmax_pred_df_2_cross_df_5 = np.argmax(pred_df_2_cross_df_5, axis=1)\n",
    "evaluate_model(argmax_pred_df_2_cross_df_5, argmax_Y_test_df_5)\n",
    "\n",
    "pred_df_2_cross_df_6 = loaded_model_df_2.predict(X_df_6_test)\n",
    "argmax_pred_df_2_cross_df_6 = np.argmax(pred_df_2_cross_df_6, axis=1)\n",
    "evaluate_model(argmax_pred_df_2_cross_df_6, argmax_Y_test_df_6)\n",
    "\n",
    "pred_df_2_cross_df_7 = loaded_model_df_2.predict(X_df_7_test)\n",
    "argmax_pred_df_2_cross_df_7 = np.argmax(pred_df_2_cross_df_7, axis=1)\n",
    "evaluate_model(argmax_pred_df_2_cross_df_7, argmax_Y_test_df_7)\n",
    "\n",
    "pred_df_2_cross_df_8 = loaded_model_df_2.predict(X_df_8_test)\n",
    "argmax_pred_df_2_cross_df_8 = np.argmax(pred_df_2_cross_df_8, axis=1)\n",
    "evaluate_model(argmax_pred_df_2_cross_df_8, argmax_Y_test_df_8)\n",
    "\n",
    "pred_df_2_cross_df_9 = loaded_model_df_2.predict(X_df_9_test)\n",
    "argmax_pred_df_2_cross_df_9 = np.argmax(pred_df_2_cross_df_9, axis=1)\n",
    "evaluate_model(argmax_pred_df_2_cross_df_9, argmax_Y_test_df_9)"
   ]
  },
  {
   "cell_type": "code",
   "execution_count": 116,
   "id": "8b1ac69c",
   "metadata": {},
   "outputs": [
    {
     "name": "stdout",
     "output_type": "stream",
     "text": [
      "9547/9547 [==============================] - 16s 2ms/step\n",
      "Test Accuracy: 0.978\n",
      "Macro Test Precision: 0.980\n",
      "Macro Test Recall: 0.937\n",
      "Macro Test F1: 0.957\n",
      "3333/3333 [==============================] - 5s 1ms/step\n",
      "Test Accuracy: 0.597\n",
      "Macro Test Precision: 0.646\n",
      "Macro Test Recall: 0.278\n",
      "Macro Test F1: 0.361\n"
     ]
    },
    {
     "name": "stderr",
     "output_type": "stream",
     "text": [
      "/usr/local/lib/python3.10/dist-packages/sklearn/metrics/_classification.py:1471: UndefinedMetricWarning: Recall is ill-defined and being set to 0.0 in labels with no true samples. Use `zero_division` parameter to control this behavior.\n",
      "  _warn_prf(average, modifier, msg_start, len(result))\n"
     ]
    },
    {
     "name": "stdout",
     "output_type": "stream",
     "text": [
      "10301/10301 [==============================] - 14s 1ms/step\n",
      "Test Accuracy: 0.965\n",
      "Macro Test Precision: 0.964\n",
      "Macro Test Recall: 0.938\n",
      "Macro Test F1: 0.947\n",
      "7765/7765 [==============================] - 13s 2ms/step\n",
      "Test Accuracy: 0.976\n",
      "Macro Test Precision: 0.980\n",
      "Macro Test Recall: 0.930\n",
      "Macro Test F1: 0.952\n",
      "7846/7846 [==============================] - 13s 2ms/step\n",
      "Test Accuracy: 0.966\n",
      "Macro Test Precision: 0.972\n",
      "Macro Test Recall: 0.919\n",
      "Macro Test F1: 0.940\n",
      "8092/8092 [==============================] - 12s 1ms/step\n",
      "Test Accuracy: 0.982\n",
      "Macro Test Precision: 0.984\n",
      "Macro Test Recall: 0.901\n",
      "Macro Test F1: 0.934\n",
      "7977/7977 [==============================] - 12s 2ms/step\n",
      "Test Accuracy: 0.998\n",
      "Macro Test Precision: 0.994\n",
      "Macro Test Recall: 0.974\n",
      "Macro Test F1: 0.984\n",
      "3518/3518 [==============================] - 5s 2ms/step\n",
      "Test Accuracy: 0.831\n",
      "Macro Test Precision: 0.659\n",
      "Macro Test Recall: 0.363\n",
      "Macro Test F1: 0.406\n"
     ]
    },
    {
     "name": "stderr",
     "output_type": "stream",
     "text": [
      "/usr/local/lib/python3.10/dist-packages/sklearn/metrics/_classification.py:1471: UndefinedMetricWarning: Recall is ill-defined and being set to 0.0 in labels with no true samples. Use `zero_division` parameter to control this behavior.\n",
      "  _warn_prf(average, modifier, msg_start, len(result))\n"
     ]
    }
   ],
   "source": [
    "pred_df_3_cross_df_1 = loaded_model_df_3.predict(X_df_1_test)\n",
    "argmax_pred_df_3_cross_df_1 = np.argmax(pred_df_3_cross_df_1, axis=1)\n",
    "evaluate_model(argmax_pred_df_3_cross_df_1, argmax_Y_test_df_1)\n",
    "\n",
    "pred_df_3_cross_df_2 = loaded_model_df_3.predict(X_df_2_test)\n",
    "argmax_pred_df_3_cross_df_2 = np.argmax(pred_df_3_cross_df_2, axis=1)\n",
    "evaluate_model(argmax_pred_df_3_cross_df_2, argmax_Y_test_df_2)\n",
    "\n",
    "pred_df_3_cross_df_4 = loaded_model_df_3.predict(X_df_4_test)\n",
    "argmax_pred_df_3_cross_df_4 = np.argmax(pred_df_3_cross_df_4, axis=1)\n",
    "evaluate_model(argmax_pred_df_3_cross_df_4, argmax_Y_test_df_4)\n",
    "\n",
    "pred_df_3_cross_df_5 = loaded_model_df_3.predict(X_df_5_test)\n",
    "argmax_pred_df_3_cross_df_5 = np.argmax(pred_df_3_cross_df_5, axis=1)\n",
    "evaluate_model(argmax_pred_df_3_cross_df_5, argmax_Y_test_df_5)\n",
    "\n",
    "pred_df_3_cross_df_6 = loaded_model_df_3.predict(X_df_6_test)\n",
    "argmax_pred_df_3_cross_df_6 = np.argmax(pred_df_3_cross_df_6, axis=1)\n",
    "evaluate_model(argmax_pred_df_3_cross_df_6, argmax_Y_test_df_6)\n",
    "\n",
    "pred_df_3_cross_df_7 = loaded_model_df_3.predict(X_df_7_test)\n",
    "argmax_pred_df_3_cross_df_7 = np.argmax(pred_df_3_cross_df_7, axis=1)\n",
    "evaluate_model(argmax_pred_df_3_cross_df_7, argmax_Y_test_df_7)\n",
    "\n",
    "pred_df_3_cross_df_8 = loaded_model_df_3.predict(X_df_8_test)\n",
    "argmax_pred_df_3_cross_df_8 = np.argmax(pred_df_3_cross_df_8, axis=1)\n",
    "evaluate_model(argmax_pred_df_3_cross_df_8, argmax_Y_test_df_8)\n",
    "\n",
    "pred_df_3_cross_df_9 = loaded_model_df_3.predict(X_df_9_test)\n",
    "argmax_pred_df_3_cross_df_9 = np.argmax(pred_df_3_cross_df_9, axis=1)\n",
    "evaluate_model(argmax_pred_df_3_cross_df_9, argmax_Y_test_df_9)"
   ]
  },
  {
   "cell_type": "code",
   "execution_count": 117,
   "id": "c7c7d8b7",
   "metadata": {},
   "outputs": [
    {
     "name": "stdout",
     "output_type": "stream",
     "text": [
      "9547/9547 [==============================] - 14s 1ms/step\n",
      "Test Accuracy: 0.994\n",
      "Macro Test Precision: 0.990\n",
      "Macro Test Recall: 0.994\n",
      "Macro Test F1: 0.992\n",
      "3333/3333 [==============================] - 3s 1ms/step\n",
      "Test Accuracy: 0.794\n",
      "Macro Test Precision: 0.618\n",
      "Macro Test Recall: 0.568\n",
      "Macro Test F1: 0.588\n"
     ]
    },
    {
     "name": "stderr",
     "output_type": "stream",
     "text": [
      "/usr/local/lib/python3.10/dist-packages/sklearn/metrics/_classification.py:1471: UndefinedMetricWarning: Recall is ill-defined and being set to 0.0 in labels with no true samples. Use `zero_division` parameter to control this behavior.\n",
      "  _warn_prf(average, modifier, msg_start, len(result))\n"
     ]
    },
    {
     "name": "stdout",
     "output_type": "stream",
     "text": [
      "7837/7837 [==============================] - 11s 1ms/step\n",
      "Test Accuracy: 0.959\n",
      "Macro Test Precision: 0.955\n",
      "Macro Test Recall: 0.965\n",
      "Macro Test F1: 0.959\n",
      "7765/7765 [==============================] - 14s 2ms/step\n",
      "Test Accuracy: 0.994\n",
      "Macro Test Precision: 0.993\n",
      "Macro Test Recall: 0.992\n",
      "Macro Test F1: 0.993\n",
      "7846/7846 [==============================] - 14s 2ms/step\n",
      "Test Accuracy: 0.989\n",
      "Macro Test Precision: 0.991\n",
      "Macro Test Recall: 0.983\n",
      "Macro Test F1: 0.987\n",
      "8092/8092 [==============================] - 9s 1ms/step\n",
      "Test Accuracy: 0.945\n",
      "Macro Test Precision: 0.945\n",
      "Macro Test Recall: 0.835\n",
      "Macro Test F1: 0.875\n",
      "7977/7977 [==============================] - 10s 1ms/step\n",
      "Test Accuracy: 0.950\n",
      "Macro Test Precision: 0.888\n",
      "Macro Test Recall: 0.785\n",
      "Macro Test F1: 0.821\n",
      "3518/3518 [==============================] - 5s 1ms/step\n",
      "Test Accuracy: 0.861\n",
      "Macro Test Precision: 0.664\n",
      "Macro Test Recall: 0.481\n",
      "Macro Test F1: 0.548\n"
     ]
    },
    {
     "name": "stderr",
     "output_type": "stream",
     "text": [
      "/usr/local/lib/python3.10/dist-packages/sklearn/metrics/_classification.py:1471: UndefinedMetricWarning: Recall is ill-defined and being set to 0.0 in labels with no true samples. Use `zero_division` parameter to control this behavior.\n",
      "  _warn_prf(average, modifier, msg_start, len(result))\n"
     ]
    }
   ],
   "source": [
    "pred_df_4_cross_df_1 = loaded_model_df_4.predict(X_df_1_test)\n",
    "argmax_pred_df_4_cross_df_1 = np.argmax(pred_df_4_cross_df_1, axis=1)\n",
    "evaluate_model(argmax_pred_df_4_cross_df_1, argmax_Y_test_df_1)\n",
    "\n",
    "pred_df_4_cross_df_2 = loaded_model_df_4.predict(X_df_2_test)\n",
    "argmax_pred_df_4_cross_df_2 = np.argmax(pred_df_4_cross_df_2, axis=1)\n",
    "evaluate_model(argmax_pred_df_4_cross_df_2, argmax_Y_test_df_2)\n",
    "\n",
    "pred_df_4_cross_df_3 = loaded_model_df_4.predict(X_df_3_test)\n",
    "argmax_pred_df_4_cross_df_3 = np.argmax(pred_df_4_cross_df_3, axis=1)\n",
    "evaluate_model(argmax_pred_df_4_cross_df_3, argmax_Y_test_df_3)\n",
    "\n",
    "pred_df_4_cross_df_5 = loaded_model_df_4.predict(X_df_5_test)\n",
    "argmax_pred_df_4_cross_df_5 = np.argmax(pred_df_4_cross_df_5, axis=1)\n",
    "evaluate_model(argmax_pred_df_4_cross_df_5, argmax_Y_test_df_5)\n",
    "\n",
    "pred_df_4_cross_df_6 = loaded_model_df_4.predict(X_df_6_test)\n",
    "argmax_pred_df_4_cross_df_6 = np.argmax(pred_df_4_cross_df_6, axis=1)\n",
    "evaluate_model(argmax_pred_df_4_cross_df_6, argmax_Y_test_df_6)\n",
    "\n",
    "pred_df_4_cross_df_7 = loaded_model_df_4.predict(X_df_7_test)\n",
    "argmax_pred_df_4_cross_df_7 = np.argmax(pred_df_4_cross_df_7, axis=1)\n",
    "evaluate_model(argmax_pred_df_4_cross_df_7, argmax_Y_test_df_7)\n",
    "\n",
    "pred_df_4_cross_df_8 = loaded_model_df_4.predict(X_df_8_test)\n",
    "argmax_pred_df_4_cross_df_8 = np.argmax(pred_df_4_cross_df_8, axis=1)\n",
    "evaluate_model(argmax_pred_df_4_cross_df_8, argmax_Y_test_df_8)\n",
    "\n",
    "pred_df_4_cross_df_9 = loaded_model_df_4.predict(X_df_9_test)\n",
    "argmax_pred_df_4_cross_df_9 = np.argmax(pred_df_4_cross_df_9, axis=1)\n",
    "evaluate_model(argmax_pred_df_4_cross_df_9, argmax_Y_test_df_9)"
   ]
  },
  {
   "cell_type": "code",
   "execution_count": 118,
   "id": "34d00460",
   "metadata": {},
   "outputs": [
    {
     "name": "stdout",
     "output_type": "stream",
     "text": [
      "9547/9547 [==============================] - 16s 2ms/step\n",
      "Test Accuracy: 0.957\n",
      "Macro Test Precision: 0.944\n",
      "Macro Test Recall: 0.975\n",
      "Macro Test F1: 0.958\n",
      "3333/3333 [==============================] - 6s 2ms/step\n",
      "Test Accuracy: 0.855\n",
      "Macro Test Precision: 0.626\n",
      "Macro Test Recall: 0.370\n",
      "Macro Test F1: 0.412\n"
     ]
    },
    {
     "name": "stderr",
     "output_type": "stream",
     "text": [
      "/usr/local/lib/python3.10/dist-packages/sklearn/metrics/_classification.py:1471: UndefinedMetricWarning: Recall is ill-defined and being set to 0.0 in labels with no true samples. Use `zero_division` parameter to control this behavior.\n",
      "  _warn_prf(average, modifier, msg_start, len(result))\n"
     ]
    },
    {
     "name": "stdout",
     "output_type": "stream",
     "text": [
      "7837/7837 [==============================] - 13s 2ms/step\n",
      "Test Accuracy: 0.888\n",
      "Macro Test Precision: 0.828\n",
      "Macro Test Recall: 0.892\n",
      "Macro Test F1: 0.856\n",
      "10301/10301 [==============================] - 18s 2ms/step\n",
      "Test Accuracy: 0.994\n",
      "Macro Test Precision: 0.994\n",
      "Macro Test Recall: 0.988\n",
      "Macro Test F1: 0.991\n",
      "7846/7846 [==============================] - 13s 2ms/step\n",
      "Test Accuracy: 0.999\n",
      "Macro Test Precision: 0.999\n",
      "Macro Test Recall: 0.998\n",
      "Macro Test F1: 0.999\n",
      "8092/8092 [==============================] - 13s 2ms/step\n",
      "Test Accuracy: 0.895\n",
      "Macro Test Precision: 0.894\n",
      "Macro Test Recall: 0.910\n",
      "Macro Test F1: 0.902\n",
      "7977/7977 [==============================] - 14s 2ms/step\n",
      "Test Accuracy: 0.893\n",
      "Macro Test Precision: 0.859\n",
      "Macro Test Recall: 0.907\n",
      "Macro Test F1: 0.881\n",
      "3518/3518 [==============================] - 6s 2ms/step\n",
      "Test Accuracy: 0.858\n",
      "Macro Test Precision: 0.662\n",
      "Macro Test Recall: 0.390\n",
      "Macro Test F1: 0.440\n"
     ]
    },
    {
     "name": "stderr",
     "output_type": "stream",
     "text": [
      "/usr/local/lib/python3.10/dist-packages/sklearn/metrics/_classification.py:1471: UndefinedMetricWarning: Recall is ill-defined and being set to 0.0 in labels with no true samples. Use `zero_division` parameter to control this behavior.\n",
      "  _warn_prf(average, modifier, msg_start, len(result))\n"
     ]
    }
   ],
   "source": [
    "pred_df_5_cross_df_1 = loaded_model_df_5.predict(X_df_1_test)\n",
    "argmax_pred_df_5_cross_df_1 = np.argmax(pred_df_5_cross_df_1, axis=1)\n",
    "evaluate_model(argmax_pred_df_5_cross_df_1, argmax_Y_test_df_1)\n",
    "\n",
    "pred_df_5_cross_df_2 = loaded_model_df_5.predict(X_df_2_test)\n",
    "argmax_pred_df_5_cross_df_2 = np.argmax(pred_df_5_cross_df_2, axis=1)\n",
    "evaluate_model(argmax_pred_df_5_cross_df_2, argmax_Y_test_df_2)\n",
    "\n",
    "pred_df_5_cross_df_3 = loaded_model_df_5.predict(X_df_3_test)\n",
    "argmax_pred_df_5_cross_df_3 = np.argmax(pred_df_5_cross_df_3, axis=1)\n",
    "evaluate_model(argmax_pred_df_5_cross_df_3, argmax_Y_test_df_3)\n",
    "\n",
    "pred_df_5_cross_df_4 = loaded_model_df_5.predict(X_df_4_test)\n",
    "argmax_pred_df_5_cross_df_4 = np.argmax(pred_df_5_cross_df_4, axis=1)\n",
    "evaluate_model(argmax_pred_df_5_cross_df_4, argmax_Y_test_df_4)\n",
    "\n",
    "pred_df_5_cross_df_6 = loaded_model_df_5.predict(X_df_6_test)\n",
    "argmax_pred_df_5_cross_df_6 = np.argmax(pred_df_5_cross_df_6, axis=1)\n",
    "evaluate_model(argmax_pred_df_5_cross_df_6, argmax_Y_test_df_6)\n",
    "\n",
    "pred_df_5_cross_df_7 = loaded_model_df_5.predict(X_df_7_test)\n",
    "argmax_pred_df_5_cross_df_7 = np.argmax(pred_df_5_cross_df_7, axis=1)\n",
    "evaluate_model(argmax_pred_df_5_cross_df_7, argmax_Y_test_df_7)\n",
    "\n",
    "pred_df_5_cross_df_8 = loaded_model_df_5.predict(X_df_8_test)\n",
    "argmax_pred_df_5_cross_df_8 = np.argmax(pred_df_5_cross_df_8, axis=1)\n",
    "evaluate_model(argmax_pred_df_5_cross_df_8, argmax_Y_test_df_8)\n",
    "\n",
    "pred_df_5_cross_df_9 = loaded_model_df_5.predict(X_df_9_test)\n",
    "argmax_pred_df_5_cross_df_9 = np.argmax(pred_df_5_cross_df_9, axis=1)\n",
    "evaluate_model(argmax_pred_df_5_cross_df_9, argmax_Y_test_df_9)"
   ]
  },
  {
   "cell_type": "code",
   "execution_count": 119,
   "id": "c459df37",
   "metadata": {},
   "outputs": [
    {
     "name": "stdout",
     "output_type": "stream",
     "text": [
      "9547/9547 [==============================] - 13s 1ms/step\n",
      "Test Accuracy: 0.688\n",
      "Macro Test Precision: 0.561\n",
      "Macro Test Recall: 0.722\n",
      "Macro Test F1: 0.544\n",
      "3333/3333 [==============================] - 5s 2ms/step\n",
      "Test Accuracy: 0.893\n",
      "Macro Test Precision: 0.648\n",
      "Macro Test Recall: 0.445\n",
      "Macro Test F1: 0.504\n"
     ]
    },
    {
     "name": "stderr",
     "output_type": "stream",
     "text": [
      "/usr/local/lib/python3.10/dist-packages/sklearn/metrics/_classification.py:1471: UndefinedMetricWarning: Recall is ill-defined and being set to 0.0 in labels with no true samples. Use `zero_division` parameter to control this behavior.\n",
      "  _warn_prf(average, modifier, msg_start, len(result))\n"
     ]
    },
    {
     "name": "stdout",
     "output_type": "stream",
     "text": [
      "7837/7837 [==============================] - 12s 2ms/step\n",
      "Test Accuracy: 0.926\n",
      "Macro Test Precision: 0.806\n",
      "Macro Test Recall: 0.940\n",
      "Macro Test F1: 0.855\n",
      "10301/10301 [==============================] - 16s 2ms/step\n",
      "Test Accuracy: 0.985\n",
      "Macro Test Precision: 0.983\n",
      "Macro Test Recall: 0.986\n",
      "Macro Test F1: 0.985\n",
      "7765/7765 [==============================] - 11s 1ms/step\n",
      "Test Accuracy: 0.998\n",
      "Macro Test Precision: 0.998\n",
      "Macro Test Recall: 0.998\n",
      "Macro Test F1: 0.998\n",
      "8092/8092 [==============================] - 11s 1ms/step\n",
      "Test Accuracy: 0.926\n",
      "Macro Test Precision: 0.894\n",
      "Macro Test Recall: 0.937\n",
      "Macro Test F1: 0.913\n",
      "7977/7977 [==============================] - 15s 2ms/step\n",
      "Test Accuracy: 0.924\n",
      "Macro Test Precision: 0.838\n",
      "Macro Test Recall: 0.943\n",
      "Macro Test F1: 0.880\n",
      "3518/3518 [==============================] - 4s 1ms/step\n",
      "Test Accuracy: 0.831\n",
      "Macro Test Precision: 0.659\n",
      "Macro Test Recall: 0.383\n",
      "Macro Test F1: 0.438\n"
     ]
    },
    {
     "name": "stderr",
     "output_type": "stream",
     "text": [
      "/usr/local/lib/python3.10/dist-packages/sklearn/metrics/_classification.py:1471: UndefinedMetricWarning: Recall is ill-defined and being set to 0.0 in labels with no true samples. Use `zero_division` parameter to control this behavior.\n",
      "  _warn_prf(average, modifier, msg_start, len(result))\n"
     ]
    }
   ],
   "source": [
    "pred_df_6_cross_df_1 = loaded_model_df_6.predict(X_df_1_test)\n",
    "argmax_pred_df_6_cross_df_1 = np.argmax(pred_df_6_cross_df_1, axis=1)\n",
    "evaluate_model(argmax_pred_df_6_cross_df_1, argmax_Y_test_df_1)\n",
    "\n",
    "pred_df_6_cross_df_2 = loaded_model_df_6.predict(X_df_2_test)\n",
    "argmax_pred_df_6_cross_df_2 = np.argmax(pred_df_6_cross_df_2, axis=1)\n",
    "evaluate_model(argmax_pred_df_6_cross_df_2, argmax_Y_test_df_2)\n",
    "\n",
    "pred_df_6_cross_df_3 = loaded_model_df_6.predict(X_df_3_test)\n",
    "argmax_pred_df_6_cross_df_3 = np.argmax(pred_df_6_cross_df_3, axis=1)\n",
    "evaluate_model(argmax_pred_df_6_cross_df_3, argmax_Y_test_df_3)\n",
    "\n",
    "pred_df_6_cross_df_4 = loaded_model_df_6.predict(X_df_4_test)\n",
    "argmax_pred_df_6_cross_df_4 = np.argmax(pred_df_6_cross_df_4, axis=1)\n",
    "evaluate_model(argmax_pred_df_6_cross_df_4, argmax_Y_test_df_4)\n",
    "\n",
    "pred_df_6_cross_df_5 = loaded_model_df_6.predict(X_df_5_test)\n",
    "argmax_pred_df_6_cross_df_5 = np.argmax(pred_df_6_cross_df_5, axis=1)\n",
    "evaluate_model(argmax_pred_df_6_cross_df_5, argmax_Y_test_df_5)\n",
    "\n",
    "pred_df_6_cross_df_7 = loaded_model_df_6.predict(X_df_7_test)\n",
    "argmax_pred_df_6_cross_df_7 = np.argmax(pred_df_6_cross_df_7, axis=1)\n",
    "evaluate_model(argmax_pred_df_6_cross_df_7, argmax_Y_test_df_7)\n",
    "\n",
    "pred_df_6_cross_df_8 = loaded_model_df_6.predict(X_df_8_test)\n",
    "argmax_pred_df_6_cross_df_8 = np.argmax(pred_df_6_cross_df_8, axis=1)\n",
    "evaluate_model(argmax_pred_df_6_cross_df_8, argmax_Y_test_df_8)\n",
    "\n",
    "pred_df_6_cross_df_9 = loaded_model_df_6.predict(X_df_9_test)\n",
    "argmax_pred_df_6_cross_df_9 = np.argmax(pred_df_6_cross_df_9, axis=1)\n",
    "evaluate_model(argmax_pred_df_6_cross_df_9, argmax_Y_test_df_9)"
   ]
  },
  {
   "cell_type": "code",
   "execution_count": 120,
   "id": "ee0696bf",
   "metadata": {},
   "outputs": [
    {
     "name": "stdout",
     "output_type": "stream",
     "text": [
      "9547/9547 [==============================] - 14s 1ms/step\n",
      "Test Accuracy: 0.990\n",
      "Macro Test Precision: 0.988\n",
      "Macro Test Recall: 0.990\n",
      "Macro Test F1: 0.989\n",
      "3333/3333 [==============================] - 6s 2ms/step\n",
      "Test Accuracy: 0.269\n",
      "Macro Test Precision: 0.536\n",
      "Macro Test Recall: 0.199\n",
      "Macro Test F1: 0.284\n"
     ]
    },
    {
     "name": "stderr",
     "output_type": "stream",
     "text": [
      "/usr/local/lib/python3.10/dist-packages/sklearn/metrics/_classification.py:1471: UndefinedMetricWarning: Recall is ill-defined and being set to 0.0 in labels with no true samples. Use `zero_division` parameter to control this behavior.\n",
      "  _warn_prf(average, modifier, msg_start, len(result))\n"
     ]
    },
    {
     "name": "stdout",
     "output_type": "stream",
     "text": [
      "7837/7837 [==============================] - 13s 2ms/step\n",
      "Test Accuracy: 0.998\n",
      "Macro Test Precision: 0.993\n",
      "Macro Test Recall: 0.971\n",
      "Macro Test F1: 0.981\n",
      "10301/10301 [==============================] - 13s 1ms/step\n",
      "Test Accuracy: 0.957\n",
      "Macro Test Precision: 0.956\n",
      "Macro Test Recall: 0.937\n",
      "Macro Test F1: 0.943\n",
      "7765/7765 [==============================] - 12s 2ms/step\n",
      "Test Accuracy: 0.951\n",
      "Macro Test Precision: 0.962\n",
      "Macro Test Recall: 0.848\n",
      "Macro Test F1: 0.887\n",
      "7846/7846 [==============================] - 13s 2ms/step\n",
      "Test Accuracy: 0.924\n",
      "Macro Test Precision: 0.941\n",
      "Macro Test Recall: 0.832\n",
      "Macro Test F1: 0.865\n",
      "7977/7977 [==============================] - 11s 1ms/step\n",
      "Test Accuracy: 0.999\n",
      "Macro Test Precision: 0.995\n",
      "Macro Test Recall: 0.996\n",
      "Macro Test F1: 0.995\n",
      "3518/3518 [==============================] - 4s 1ms/step\n",
      "Test Accuracy: 0.837\n",
      "Macro Test Precision: 0.483\n",
      "Macro Test Recall: 0.344\n",
      "Macro Test F1: 0.366\n"
     ]
    },
    {
     "name": "stderr",
     "output_type": "stream",
     "text": [
      "/usr/local/lib/python3.10/dist-packages/sklearn/metrics/_classification.py:1471: UndefinedMetricWarning: Recall is ill-defined and being set to 0.0 in labels with no true samples. Use `zero_division` parameter to control this behavior.\n",
      "  _warn_prf(average, modifier, msg_start, len(result))\n"
     ]
    }
   ],
   "source": [
    "pred_df_7_cross_df_1 = loaded_model_df_7.predict(X_df_1_test)\n",
    "argmax_pred_df_7_cross_df_1 = np.argmax(pred_df_7_cross_df_1, axis=1)\n",
    "evaluate_model(argmax_pred_df_7_cross_df_1, argmax_Y_test_df_1)\n",
    "\n",
    "pred_df_7_cross_df_2 = loaded_model_df_7.predict(X_df_2_test)\n",
    "argmax_pred_df_7_cross_df_2 = np.argmax(pred_df_7_cross_df_2, axis=1)\n",
    "evaluate_model(argmax_pred_df_7_cross_df_2, argmax_Y_test_df_2)\n",
    "\n",
    "pred_df_7_cross_df_3 = loaded_model_df_7.predict(X_df_3_test)\n",
    "argmax_pred_df_7_cross_df_3 = np.argmax(pred_df_7_cross_df_3, axis=1)\n",
    "evaluate_model(argmax_pred_df_7_cross_df_3, argmax_Y_test_df_3)\n",
    "\n",
    "pred_df_7_cross_df_4 = loaded_model_df_7.predict(X_df_4_test)\n",
    "argmax_pred_df_7_cross_df_4 = np.argmax(pred_df_7_cross_df_4, axis=1)\n",
    "evaluate_model(argmax_pred_df_7_cross_df_4, argmax_Y_test_df_4)\n",
    "\n",
    "pred_df_7_cross_df_5 = loaded_model_df_7.predict(X_df_5_test)\n",
    "argmax_pred_df_7_cross_df_5 = np.argmax(pred_df_7_cross_df_5, axis=1)\n",
    "evaluate_model(argmax_pred_df_7_cross_df_5, argmax_Y_test_df_5)\n",
    "\n",
    "pred_df_7_cross_df_6 = loaded_model_df_7.predict(X_df_6_test)\n",
    "argmax_pred_df_7_cross_df_6 = np.argmax(pred_df_7_cross_df_6, axis=1)\n",
    "evaluate_model(argmax_pred_df_7_cross_df_6, argmax_Y_test_df_6)\n",
    "\n",
    "pred_df_7_cross_df_8 = loaded_model_df_7.predict(X_df_8_test)\n",
    "argmax_pred_df_7_cross_df_8 = np.argmax(pred_df_7_cross_df_8, axis=1)\n",
    "evaluate_model(argmax_pred_df_7_cross_df_8, argmax_Y_test_df_8)\n",
    "\n",
    "pred_df_7_cross_df_9 = loaded_model_df_7.predict(X_df_9_test)\n",
    "argmax_pred_df_7_cross_df_9 = np.argmax(pred_df_7_cross_df_9, axis=1)\n",
    "evaluate_model(argmax_pred_df_7_cross_df_9, argmax_Y_test_df_9)"
   ]
  },
  {
   "cell_type": "code",
   "execution_count": 121,
   "id": "42ba6bac",
   "metadata": {},
   "outputs": [
    {
     "name": "stdout",
     "output_type": "stream",
     "text": [
      "9547/9547 [==============================] - 16s 2ms/step\n",
      "Test Accuracy: 0.984\n",
      "Macro Test Precision: 0.983\n",
      "Macro Test Recall: 0.918\n",
      "Macro Test F1: 0.945\n",
      "3333/3333 [==============================] - 5s 2ms/step\n",
      "Test Accuracy: 0.616\n",
      "Macro Test Precision: 0.443\n",
      "Macro Test Recall: 0.324\n",
      "Macro Test F1: 0.372\n"
     ]
    },
    {
     "name": "stderr",
     "output_type": "stream",
     "text": [
      "/usr/local/lib/python3.10/dist-packages/sklearn/metrics/_classification.py:1471: UndefinedMetricWarning: Recall is ill-defined and being set to 0.0 in labels with no true samples. Use `zero_division` parameter to control this behavior.\n",
      "  _warn_prf(average, modifier, msg_start, len(result))\n"
     ]
    },
    {
     "name": "stdout",
     "output_type": "stream",
     "text": [
      "7837/7837 [==============================] - 9s 1ms/step\n",
      "Test Accuracy: 0.999\n",
      "Macro Test Precision: 0.992\n",
      "Macro Test Recall: 0.998\n",
      "Macro Test F1: 0.995\n",
      "10301/10301 [==============================] - 16s 2ms/step\n",
      "Test Accuracy: 0.987\n",
      "Macro Test Precision: 0.985\n",
      "Macro Test Recall: 0.983\n",
      "Macro Test F1: 0.984\n",
      "7765/7765 [==============================] - 10s 1ms/step\n",
      "Test Accuracy: 0.991\n",
      "Macro Test Precision: 0.982\n",
      "Macro Test Recall: 0.981\n",
      "Macro Test F1: 0.982\n",
      "7846/7846 [==============================] - 12s 1ms/step\n",
      "Test Accuracy: 0.993\n",
      "Macro Test Precision: 0.989\n",
      "Macro Test Recall: 0.986\n",
      "Macro Test F1: 0.988\n",
      "8092/8092 [==============================] - 13s 2ms/step\n",
      "Test Accuracy: 0.994\n",
      "Macro Test Precision: 0.991\n",
      "Macro Test Recall: 0.972\n",
      "Macro Test F1: 0.981\n",
      "3518/3518 [==============================] - 4s 1ms/step\n",
      "Test Accuracy: 0.790\n",
      "Macro Test Precision: 0.641\n",
      "Macro Test Recall: 0.365\n",
      "Macro Test F1: 0.427\n"
     ]
    },
    {
     "name": "stderr",
     "output_type": "stream",
     "text": [
      "/usr/local/lib/python3.10/dist-packages/sklearn/metrics/_classification.py:1471: UndefinedMetricWarning: Recall is ill-defined and being set to 0.0 in labels with no true samples. Use `zero_division` parameter to control this behavior.\n",
      "  _warn_prf(average, modifier, msg_start, len(result))\n"
     ]
    }
   ],
   "source": [
    "pred_df_8_cross_df_1 = loaded_model_df_8.predict(X_df_1_test)\n",
    "argmax_pred_df_8_cross_df_1 = np.argmax(pred_df_8_cross_df_1, axis=1)\n",
    "evaluate_model(argmax_pred_df_8_cross_df_1, argmax_Y_test_df_1)\n",
    "\n",
    "pred_df_8_cross_df_2 = loaded_model_df_8.predict(X_df_2_test)\n",
    "argmax_pred_df_8_cross_df_2 = np.argmax(pred_df_8_cross_df_2, axis=1)\n",
    "evaluate_model(argmax_pred_df_8_cross_df_2, argmax_Y_test_df_2)\n",
    "\n",
    "pred_df_8_cross_df_3 = loaded_model_df_8.predict(X_df_3_test)\n",
    "argmax_pred_df_8_cross_df_3 = np.argmax(pred_df_8_cross_df_3, axis=1)\n",
    "evaluate_model(argmax_pred_df_8_cross_df_3, argmax_Y_test_df_3)\n",
    "\n",
    "pred_df_8_cross_df_4 = loaded_model_df_8.predict(X_df_4_test)\n",
    "argmax_pred_df_8_cross_df_4 = np.argmax(pred_df_8_cross_df_4, axis=1)\n",
    "evaluate_model(argmax_pred_df_8_cross_df_4, argmax_Y_test_df_4)\n",
    "\n",
    "pred_df_8_cross_df_5 = loaded_model_df_8.predict(X_df_5_test)\n",
    "argmax_pred_df_8_cross_df_5 = np.argmax(pred_df_8_cross_df_5, axis=1)\n",
    "evaluate_model(argmax_pred_df_8_cross_df_5, argmax_Y_test_df_5)\n",
    "\n",
    "pred_df_8_cross_df_6 = loaded_model_df_8.predict(X_df_6_test)\n",
    "argmax_pred_df_8_cross_df_6 = np.argmax(pred_df_8_cross_df_6, axis=1)\n",
    "evaluate_model(argmax_pred_df_8_cross_df_6, argmax_Y_test_df_6)\n",
    "\n",
    "pred_df_8_cross_df_7 = loaded_model_df_8.predict(X_df_7_test)\n",
    "argmax_pred_df_8_cross_df_7 = np.argmax(pred_df_8_cross_df_7, axis=1)\n",
    "evaluate_model(argmax_pred_df_8_cross_df_7, argmax_Y_test_df_7)\n",
    "\n",
    "pred_df_8_cross_df_9 = loaded_model_df_8.predict(X_df_9_test)\n",
    "argmax_pred_df_8_cross_df_9 = np.argmax(pred_df_8_cross_df_9, axis=1)\n",
    "evaluate_model(argmax_pred_df_8_cross_df_9, argmax_Y_test_df_9)"
   ]
  },
  {
   "cell_type": "code",
   "execution_count": 123,
   "id": "1bf9bab4",
   "metadata": {},
   "outputs": [
    {
     "name": "stdout",
     "output_type": "stream",
     "text": [
      "9547/9547 [==============================] - 16s 2ms/step\n",
      "Test Accuracy: 0.358\n",
      "Macro Test Precision: 0.208\n",
      "Macro Test Recall: 0.662\n"
     ]
    },
    {
     "name": "stderr",
     "output_type": "stream",
     "text": [
      "/usr/local/lib/python3.10/dist-packages/sklearn/metrics/_classification.py:1471: UndefinedMetricWarning: Precision is ill-defined and being set to 0.0 in labels with no predicted samples. Use `zero_division` parameter to control this behavior.\n",
      "  _warn_prf(average, modifier, msg_start, len(result))\n"
     ]
    },
    {
     "name": "stdout",
     "output_type": "stream",
     "text": [
      "Macro Test F1: 0.313\n",
      "3333/3333 [==============================] - 4s 1ms/step\n",
      "Test Accuracy: 0.970\n",
      "Macro Test Precision: 0.897\n",
      "Macro Test Recall: 0.977\n",
      "Macro Test F1: 0.932\n",
      "7837/7837 [==============================] - 11s 1ms/step\n",
      "Test Accuracy: 0.387\n",
      "Macro Test Precision: 0.180\n",
      "Macro Test Recall: 0.664\n",
      "Macro Test F1: 0.259\n"
     ]
    },
    {
     "name": "stderr",
     "output_type": "stream",
     "text": [
      "/usr/local/lib/python3.10/dist-packages/sklearn/metrics/_classification.py:1471: UndefinedMetricWarning: Precision is ill-defined and being set to 0.0 in labels with no predicted samples. Use `zero_division` parameter to control this behavior.\n",
      "  _warn_prf(average, modifier, msg_start, len(result))\n"
     ]
    },
    {
     "name": "stdout",
     "output_type": "stream",
     "text": [
      "10301/10301 [==============================] - 13s 1ms/step\n",
      "Test Accuracy: 0.395\n",
      "Macro Test Precision: 0.299\n",
      "Macro Test Recall: 0.565\n"
     ]
    },
    {
     "name": "stderr",
     "output_type": "stream",
     "text": [
      "/usr/local/lib/python3.10/dist-packages/sklearn/metrics/_classification.py:1471: UndefinedMetricWarning: Precision is ill-defined and being set to 0.0 in labels with no predicted samples. Use `zero_division` parameter to control this behavior.\n",
      "  _warn_prf(average, modifier, msg_start, len(result))\n"
     ]
    },
    {
     "name": "stdout",
     "output_type": "stream",
     "text": [
      "Macro Test F1: 0.378\n",
      "7765/7765 [==============================] - 12s 2ms/step\n",
      "Test Accuracy: 0.457\n",
      "Macro Test Precision: 0.255\n",
      "Macro Test Recall: 0.593\n"
     ]
    },
    {
     "name": "stderr",
     "output_type": "stream",
     "text": [
      "/usr/local/lib/python3.10/dist-packages/sklearn/metrics/_classification.py:1471: UndefinedMetricWarning: Precision is ill-defined and being set to 0.0 in labels with no predicted samples. Use `zero_division` parameter to control this behavior.\n",
      "  _warn_prf(average, modifier, msg_start, len(result))\n"
     ]
    },
    {
     "name": "stdout",
     "output_type": "stream",
     "text": [
      "Macro Test F1: 0.352\n",
      "7846/7846 [==============================] - 10s 1ms/step\n",
      "Test Accuracy: 0.472\n",
      "Macro Test Precision: 0.296\n",
      "Macro Test Recall: 0.626\n",
      "Macro Test F1: 0.401\n"
     ]
    },
    {
     "name": "stderr",
     "output_type": "stream",
     "text": [
      "/usr/local/lib/python3.10/dist-packages/sklearn/metrics/_classification.py:1471: UndefinedMetricWarning: Precision is ill-defined and being set to 0.0 in labels with no predicted samples. Use `zero_division` parameter to control this behavior.\n",
      "  _warn_prf(average, modifier, msg_start, len(result))\n"
     ]
    },
    {
     "name": "stdout",
     "output_type": "stream",
     "text": [
      "8092/8092 [==============================] - 12s 2ms/step\n",
      "Test Accuracy: 0.401\n",
      "Macro Test Precision: 0.226\n"
     ]
    },
    {
     "name": "stderr",
     "output_type": "stream",
     "text": [
      "/usr/local/lib/python3.10/dist-packages/sklearn/metrics/_classification.py:1471: UndefinedMetricWarning: Precision is ill-defined and being set to 0.0 in labels with no predicted samples. Use `zero_division` parameter to control this behavior.\n",
      "  _warn_prf(average, modifier, msg_start, len(result))\n"
     ]
    },
    {
     "name": "stdout",
     "output_type": "stream",
     "text": [
      "Macro Test Recall: 0.644\n",
      "Macro Test F1: 0.328\n",
      "7977/7977 [==============================] - 13s 2ms/step\n",
      "Test Accuracy: 0.394\n",
      "Macro Test Precision: 0.193\n",
      "Macro Test Recall: 0.662\n",
      "Macro Test F1: 0.277\n"
     ]
    },
    {
     "name": "stderr",
     "output_type": "stream",
     "text": [
      "/usr/local/lib/python3.10/dist-packages/sklearn/metrics/_classification.py:1471: UndefinedMetricWarning: Precision is ill-defined and being set to 0.0 in labels with no predicted samples. Use `zero_division` parameter to control this behavior.\n",
      "  _warn_prf(average, modifier, msg_start, len(result))\n"
     ]
    }
   ],
   "source": [
    "pred_df_9_cross_df_1 = loaded_model_df_9.predict(X_df_1_test)\n",
    "argmax_pred_df_9_cross_df_1 = np.argmax(pred_df_9_cross_df_1, axis=1)\n",
    "evaluate_model(argmax_pred_df_9_cross_df_1, argmax_Y_test_df_1)\n",
    "\n",
    "pred_df_9_cross_df_2 = loaded_model_df_9.predict(X_df_2_test)\n",
    "argmax_pred_df_9_cross_df_2 = np.argmax(pred_df_9_cross_df_2, axis=1)\n",
    "evaluate_model(argmax_pred_df_9_cross_df_2, argmax_Y_test_df_2)\n",
    "\n",
    "pred_df_9_cross_df_3 = loaded_model_df_9.predict(X_df_3_test)\n",
    "argmax_pred_df_9_cross_df_3 = np.argmax(pred_df_9_cross_df_3, axis=1)\n",
    "evaluate_model(argmax_pred_df_9_cross_df_3, argmax_Y_test_df_3)\n",
    "\n",
    "pred_df_9_cross_df_4 = loaded_model_df_9.predict(X_df_4_test)\n",
    "argmax_pred_df_9_cross_df_4 = np.argmax(pred_df_9_cross_df_4, axis=1)\n",
    "evaluate_model(argmax_pred_df_9_cross_df_4, argmax_Y_test_df_4)\n",
    "\n",
    "pred_df_9_cross_df_5 = loaded_model_df_9.predict(X_df_5_test)\n",
    "argmax_pred_df_9_cross_df_5 = np.argmax(pred_df_9_cross_df_5, axis=1)\n",
    "evaluate_model(argmax_pred_df_9_cross_df_5, argmax_Y_test_df_5)\n",
    "\n",
    "pred_df_9_cross_df_6 = loaded_model_df_9.predict(X_df_6_test)\n",
    "argmax_pred_df_9_cross_df_6 = np.argmax(pred_df_9_cross_df_6, axis=1)\n",
    "evaluate_model(argmax_pred_df_9_cross_df_6, argmax_Y_test_df_6)\n",
    "\n",
    "pred_df_9_cross_df_7 = loaded_model_df_9.predict(X_df_7_test)\n",
    "argmax_pred_df_9_cross_df_7 = np.argmax(pred_df_9_cross_df_7, axis=1)\n",
    "evaluate_model(argmax_pred_df_9_cross_df_7, argmax_Y_test_df_7)\n",
    "\n",
    "pred_df_9_cross_df_8 = loaded_model_df_9.predict(X_df_8_test)\n",
    "argmax_pred_df_9_cross_df_8 = np.argmax(pred_df_9_cross_df_8, axis=1)\n",
    "evaluate_model(argmax_pred_df_9_cross_df_8, argmax_Y_test_df_8)"
   ]
  },
  {
   "cell_type": "code",
   "execution_count": 126,
   "id": "9fbd3fc6",
   "metadata": {},
   "outputs": [
    {
     "data": {
      "image/png": "[encoded data removed]",
      "text/plain": [
       "<IPython.core.display.Image object>"
      ]
     },
     "execution_count": 126,
     "metadata": {},
     "output_type": "execute_result"
    }
   ],
   "source": [
    "from keras.utils import plot_model\n",
    "plot_model(model_df_1, to_file='models/model_df1_plot.png', show_shapes=True, show_layer_names=True)"
   ]
  },
  {
   "cell_type": "code",
   "execution_count": null,
   "id": "d8daac43",
   "metadata": {},
   "outputs": [],
   "source": []
  }
 ],
 "metadata": {
  "kernelspec": {
   "display_name": "Python 3 (ipykernel)",
   "language": "python",
   "name": "python3"
  },
  "language_info": {
   "codemirror_mode": {
    "name": "ipython",
    "version": 3
   },
   "file_extension": ".py",
   "mimetype": "text/x-python",
   "name": "python",
   "nbconvert_exporter": "python",
   "pygments_lexer": "ipython3",
   "version": "3.10.12"
  }
 },
 "nbformat": 4,
 "nbformat_minor": 5
}
